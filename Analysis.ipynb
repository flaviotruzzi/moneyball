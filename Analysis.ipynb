{
 "cells": [
  {
   "cell_type": "code",
   "execution_count": null,
   "metadata": {},
   "outputs": [],
   "source": [
    "%matplotlib notebook\n",
    "\n",
    "import pandas as pd\n",
    "import matplotlib.pyplot as plt\n",
    "from utils.prepare_data import *\n",
    "\n",
    "from sklearn import *\n",
    "from pylab import *\n",
    "\n",
    "from __future__ import print_function\n",
    "from IPython.html.widgets import interact, interactive, fixed\n",
    "from IPython.html import widgets\n",
    "\n",
    "\n",
    "rounds = list(map(prepare_round,\n",
    "             ['./data/players-score-round-1.bz2',\n",
    "              './data/players-score-round-2.bz2',\n",
    "              './data/players-score-round-3.bz2',\n",
    "              './data/players-score-round-4.bz2',\n",
    "              './data/players-score-round-5.bz2',\n",
    "              './data/players-score-round-6.bz2',\n",
    "              './data/players-score-round-7.bz2',\n",
    "              './data/players-score-round-8.bz2']))\n",
    "\n",
    "parameters, _ = get_valid_scouts(rounds[0])\n",
    "\n",
    "parameters.extend(['points',\n",
    "                   'team_position',\n",
    "                   'status_code'])"
   ]
  },
  {
   "cell_type": "code",
   "execution_count": 89,
   "metadata": {},
   "outputs": [
    {
     "data": {
      "application/vnd.jupyter.widget-view+json": {
       "model_id": "236821b0f1354ba2a99009df6d7099be"
      }
     },
     "metadata": {},
     "output_type": "display_data"
    },
    {
     "data": {
      "text/plain": [
       "<function __main__.plot_point_hist>"
      ]
     },
     "execution_count": 89,
     "metadata": {},
     "output_type": "execute_result"
    }
   ],
   "source": [
    "%matplotlib notebook\n",
    "def plot_point_hist(x):\n",
    "    ax = rounds[x][rounds[x].status == 'likely'][[\"position\", \"points\"]].boxplot(by=\"position\", return_type='axes')\n",
    "    plt.title(f\"Round {x}\")\n",
    "\n",
    "interact(plot_point_hist, x=range(len(rounds)))"
   ]
  },
  {
   "cell_type": "markdown",
   "metadata": {},
   "source": [
    "#### Formações\n",
    "    - 3-4-3 \n",
    "    - 3-5-2 \n",
    "    - 4-3-3 \n",
    "    - 4-4-2 \n",
    "    - 4-5-1 \n",
    "    - 5-3-2 \n",
    "    - 5-4-1"
   ]
  },
  {
   "cell_type": "code",
   "execution_count": 109,
   "metadata": {
    "scrolled": true
   },
   "outputs": [
    {
     "data": {
      "application/javascript": [
       "/* Put everything inside the global mpl namespace */\n",
       "window.mpl = {};\n",
       "\n",
       "\n",
       "mpl.get_websocket_type = function() {\n",
       "    if (typeof(WebSocket) !== 'undefined') {\n",
       "        return WebSocket;\n",
       "    } else if (typeof(MozWebSocket) !== 'undefined') {\n",
       "        return MozWebSocket;\n",
       "    } else {\n",
       "        alert('Your browser does not have WebSocket support.' +\n",
       "              'Please try Chrome, Safari or Firefox ≥ 6. ' +\n",
       "              'Firefox 4 and 5 are also supported but you ' +\n",
       "              'have to enable WebSockets in about:config.');\n",
       "    };\n",
       "}\n",
       "\n",
       "mpl.figure = function(figure_id, websocket, ondownload, parent_element) {\n",
       "    this.id = figure_id;\n",
       "\n",
       "    this.ws = websocket;\n",
       "\n",
       "    this.supports_binary = (this.ws.binaryType != undefined);\n",
       "\n",
       "    if (!this.supports_binary) {\n",
       "        var warnings = document.getElementById(\"mpl-warnings\");\n",
       "        if (warnings) {\n",
       "            warnings.style.display = 'block';\n",
       "            warnings.textContent = (\n",
       "                \"This browser does not support binary websocket messages. \" +\n",
       "                    \"Performance may be slow.\");\n",
       "        }\n",
       "    }\n",
       "\n",
       "    this.imageObj = new Image();\n",
       "\n",
       "    this.context = undefined;\n",
       "    this.message = undefined;\n",
       "    this.canvas = undefined;\n",
       "    this.rubberband_canvas = undefined;\n",
       "    this.rubberband_context = undefined;\n",
       "    this.format_dropdown = undefined;\n",
       "\n",
       "    this.image_mode = 'full';\n",
       "\n",
       "    this.root = $('<div/>');\n",
       "    this._root_extra_style(this.root)\n",
       "    this.root.attr('style', 'display: inline-block');\n",
       "\n",
       "    $(parent_element).append(this.root);\n",
       "\n",
       "    this._init_header(this);\n",
       "    this._init_canvas(this);\n",
       "    this._init_toolbar(this);\n",
       "\n",
       "    var fig = this;\n",
       "\n",
       "    this.waiting = false;\n",
       "\n",
       "    this.ws.onopen =  function () {\n",
       "            fig.send_message(\"supports_binary\", {value: fig.supports_binary});\n",
       "            fig.send_message(\"send_image_mode\", {});\n",
       "            if (mpl.ratio != 1) {\n",
       "                fig.send_message(\"set_dpi_ratio\", {'dpi_ratio': mpl.ratio});\n",
       "            }\n",
       "            fig.send_message(\"refresh\", {});\n",
       "        }\n",
       "\n",
       "    this.imageObj.onload = function() {\n",
       "            if (fig.image_mode == 'full') {\n",
       "                // Full images could contain transparency (where diff images\n",
       "                // almost always do), so we need to clear the canvas so that\n",
       "                // there is no ghosting.\n",
       "                fig.context.clearRect(0, 0, fig.canvas.width, fig.canvas.height);\n",
       "            }\n",
       "            fig.context.drawImage(fig.imageObj, 0, 0);\n",
       "        };\n",
       "\n",
       "    this.imageObj.onunload = function() {\n",
       "        this.ws.close();\n",
       "    }\n",
       "\n",
       "    this.ws.onmessage = this._make_on_message_function(this);\n",
       "\n",
       "    this.ondownload = ondownload;\n",
       "}\n",
       "\n",
       "mpl.figure.prototype._init_header = function() {\n",
       "    var titlebar = $(\n",
       "        '<div class=\"ui-dialog-titlebar ui-widget-header ui-corner-all ' +\n",
       "        'ui-helper-clearfix\"/>');\n",
       "    var titletext = $(\n",
       "        '<div class=\"ui-dialog-title\" style=\"width: 100%; ' +\n",
       "        'text-align: center; padding: 3px;\"/>');\n",
       "    titlebar.append(titletext)\n",
       "    this.root.append(titlebar);\n",
       "    this.header = titletext[0];\n",
       "}\n",
       "\n",
       "\n",
       "\n",
       "mpl.figure.prototype._canvas_extra_style = function(canvas_div) {\n",
       "\n",
       "}\n",
       "\n",
       "\n",
       "mpl.figure.prototype._root_extra_style = function(canvas_div) {\n",
       "\n",
       "}\n",
       "\n",
       "mpl.figure.prototype._init_canvas = function() {\n",
       "    var fig = this;\n",
       "\n",
       "    var canvas_div = $('<div/>');\n",
       "\n",
       "    canvas_div.attr('style', 'position: relative; clear: both; outline: 0');\n",
       "\n",
       "    function canvas_keyboard_event(event) {\n",
       "        return fig.key_event(event, event['data']);\n",
       "    }\n",
       "\n",
       "    canvas_div.keydown('key_press', canvas_keyboard_event);\n",
       "    canvas_div.keyup('key_release', canvas_keyboard_event);\n",
       "    this.canvas_div = canvas_div\n",
       "    this._canvas_extra_style(canvas_div)\n",
       "    this.root.append(canvas_div);\n",
       "\n",
       "    var canvas = $('<canvas/>');\n",
       "    canvas.addClass('mpl-canvas');\n",
       "    canvas.attr('style', \"left: 0; top: 0; z-index: 0; outline: 0\")\n",
       "\n",
       "    this.canvas = canvas[0];\n",
       "    this.context = canvas[0].getContext(\"2d\");\n",
       "\n",
       "    var backingStore = this.context.backingStorePixelRatio ||\n",
       "\tthis.context.webkitBackingStorePixelRatio ||\n",
       "\tthis.context.mozBackingStorePixelRatio ||\n",
       "\tthis.context.msBackingStorePixelRatio ||\n",
       "\tthis.context.oBackingStorePixelRatio ||\n",
       "\tthis.context.backingStorePixelRatio || 1;\n",
       "\n",
       "    mpl.ratio = (window.devicePixelRatio || 1) / backingStore;\n",
       "\n",
       "    var rubberband = $('<canvas/>');\n",
       "    rubberband.attr('style', \"position: absolute; left: 0; top: 0; z-index: 1;\")\n",
       "\n",
       "    var pass_mouse_events = true;\n",
       "\n",
       "    canvas_div.resizable({\n",
       "        start: function(event, ui) {\n",
       "            pass_mouse_events = false;\n",
       "        },\n",
       "        resize: function(event, ui) {\n",
       "            fig.request_resize(ui.size.width, ui.size.height);\n",
       "        },\n",
       "        stop: function(event, ui) {\n",
       "            pass_mouse_events = true;\n",
       "            fig.request_resize(ui.size.width, ui.size.height);\n",
       "        },\n",
       "    });\n",
       "\n",
       "    function mouse_event_fn(event) {\n",
       "        if (pass_mouse_events)\n",
       "            return fig.mouse_event(event, event['data']);\n",
       "    }\n",
       "\n",
       "    rubberband.mousedown('button_press', mouse_event_fn);\n",
       "    rubberband.mouseup('button_release', mouse_event_fn);\n",
       "    // Throttle sequential mouse events to 1 every 20ms.\n",
       "    rubberband.mousemove('motion_notify', mouse_event_fn);\n",
       "\n",
       "    rubberband.mouseenter('figure_enter', mouse_event_fn);\n",
       "    rubberband.mouseleave('figure_leave', mouse_event_fn);\n",
       "\n",
       "    canvas_div.on(\"wheel\", function (event) {\n",
       "        event = event.originalEvent;\n",
       "        event['data'] = 'scroll'\n",
       "        if (event.deltaY < 0) {\n",
       "            event.step = 1;\n",
       "        } else {\n",
       "            event.step = -1;\n",
       "        }\n",
       "        mouse_event_fn(event);\n",
       "    });\n",
       "\n",
       "    canvas_div.append(canvas);\n",
       "    canvas_div.append(rubberband);\n",
       "\n",
       "    this.rubberband = rubberband;\n",
       "    this.rubberband_canvas = rubberband[0];\n",
       "    this.rubberband_context = rubberband[0].getContext(\"2d\");\n",
       "    this.rubberband_context.strokeStyle = \"#000000\";\n",
       "\n",
       "    this._resize_canvas = function(width, height) {\n",
       "        // Keep the size of the canvas, canvas container, and rubber band\n",
       "        // canvas in synch.\n",
       "        canvas_div.css('width', width)\n",
       "        canvas_div.css('height', height)\n",
       "\n",
       "        canvas.attr('width', width * mpl.ratio);\n",
       "        canvas.attr('height', height * mpl.ratio);\n",
       "        canvas.attr('style', 'width: ' + width + 'px; height: ' + height + 'px;');\n",
       "\n",
       "        rubberband.attr('width', width);\n",
       "        rubberband.attr('height', height);\n",
       "    }\n",
       "\n",
       "    // Set the figure to an initial 600x600px, this will subsequently be updated\n",
       "    // upon first draw.\n",
       "    this._resize_canvas(600, 600);\n",
       "\n",
       "    // Disable right mouse context menu.\n",
       "    $(this.rubberband_canvas).bind(\"contextmenu\",function(e){\n",
       "        return false;\n",
       "    });\n",
       "\n",
       "    function set_focus () {\n",
       "        canvas.focus();\n",
       "        canvas_div.focus();\n",
       "    }\n",
       "\n",
       "    window.setTimeout(set_focus, 100);\n",
       "}\n",
       "\n",
       "mpl.figure.prototype._init_toolbar = function() {\n",
       "    var fig = this;\n",
       "\n",
       "    var nav_element = $('<div/>')\n",
       "    nav_element.attr('style', 'width: 100%');\n",
       "    this.root.append(nav_element);\n",
       "\n",
       "    // Define a callback function for later on.\n",
       "    function toolbar_event(event) {\n",
       "        return fig.toolbar_button_onclick(event['data']);\n",
       "    }\n",
       "    function toolbar_mouse_event(event) {\n",
       "        return fig.toolbar_button_onmouseover(event['data']);\n",
       "    }\n",
       "\n",
       "    for(var toolbar_ind in mpl.toolbar_items) {\n",
       "        var name = mpl.toolbar_items[toolbar_ind][0];\n",
       "        var tooltip = mpl.toolbar_items[toolbar_ind][1];\n",
       "        var image = mpl.toolbar_items[toolbar_ind][2];\n",
       "        var method_name = mpl.toolbar_items[toolbar_ind][3];\n",
       "\n",
       "        if (!name) {\n",
       "            // put a spacer in here.\n",
       "            continue;\n",
       "        }\n",
       "        var button = $('<button/>');\n",
       "        button.addClass('ui-button ui-widget ui-state-default ui-corner-all ' +\n",
       "                        'ui-button-icon-only');\n",
       "        button.attr('role', 'button');\n",
       "        button.attr('aria-disabled', 'false');\n",
       "        button.click(method_name, toolbar_event);\n",
       "        button.mouseover(tooltip, toolbar_mouse_event);\n",
       "\n",
       "        var icon_img = $('<span/>');\n",
       "        icon_img.addClass('ui-button-icon-primary ui-icon');\n",
       "        icon_img.addClass(image);\n",
       "        icon_img.addClass('ui-corner-all');\n",
       "\n",
       "        var tooltip_span = $('<span/>');\n",
       "        tooltip_span.addClass('ui-button-text');\n",
       "        tooltip_span.html(tooltip);\n",
       "\n",
       "        button.append(icon_img);\n",
       "        button.append(tooltip_span);\n",
       "\n",
       "        nav_element.append(button);\n",
       "    }\n",
       "\n",
       "    var fmt_picker_span = $('<span/>');\n",
       "\n",
       "    var fmt_picker = $('<select/>');\n",
       "    fmt_picker.addClass('mpl-toolbar-option ui-widget ui-widget-content');\n",
       "    fmt_picker_span.append(fmt_picker);\n",
       "    nav_element.append(fmt_picker_span);\n",
       "    this.format_dropdown = fmt_picker[0];\n",
       "\n",
       "    for (var ind in mpl.extensions) {\n",
       "        var fmt = mpl.extensions[ind];\n",
       "        var option = $(\n",
       "            '<option/>', {selected: fmt === mpl.default_extension}).html(fmt);\n",
       "        fmt_picker.append(option)\n",
       "    }\n",
       "\n",
       "    // Add hover states to the ui-buttons\n",
       "    $( \".ui-button\" ).hover(\n",
       "        function() { $(this).addClass(\"ui-state-hover\");},\n",
       "        function() { $(this).removeClass(\"ui-state-hover\");}\n",
       "    );\n",
       "\n",
       "    var status_bar = $('<span class=\"mpl-message\"/>');\n",
       "    nav_element.append(status_bar);\n",
       "    this.message = status_bar[0];\n",
       "}\n",
       "\n",
       "mpl.figure.prototype.request_resize = function(x_pixels, y_pixels) {\n",
       "    // Request matplotlib to resize the figure. Matplotlib will then trigger a resize in the client,\n",
       "    // which will in turn request a refresh of the image.\n",
       "    this.send_message('resize', {'width': x_pixels, 'height': y_pixels});\n",
       "}\n",
       "\n",
       "mpl.figure.prototype.send_message = function(type, properties) {\n",
       "    properties['type'] = type;\n",
       "    properties['figure_id'] = this.id;\n",
       "    this.ws.send(JSON.stringify(properties));\n",
       "}\n",
       "\n",
       "mpl.figure.prototype.send_draw_message = function() {\n",
       "    if (!this.waiting) {\n",
       "        this.waiting = true;\n",
       "        this.ws.send(JSON.stringify({type: \"draw\", figure_id: this.id}));\n",
       "    }\n",
       "}\n",
       "\n",
       "\n",
       "mpl.figure.prototype.handle_save = function(fig, msg) {\n",
       "    var format_dropdown = fig.format_dropdown;\n",
       "    var format = format_dropdown.options[format_dropdown.selectedIndex].value;\n",
       "    fig.ondownload(fig, format);\n",
       "}\n",
       "\n",
       "\n",
       "mpl.figure.prototype.handle_resize = function(fig, msg) {\n",
       "    var size = msg['size'];\n",
       "    if (size[0] != fig.canvas.width || size[1] != fig.canvas.height) {\n",
       "        fig._resize_canvas(size[0], size[1]);\n",
       "        fig.send_message(\"refresh\", {});\n",
       "    };\n",
       "}\n",
       "\n",
       "mpl.figure.prototype.handle_rubberband = function(fig, msg) {\n",
       "    var x0 = msg['x0'] / mpl.ratio;\n",
       "    var y0 = (fig.canvas.height - msg['y0']) / mpl.ratio;\n",
       "    var x1 = msg['x1'] / mpl.ratio;\n",
       "    var y1 = (fig.canvas.height - msg['y1']) / mpl.ratio;\n",
       "    x0 = Math.floor(x0) + 0.5;\n",
       "    y0 = Math.floor(y0) + 0.5;\n",
       "    x1 = Math.floor(x1) + 0.5;\n",
       "    y1 = Math.floor(y1) + 0.5;\n",
       "    var min_x = Math.min(x0, x1);\n",
       "    var min_y = Math.min(y0, y1);\n",
       "    var width = Math.abs(x1 - x0);\n",
       "    var height = Math.abs(y1 - y0);\n",
       "\n",
       "    fig.rubberband_context.clearRect(\n",
       "        0, 0, fig.canvas.width, fig.canvas.height);\n",
       "\n",
       "    fig.rubberband_context.strokeRect(min_x, min_y, width, height);\n",
       "}\n",
       "\n",
       "mpl.figure.prototype.handle_figure_label = function(fig, msg) {\n",
       "    // Updates the figure title.\n",
       "    fig.header.textContent = msg['label'];\n",
       "}\n",
       "\n",
       "mpl.figure.prototype.handle_cursor = function(fig, msg) {\n",
       "    var cursor = msg['cursor'];\n",
       "    switch(cursor)\n",
       "    {\n",
       "    case 0:\n",
       "        cursor = 'pointer';\n",
       "        break;\n",
       "    case 1:\n",
       "        cursor = 'default';\n",
       "        break;\n",
       "    case 2:\n",
       "        cursor = 'crosshair';\n",
       "        break;\n",
       "    case 3:\n",
       "        cursor = 'move';\n",
       "        break;\n",
       "    }\n",
       "    fig.rubberband_canvas.style.cursor = cursor;\n",
       "}\n",
       "\n",
       "mpl.figure.prototype.handle_message = function(fig, msg) {\n",
       "    fig.message.textContent = msg['message'];\n",
       "}\n",
       "\n",
       "mpl.figure.prototype.handle_draw = function(fig, msg) {\n",
       "    // Request the server to send over a new figure.\n",
       "    fig.send_draw_message();\n",
       "}\n",
       "\n",
       "mpl.figure.prototype.handle_image_mode = function(fig, msg) {\n",
       "    fig.image_mode = msg['mode'];\n",
       "}\n",
       "\n",
       "mpl.figure.prototype.updated_canvas_event = function() {\n",
       "    // Called whenever the canvas gets updated.\n",
       "    this.send_message(\"ack\", {});\n",
       "}\n",
       "\n",
       "// A function to construct a web socket function for onmessage handling.\n",
       "// Called in the figure constructor.\n",
       "mpl.figure.prototype._make_on_message_function = function(fig) {\n",
       "    return function socket_on_message(evt) {\n",
       "        if (evt.data instanceof Blob) {\n",
       "            /* FIXME: We get \"Resource interpreted as Image but\n",
       "             * transferred with MIME type text/plain:\" errors on\n",
       "             * Chrome.  But how to set the MIME type?  It doesn't seem\n",
       "             * to be part of the websocket stream */\n",
       "            evt.data.type = \"image/png\";\n",
       "\n",
       "            /* Free the memory for the previous frames */\n",
       "            if (fig.imageObj.src) {\n",
       "                (window.URL || window.webkitURL).revokeObjectURL(\n",
       "                    fig.imageObj.src);\n",
       "            }\n",
       "\n",
       "            fig.imageObj.src = (window.URL || window.webkitURL).createObjectURL(\n",
       "                evt.data);\n",
       "            fig.updated_canvas_event();\n",
       "            fig.waiting = false;\n",
       "            return;\n",
       "        }\n",
       "        else if (typeof evt.data === 'string' && evt.data.slice(0, 21) == \"data:image/png;base64\") {\n",
       "            fig.imageObj.src = evt.data;\n",
       "            fig.updated_canvas_event();\n",
       "            fig.waiting = false;\n",
       "            return;\n",
       "        }\n",
       "\n",
       "        var msg = JSON.parse(evt.data);\n",
       "        var msg_type = msg['type'];\n",
       "\n",
       "        // Call the  \"handle_{type}\" callback, which takes\n",
       "        // the figure and JSON message as its only arguments.\n",
       "        try {\n",
       "            var callback = fig[\"handle_\" + msg_type];\n",
       "        } catch (e) {\n",
       "            console.log(\"No handler for the '\" + msg_type + \"' message type: \", msg);\n",
       "            return;\n",
       "        }\n",
       "\n",
       "        if (callback) {\n",
       "            try {\n",
       "                // console.log(\"Handling '\" + msg_type + \"' message: \", msg);\n",
       "                callback(fig, msg);\n",
       "            } catch (e) {\n",
       "                console.log(\"Exception inside the 'handler_\" + msg_type + \"' callback:\", e, e.stack, msg);\n",
       "            }\n",
       "        }\n",
       "    };\n",
       "}\n",
       "\n",
       "// from http://stackoverflow.com/questions/1114465/getting-mouse-location-in-canvas\n",
       "mpl.findpos = function(e) {\n",
       "    //this section is from http://www.quirksmode.org/js/events_properties.html\n",
       "    var targ;\n",
       "    if (!e)\n",
       "        e = window.event;\n",
       "    if (e.target)\n",
       "        targ = e.target;\n",
       "    else if (e.srcElement)\n",
       "        targ = e.srcElement;\n",
       "    if (targ.nodeType == 3) // defeat Safari bug\n",
       "        targ = targ.parentNode;\n",
       "\n",
       "    // jQuery normalizes the pageX and pageY\n",
       "    // pageX,Y are the mouse positions relative to the document\n",
       "    // offset() returns the position of the element relative to the document\n",
       "    var x = e.pageX - $(targ).offset().left;\n",
       "    var y = e.pageY - $(targ).offset().top;\n",
       "\n",
       "    return {\"x\": x, \"y\": y};\n",
       "};\n",
       "\n",
       "/*\n",
       " * return a copy of an object with only non-object keys\n",
       " * we need this to avoid circular references\n",
       " * http://stackoverflow.com/a/24161582/3208463\n",
       " */\n",
       "function simpleKeys (original) {\n",
       "  return Object.keys(original).reduce(function (obj, key) {\n",
       "    if (typeof original[key] !== 'object')\n",
       "        obj[key] = original[key]\n",
       "    return obj;\n",
       "  }, {});\n",
       "}\n",
       "\n",
       "mpl.figure.prototype.mouse_event = function(event, name) {\n",
       "    var canvas_pos = mpl.findpos(event)\n",
       "\n",
       "    if (name === 'button_press')\n",
       "    {\n",
       "        this.canvas.focus();\n",
       "        this.canvas_div.focus();\n",
       "    }\n",
       "\n",
       "    var x = canvas_pos.x * mpl.ratio;\n",
       "    var y = canvas_pos.y * mpl.ratio;\n",
       "\n",
       "    this.send_message(name, {x: x, y: y, button: event.button,\n",
       "                             step: event.step,\n",
       "                             guiEvent: simpleKeys(event)});\n",
       "\n",
       "    /* This prevents the web browser from automatically changing to\n",
       "     * the text insertion cursor when the button is pressed.  We want\n",
       "     * to control all of the cursor setting manually through the\n",
       "     * 'cursor' event from matplotlib */\n",
       "    event.preventDefault();\n",
       "    return false;\n",
       "}\n",
       "\n",
       "mpl.figure.prototype._key_event_extra = function(event, name) {\n",
       "    // Handle any extra behaviour associated with a key event\n",
       "}\n",
       "\n",
       "mpl.figure.prototype.key_event = function(event, name) {\n",
       "\n",
       "    // Prevent repeat events\n",
       "    if (name == 'key_press')\n",
       "    {\n",
       "        if (event.which === this._key)\n",
       "            return;\n",
       "        else\n",
       "            this._key = event.which;\n",
       "    }\n",
       "    if (name == 'key_release')\n",
       "        this._key = null;\n",
       "\n",
       "    var value = '';\n",
       "    if (event.ctrlKey && event.which != 17)\n",
       "        value += \"ctrl+\";\n",
       "    if (event.altKey && event.which != 18)\n",
       "        value += \"alt+\";\n",
       "    if (event.shiftKey && event.which != 16)\n",
       "        value += \"shift+\";\n",
       "\n",
       "    value += 'k';\n",
       "    value += event.which.toString();\n",
       "\n",
       "    this._key_event_extra(event, name);\n",
       "\n",
       "    this.send_message(name, {key: value,\n",
       "                             guiEvent: simpleKeys(event)});\n",
       "    return false;\n",
       "}\n",
       "\n",
       "mpl.figure.prototype.toolbar_button_onclick = function(name) {\n",
       "    if (name == 'download') {\n",
       "        this.handle_save(this, null);\n",
       "    } else {\n",
       "        this.send_message(\"toolbar_button\", {name: name});\n",
       "    }\n",
       "};\n",
       "\n",
       "mpl.figure.prototype.toolbar_button_onmouseover = function(tooltip) {\n",
       "    this.message.textContent = tooltip;\n",
       "};\n",
       "mpl.toolbar_items = [[\"Home\", \"Reset original view\", \"fa fa-home icon-home\", \"home\"], [\"Back\", \"Back to  previous view\", \"fa fa-arrow-left icon-arrow-left\", \"back\"], [\"Forward\", \"Forward to next view\", \"fa fa-arrow-right icon-arrow-right\", \"forward\"], [\"\", \"\", \"\", \"\"], [\"Pan\", \"Pan axes with left mouse, zoom with right\", \"fa fa-arrows icon-move\", \"pan\"], [\"Zoom\", \"Zoom to rectangle\", \"fa fa-square-o icon-check-empty\", \"zoom\"], [\"\", \"\", \"\", \"\"], [\"Download\", \"Download plot\", \"fa fa-floppy-o icon-save\", \"download\"]];\n",
       "\n",
       "mpl.extensions = [\"eps\", \"pdf\", \"png\", \"ps\", \"raw\", \"svg\"];\n",
       "\n",
       "mpl.default_extension = \"png\";var comm_websocket_adapter = function(comm) {\n",
       "    // Create a \"websocket\"-like object which calls the given IPython comm\n",
       "    // object with the appropriate methods. Currently this is a non binary\n",
       "    // socket, so there is still some room for performance tuning.\n",
       "    var ws = {};\n",
       "\n",
       "    ws.close = function() {\n",
       "        comm.close()\n",
       "    };\n",
       "    ws.send = function(m) {\n",
       "        //console.log('sending', m);\n",
       "        comm.send(m);\n",
       "    };\n",
       "    // Register the callback with on_msg.\n",
       "    comm.on_msg(function(msg) {\n",
       "        //console.log('receiving', msg['content']['data'], msg);\n",
       "        // Pass the mpl event to the overriden (by mpl) onmessage function.\n",
       "        ws.onmessage(msg['content']['data'])\n",
       "    });\n",
       "    return ws;\n",
       "}\n",
       "\n",
       "mpl.mpl_figure_comm = function(comm, msg) {\n",
       "    // This is the function which gets called when the mpl process\n",
       "    // starts-up an IPython Comm through the \"matplotlib\" channel.\n",
       "\n",
       "    var id = msg.content.data.id;\n",
       "    // Get hold of the div created by the display call when the Comm\n",
       "    // socket was opened in Python.\n",
       "    var element = $(\"#\" + id);\n",
       "    var ws_proxy = comm_websocket_adapter(comm)\n",
       "\n",
       "    function ondownload(figure, format) {\n",
       "        window.open(figure.imageObj.src);\n",
       "    }\n",
       "\n",
       "    var fig = new mpl.figure(id, ws_proxy,\n",
       "                           ondownload,\n",
       "                           element.get(0));\n",
       "\n",
       "    // Call onopen now - mpl needs it, as it is assuming we've passed it a real\n",
       "    // web socket which is closed, not our websocket->open comm proxy.\n",
       "    ws_proxy.onopen();\n",
       "\n",
       "    fig.parent_element = element.get(0);\n",
       "    fig.cell_info = mpl.find_output_cell(\"<div id='\" + id + \"'></div>\");\n",
       "    if (!fig.cell_info) {\n",
       "        console.error(\"Failed to find cell for figure\", id, fig);\n",
       "        return;\n",
       "    }\n",
       "\n",
       "    var output_index = fig.cell_info[2]\n",
       "    var cell = fig.cell_info[0];\n",
       "\n",
       "};\n",
       "\n",
       "mpl.figure.prototype.handle_close = function(fig, msg) {\n",
       "    var width = fig.canvas.width/mpl.ratio\n",
       "    fig.root.unbind('remove')\n",
       "\n",
       "    // Update the output cell to use the data from the current canvas.\n",
       "    fig.push_to_output();\n",
       "    var dataURL = fig.canvas.toDataURL();\n",
       "    // Re-enable the keyboard manager in IPython - without this line, in FF,\n",
       "    // the notebook keyboard shortcuts fail.\n",
       "    IPython.keyboard_manager.enable()\n",
       "    $(fig.parent_element).html('<img src=\"' + dataURL + '\" width=\"' + width + '\">');\n",
       "    fig.close_ws(fig, msg);\n",
       "}\n",
       "\n",
       "mpl.figure.prototype.close_ws = function(fig, msg){\n",
       "    fig.send_message('closing', msg);\n",
       "    // fig.ws.close()\n",
       "}\n",
       "\n",
       "mpl.figure.prototype.push_to_output = function(remove_interactive) {\n",
       "    // Turn the data on the canvas into data in the output cell.\n",
       "    var width = this.canvas.width/mpl.ratio\n",
       "    var dataURL = this.canvas.toDataURL();\n",
       "    this.cell_info[1]['text/html'] = '<img src=\"' + dataURL + '\" width=\"' + width + '\">';\n",
       "}\n",
       "\n",
       "mpl.figure.prototype.updated_canvas_event = function() {\n",
       "    // Tell IPython that the notebook contents must change.\n",
       "    IPython.notebook.set_dirty(true);\n",
       "    this.send_message(\"ack\", {});\n",
       "    var fig = this;\n",
       "    // Wait a second, then push the new image to the DOM so\n",
       "    // that it is saved nicely (might be nice to debounce this).\n",
       "    setTimeout(function () { fig.push_to_output() }, 1000);\n",
       "}\n",
       "\n",
       "mpl.figure.prototype._init_toolbar = function() {\n",
       "    var fig = this;\n",
       "\n",
       "    var nav_element = $('<div/>')\n",
       "    nav_element.attr('style', 'width: 100%');\n",
       "    this.root.append(nav_element);\n",
       "\n",
       "    // Define a callback function for later on.\n",
       "    function toolbar_event(event) {\n",
       "        return fig.toolbar_button_onclick(event['data']);\n",
       "    }\n",
       "    function toolbar_mouse_event(event) {\n",
       "        return fig.toolbar_button_onmouseover(event['data']);\n",
       "    }\n",
       "\n",
       "    for(var toolbar_ind in mpl.toolbar_items){\n",
       "        var name = mpl.toolbar_items[toolbar_ind][0];\n",
       "        var tooltip = mpl.toolbar_items[toolbar_ind][1];\n",
       "        var image = mpl.toolbar_items[toolbar_ind][2];\n",
       "        var method_name = mpl.toolbar_items[toolbar_ind][3];\n",
       "\n",
       "        if (!name) { continue; };\n",
       "\n",
       "        var button = $('<button class=\"btn btn-default\" href=\"#\" title=\"' + name + '\"><i class=\"fa ' + image + ' fa-lg\"></i></button>');\n",
       "        button.click(method_name, toolbar_event);\n",
       "        button.mouseover(tooltip, toolbar_mouse_event);\n",
       "        nav_element.append(button);\n",
       "    }\n",
       "\n",
       "    // Add the status bar.\n",
       "    var status_bar = $('<span class=\"mpl-message\" style=\"text-align:right; float: right;\"/>');\n",
       "    nav_element.append(status_bar);\n",
       "    this.message = status_bar[0];\n",
       "\n",
       "    // Add the close button to the window.\n",
       "    var buttongrp = $('<div class=\"btn-group inline pull-right\"></div>');\n",
       "    var button = $('<button class=\"btn btn-mini btn-primary\" href=\"#\" title=\"Stop Interaction\"><i class=\"fa fa-power-off icon-remove icon-large\"></i></button>');\n",
       "    button.click(function (evt) { fig.handle_close(fig, {}); } );\n",
       "    button.mouseover('Stop Interaction', toolbar_mouse_event);\n",
       "    buttongrp.append(button);\n",
       "    var titlebar = this.root.find($('.ui-dialog-titlebar'));\n",
       "    titlebar.prepend(buttongrp);\n",
       "}\n",
       "\n",
       "mpl.figure.prototype._root_extra_style = function(el){\n",
       "    var fig = this\n",
       "    el.on(\"remove\", function(){\n",
       "\tfig.close_ws(fig, {});\n",
       "    });\n",
       "}\n",
       "\n",
       "mpl.figure.prototype._canvas_extra_style = function(el){\n",
       "    // this is important to make the div 'focusable\n",
       "    el.attr('tabindex', 0)\n",
       "    // reach out to IPython and tell the keyboard manager to turn it's self\n",
       "    // off when our div gets focus\n",
       "\n",
       "    // location in version 3\n",
       "    if (IPython.notebook.keyboard_manager) {\n",
       "        IPython.notebook.keyboard_manager.register_events(el);\n",
       "    }\n",
       "    else {\n",
       "        // location in version 2\n",
       "        IPython.keyboard_manager.register_events(el);\n",
       "    }\n",
       "\n",
       "}\n",
       "\n",
       "mpl.figure.prototype._key_event_extra = function(event, name) {\n",
       "    var manager = IPython.notebook.keyboard_manager;\n",
       "    if (!manager)\n",
       "        manager = IPython.keyboard_manager;\n",
       "\n",
       "    // Check for shift+enter\n",
       "    if (event.shiftKey && event.which == 13) {\n",
       "        this.canvas_div.blur();\n",
       "        // select the cell after this one\n",
       "        var index = IPython.notebook.find_cell_index(this.cell_info[0]);\n",
       "        IPython.notebook.select(index + 1);\n",
       "    }\n",
       "}\n",
       "\n",
       "mpl.figure.prototype.handle_save = function(fig, msg) {\n",
       "    fig.ondownload(fig, null);\n",
       "}\n",
       "\n",
       "\n",
       "mpl.find_output_cell = function(html_output) {\n",
       "    // Return the cell and output element which can be found *uniquely* in the notebook.\n",
       "    // Note - this is a bit hacky, but it is done because the \"notebook_saving.Notebook\"\n",
       "    // IPython event is triggered only after the cells have been serialised, which for\n",
       "    // our purposes (turning an active figure into a static one), is too late.\n",
       "    var cells = IPython.notebook.get_cells();\n",
       "    var ncells = cells.length;\n",
       "    for (var i=0; i<ncells; i++) {\n",
       "        var cell = cells[i];\n",
       "        if (cell.cell_type === 'code'){\n",
       "            for (var j=0; j<cell.output_area.outputs.length; j++) {\n",
       "                var data = cell.output_area.outputs[j];\n",
       "                if (data.data) {\n",
       "                    // IPython >= 3 moved mimebundle to data attribute of output\n",
       "                    data = data.data;\n",
       "                }\n",
       "                if (data['text/html'] == html_output) {\n",
       "                    return [cell, data, j];\n",
       "                }\n",
       "            }\n",
       "        }\n",
       "    }\n",
       "}\n",
       "\n",
       "// Register the function which deals with the matplotlib target/channel.\n",
       "// The kernel may be null if the page has been refreshed.\n",
       "if (IPython.notebook.kernel != null) {\n",
       "    IPython.notebook.kernel.comm_manager.register_target('matplotlib', mpl.mpl_figure_comm);\n",
       "}\n"
      ],
      "text/plain": [
       "<IPython.core.display.Javascript object>"
      ]
     },
     "metadata": {},
     "output_type": "display_data"
    },
    {
     "data": {
      "text/html": [
       "<img src=\"data:image/png;base64,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\" width=\"640\">"
      ],
      "text/plain": [
       "<IPython.core.display.HTML object>"
      ]
     },
     "metadata": {},
     "output_type": "display_data"
    }
   ],
   "source": [
    "%matplotlib notebook\n",
    "formations = {\n",
    "    '343': {'goalkeeper': 1,  'fullback': 2, 'defender': 3, 'midfielder': 2, 'striker': 3},\n",
    "    '352': {'goalkeeper': 1,  'fullback': 2, 'defender': 3, 'midfielder': 3, 'striker': 2},\n",
    "    '433': {'goalkeeper': 1,  'fullback': 2, 'defender': 2, 'midfielder': 3, 'striker': 3},\n",
    "    '442': {'goalkeeper': 1,  'fullback': 2, 'defender': 2, 'midfielder': 4, 'striker': 2},\n",
    "    '451': {'goalkeeper': 1,  'fullback': 2, 'defender': 2, 'midfielder': 5, 'striker': 1},\n",
    "    '532': {'goalkeeper': 1,  'fullback': 2, 'defender': 3, 'midfielder': 3, 'striker': 2},\n",
    "    '541': {'goalkeeper': 1,  'fullback': 2, 'defender': 3, 'midfielder': 4, 'striker': 1}\n",
    "}\n",
    "\n",
    "def analyze_formation(sample_size=100):\n",
    "    points = {}\n",
    "    for formation_type in formations:\n",
    "        formation = formations[formation_type]\n",
    "        points[formation_type] = []\n",
    "        for round in rounds:\n",
    "            players = round[round.status == 'likely']    \n",
    "            for _ in range(sample_size):\n",
    "                for position, quantity in formation.items():\n",
    "                    points[formation_type].extend(players[players.position == position].sample(quantity)['points'].tolist())            \n",
    "    df = pd.DataFrame(points)\n",
    "    ax = df.boxplot(return_type=\"axes\")\n",
    "    plt.title(f\"Performance by Formation\")\n",
    "    return df\n",
    "\n",
    "formation_data = analyze_formation(200)"
   ]
  },
  {
   "cell_type": "code",
   "execution_count": 110,
   "metadata": {},
   "outputs": [
    {
     "data": {
      "text/html": [
       "<div>\n",
       "<style>\n",
       "    .dataframe thead tr:only-child th {\n",
       "        text-align: right;\n",
       "    }\n",
       "\n",
       "    .dataframe thead th {\n",
       "        text-align: left;\n",
       "    }\n",
       "\n",
       "    .dataframe tbody tr th {\n",
       "        vertical-align: top;\n",
       "    }\n",
       "</style>\n",
       "<table border=\"1\" class=\"dataframe\">\n",
       "  <thead>\n",
       "    <tr style=\"text-align: right;\">\n",
       "      <th></th>\n",
       "      <th>343</th>\n",
       "      <th>352</th>\n",
       "      <th>433</th>\n",
       "      <th>442</th>\n",
       "      <th>451</th>\n",
       "      <th>532</th>\n",
       "      <th>541</th>\n",
       "    </tr>\n",
       "  </thead>\n",
       "  <tbody>\n",
       "    <tr>\n",
       "      <th>count</th>\n",
       "      <td>15400.000000</td>\n",
       "      <td>15400.000000</td>\n",
       "      <td>15400.000000</td>\n",
       "      <td>15400.000000</td>\n",
       "      <td>15400.000000</td>\n",
       "      <td>15400.000000</td>\n",
       "      <td>15400.000000</td>\n",
       "    </tr>\n",
       "    <tr>\n",
       "      <th>mean</th>\n",
       "      <td>3.828403</td>\n",
       "      <td>3.811727</td>\n",
       "      <td>3.836208</td>\n",
       "      <td>3.693039</td>\n",
       "      <td>3.640760</td>\n",
       "      <td>3.736104</td>\n",
       "      <td>3.631162</td>\n",
       "    </tr>\n",
       "    <tr>\n",
       "      <th>std</th>\n",
       "      <td>4.880580</td>\n",
       "      <td>4.773532</td>\n",
       "      <td>4.983147</td>\n",
       "      <td>4.863189</td>\n",
       "      <td>4.716581</td>\n",
       "      <td>4.783234</td>\n",
       "      <td>4.673616</td>\n",
       "    </tr>\n",
       "    <tr>\n",
       "      <th>min</th>\n",
       "      <td>-13.200000</td>\n",
       "      <td>-13.200000</td>\n",
       "      <td>-13.200000</td>\n",
       "      <td>-13.200000</td>\n",
       "      <td>-13.200000</td>\n",
       "      <td>-13.200000</td>\n",
       "      <td>-13.200000</td>\n",
       "    </tr>\n",
       "    <tr>\n",
       "      <th>25%</th>\n",
       "      <td>0.100000</td>\n",
       "      <td>0.200000</td>\n",
       "      <td>0.100000</td>\n",
       "      <td>0.000000</td>\n",
       "      <td>0.100000</td>\n",
       "      <td>0.100000</td>\n",
       "      <td>0.000000</td>\n",
       "    </tr>\n",
       "    <tr>\n",
       "      <th>50%</th>\n",
       "      <td>2.800000</td>\n",
       "      <td>2.900000</td>\n",
       "      <td>2.700000</td>\n",
       "      <td>2.700000</td>\n",
       "      <td>2.700000</td>\n",
       "      <td>2.800000</td>\n",
       "      <td>2.700000</td>\n",
       "    </tr>\n",
       "    <tr>\n",
       "      <th>75%</th>\n",
       "      <td>6.600000</td>\n",
       "      <td>6.500000</td>\n",
       "      <td>6.500000</td>\n",
       "      <td>6.200000</td>\n",
       "      <td>6.200000</td>\n",
       "      <td>6.400000</td>\n",
       "      <td>6.200000</td>\n",
       "    </tr>\n",
       "    <tr>\n",
       "      <th>max</th>\n",
       "      <td>29.900000</td>\n",
       "      <td>29.900000</td>\n",
       "      <td>29.900000</td>\n",
       "      <td>29.900000</td>\n",
       "      <td>29.900000</td>\n",
       "      <td>29.900000</td>\n",
       "      <td>29.900000</td>\n",
       "    </tr>\n",
       "  </tbody>\n",
       "</table>\n",
       "</div>"
      ],
      "text/plain": [
       "                343           352           433           442           451  \\\n",
       "count  15400.000000  15400.000000  15400.000000  15400.000000  15400.000000   \n",
       "mean       3.828403      3.811727      3.836208      3.693039      3.640760   \n",
       "std        4.880580      4.773532      4.983147      4.863189      4.716581   \n",
       "min      -13.200000    -13.200000    -13.200000    -13.200000    -13.200000   \n",
       "25%        0.100000      0.200000      0.100000      0.000000      0.100000   \n",
       "50%        2.800000      2.900000      2.700000      2.700000      2.700000   \n",
       "75%        6.600000      6.500000      6.500000      6.200000      6.200000   \n",
       "max       29.900000     29.900000     29.900000     29.900000     29.900000   \n",
       "\n",
       "                532           541  \n",
       "count  15400.000000  15400.000000  \n",
       "mean       3.736104      3.631162  \n",
       "std        4.783234      4.673616  \n",
       "min      -13.200000    -13.200000  \n",
       "25%        0.100000      0.000000  \n",
       "50%        2.800000      2.700000  \n",
       "75%        6.400000      6.200000  \n",
       "max       29.900000     29.900000  "
      ]
     },
     "execution_count": 110,
     "metadata": {},
     "output_type": "execute_result"
    }
   ],
   "source": [
    "formation_data.describe()"
   ]
  },
  {
   "cell_type": "code",
   "execution_count": 3,
   "metadata": {},
   "outputs": [],
   "source": [
    "all_rounds = pd.concat(rounds, axis=0)"
   ]
  },
  {
   "cell_type": "code",
   "execution_count": 21,
   "metadata": {},
   "outputs": [
    {
     "data": {
      "application/javascript": [
       "/* Put everything inside the global mpl namespace */\n",
       "window.mpl = {};\n",
       "\n",
       "\n",
       "mpl.get_websocket_type = function() {\n",
       "    if (typeof(WebSocket) !== 'undefined') {\n",
       "        return WebSocket;\n",
       "    } else if (typeof(MozWebSocket) !== 'undefined') {\n",
       "        return MozWebSocket;\n",
       "    } else {\n",
       "        alert('Your browser does not have WebSocket support.' +\n",
       "              'Please try Chrome, Safari or Firefox ≥ 6. ' +\n",
       "              'Firefox 4 and 5 are also supported but you ' +\n",
       "              'have to enable WebSockets in about:config.');\n",
       "    };\n",
       "}\n",
       "\n",
       "mpl.figure = function(figure_id, websocket, ondownload, parent_element) {\n",
       "    this.id = figure_id;\n",
       "\n",
       "    this.ws = websocket;\n",
       "\n",
       "    this.supports_binary = (this.ws.binaryType != undefined);\n",
       "\n",
       "    if (!this.supports_binary) {\n",
       "        var warnings = document.getElementById(\"mpl-warnings\");\n",
       "        if (warnings) {\n",
       "            warnings.style.display = 'block';\n",
       "            warnings.textContent = (\n",
       "                \"This browser does not support binary websocket messages. \" +\n",
       "                    \"Performance may be slow.\");\n",
       "        }\n",
       "    }\n",
       "\n",
       "    this.imageObj = new Image();\n",
       "\n",
       "    this.context = undefined;\n",
       "    this.message = undefined;\n",
       "    this.canvas = undefined;\n",
       "    this.rubberband_canvas = undefined;\n",
       "    this.rubberband_context = undefined;\n",
       "    this.format_dropdown = undefined;\n",
       "\n",
       "    this.image_mode = 'full';\n",
       "\n",
       "    this.root = $('<div/>');\n",
       "    this._root_extra_style(this.root)\n",
       "    this.root.attr('style', 'display: inline-block');\n",
       "\n",
       "    $(parent_element).append(this.root);\n",
       "\n",
       "    this._init_header(this);\n",
       "    this._init_canvas(this);\n",
       "    this._init_toolbar(this);\n",
       "\n",
       "    var fig = this;\n",
       "\n",
       "    this.waiting = false;\n",
       "\n",
       "    this.ws.onopen =  function () {\n",
       "            fig.send_message(\"supports_binary\", {value: fig.supports_binary});\n",
       "            fig.send_message(\"send_image_mode\", {});\n",
       "            if (mpl.ratio != 1) {\n",
       "                fig.send_message(\"set_dpi_ratio\", {'dpi_ratio': mpl.ratio});\n",
       "            }\n",
       "            fig.send_message(\"refresh\", {});\n",
       "        }\n",
       "\n",
       "    this.imageObj.onload = function() {\n",
       "            if (fig.image_mode == 'full') {\n",
       "                // Full images could contain transparency (where diff images\n",
       "                // almost always do), so we need to clear the canvas so that\n",
       "                // there is no ghosting.\n",
       "                fig.context.clearRect(0, 0, fig.canvas.width, fig.canvas.height);\n",
       "            }\n",
       "            fig.context.drawImage(fig.imageObj, 0, 0);\n",
       "        };\n",
       "\n",
       "    this.imageObj.onunload = function() {\n",
       "        this.ws.close();\n",
       "    }\n",
       "\n",
       "    this.ws.onmessage = this._make_on_message_function(this);\n",
       "\n",
       "    this.ondownload = ondownload;\n",
       "}\n",
       "\n",
       "mpl.figure.prototype._init_header = function() {\n",
       "    var titlebar = $(\n",
       "        '<div class=\"ui-dialog-titlebar ui-widget-header ui-corner-all ' +\n",
       "        'ui-helper-clearfix\"/>');\n",
       "    var titletext = $(\n",
       "        '<div class=\"ui-dialog-title\" style=\"width: 100%; ' +\n",
       "        'text-align: center; padding: 3px;\"/>');\n",
       "    titlebar.append(titletext)\n",
       "    this.root.append(titlebar);\n",
       "    this.header = titletext[0];\n",
       "}\n",
       "\n",
       "\n",
       "\n",
       "mpl.figure.prototype._canvas_extra_style = function(canvas_div) {\n",
       "\n",
       "}\n",
       "\n",
       "\n",
       "mpl.figure.prototype._root_extra_style = function(canvas_div) {\n",
       "\n",
       "}\n",
       "\n",
       "mpl.figure.prototype._init_canvas = function() {\n",
       "    var fig = this;\n",
       "\n",
       "    var canvas_div = $('<div/>');\n",
       "\n",
       "    canvas_div.attr('style', 'position: relative; clear: both; outline: 0');\n",
       "\n",
       "    function canvas_keyboard_event(event) {\n",
       "        return fig.key_event(event, event['data']);\n",
       "    }\n",
       "\n",
       "    canvas_div.keydown('key_press', canvas_keyboard_event);\n",
       "    canvas_div.keyup('key_release', canvas_keyboard_event);\n",
       "    this.canvas_div = canvas_div\n",
       "    this._canvas_extra_style(canvas_div)\n",
       "    this.root.append(canvas_div);\n",
       "\n",
       "    var canvas = $('<canvas/>');\n",
       "    canvas.addClass('mpl-canvas');\n",
       "    canvas.attr('style', \"left: 0; top: 0; z-index: 0; outline: 0\")\n",
       "\n",
       "    this.canvas = canvas[0];\n",
       "    this.context = canvas[0].getContext(\"2d\");\n",
       "\n",
       "    var backingStore = this.context.backingStorePixelRatio ||\n",
       "\tthis.context.webkitBackingStorePixelRatio ||\n",
       "\tthis.context.mozBackingStorePixelRatio ||\n",
       "\tthis.context.msBackingStorePixelRatio ||\n",
       "\tthis.context.oBackingStorePixelRatio ||\n",
       "\tthis.context.backingStorePixelRatio || 1;\n",
       "\n",
       "    mpl.ratio = (window.devicePixelRatio || 1) / backingStore;\n",
       "\n",
       "    var rubberband = $('<canvas/>');\n",
       "    rubberband.attr('style', \"position: absolute; left: 0; top: 0; z-index: 1;\")\n",
       "\n",
       "    var pass_mouse_events = true;\n",
       "\n",
       "    canvas_div.resizable({\n",
       "        start: function(event, ui) {\n",
       "            pass_mouse_events = false;\n",
       "        },\n",
       "        resize: function(event, ui) {\n",
       "            fig.request_resize(ui.size.width, ui.size.height);\n",
       "        },\n",
       "        stop: function(event, ui) {\n",
       "            pass_mouse_events = true;\n",
       "            fig.request_resize(ui.size.width, ui.size.height);\n",
       "        },\n",
       "    });\n",
       "\n",
       "    function mouse_event_fn(event) {\n",
       "        if (pass_mouse_events)\n",
       "            return fig.mouse_event(event, event['data']);\n",
       "    }\n",
       "\n",
       "    rubberband.mousedown('button_press', mouse_event_fn);\n",
       "    rubberband.mouseup('button_release', mouse_event_fn);\n",
       "    // Throttle sequential mouse events to 1 every 20ms.\n",
       "    rubberband.mousemove('motion_notify', mouse_event_fn);\n",
       "\n",
       "    rubberband.mouseenter('figure_enter', mouse_event_fn);\n",
       "    rubberband.mouseleave('figure_leave', mouse_event_fn);\n",
       "\n",
       "    canvas_div.on(\"wheel\", function (event) {\n",
       "        event = event.originalEvent;\n",
       "        event['data'] = 'scroll'\n",
       "        if (event.deltaY < 0) {\n",
       "            event.step = 1;\n",
       "        } else {\n",
       "            event.step = -1;\n",
       "        }\n",
       "        mouse_event_fn(event);\n",
       "    });\n",
       "\n",
       "    canvas_div.append(canvas);\n",
       "    canvas_div.append(rubberband);\n",
       "\n",
       "    this.rubberband = rubberband;\n",
       "    this.rubberband_canvas = rubberband[0];\n",
       "    this.rubberband_context = rubberband[0].getContext(\"2d\");\n",
       "    this.rubberband_context.strokeStyle = \"#000000\";\n",
       "\n",
       "    this._resize_canvas = function(width, height) {\n",
       "        // Keep the size of the canvas, canvas container, and rubber band\n",
       "        // canvas in synch.\n",
       "        canvas_div.css('width', width)\n",
       "        canvas_div.css('height', height)\n",
       "\n",
       "        canvas.attr('width', width * mpl.ratio);\n",
       "        canvas.attr('height', height * mpl.ratio);\n",
       "        canvas.attr('style', 'width: ' + width + 'px; height: ' + height + 'px;');\n",
       "\n",
       "        rubberband.attr('width', width);\n",
       "        rubberband.attr('height', height);\n",
       "    }\n",
       "\n",
       "    // Set the figure to an initial 600x600px, this will subsequently be updated\n",
       "    // upon first draw.\n",
       "    this._resize_canvas(600, 600);\n",
       "\n",
       "    // Disable right mouse context menu.\n",
       "    $(this.rubberband_canvas).bind(\"contextmenu\",function(e){\n",
       "        return false;\n",
       "    });\n",
       "\n",
       "    function set_focus () {\n",
       "        canvas.focus();\n",
       "        canvas_div.focus();\n",
       "    }\n",
       "\n",
       "    window.setTimeout(set_focus, 100);\n",
       "}\n",
       "\n",
       "mpl.figure.prototype._init_toolbar = function() {\n",
       "    var fig = this;\n",
       "\n",
       "    var nav_element = $('<div/>')\n",
       "    nav_element.attr('style', 'width: 100%');\n",
       "    this.root.append(nav_element);\n",
       "\n",
       "    // Define a callback function for later on.\n",
       "    function toolbar_event(event) {\n",
       "        return fig.toolbar_button_onclick(event['data']);\n",
       "    }\n",
       "    function toolbar_mouse_event(event) {\n",
       "        return fig.toolbar_button_onmouseover(event['data']);\n",
       "    }\n",
       "\n",
       "    for(var toolbar_ind in mpl.toolbar_items) {\n",
       "        var name = mpl.toolbar_items[toolbar_ind][0];\n",
       "        var tooltip = mpl.toolbar_items[toolbar_ind][1];\n",
       "        var image = mpl.toolbar_items[toolbar_ind][2];\n",
       "        var method_name = mpl.toolbar_items[toolbar_ind][3];\n",
       "\n",
       "        if (!name) {\n",
       "            // put a spacer in here.\n",
       "            continue;\n",
       "        }\n",
       "        var button = $('<button/>');\n",
       "        button.addClass('ui-button ui-widget ui-state-default ui-corner-all ' +\n",
       "                        'ui-button-icon-only');\n",
       "        button.attr('role', 'button');\n",
       "        button.attr('aria-disabled', 'false');\n",
       "        button.click(method_name, toolbar_event);\n",
       "        button.mouseover(tooltip, toolbar_mouse_event);\n",
       "\n",
       "        var icon_img = $('<span/>');\n",
       "        icon_img.addClass('ui-button-icon-primary ui-icon');\n",
       "        icon_img.addClass(image);\n",
       "        icon_img.addClass('ui-corner-all');\n",
       "\n",
       "        var tooltip_span = $('<span/>');\n",
       "        tooltip_span.addClass('ui-button-text');\n",
       "        tooltip_span.html(tooltip);\n",
       "\n",
       "        button.append(icon_img);\n",
       "        button.append(tooltip_span);\n",
       "\n",
       "        nav_element.append(button);\n",
       "    }\n",
       "\n",
       "    var fmt_picker_span = $('<span/>');\n",
       "\n",
       "    var fmt_picker = $('<select/>');\n",
       "    fmt_picker.addClass('mpl-toolbar-option ui-widget ui-widget-content');\n",
       "    fmt_picker_span.append(fmt_picker);\n",
       "    nav_element.append(fmt_picker_span);\n",
       "    this.format_dropdown = fmt_picker[0];\n",
       "\n",
       "    for (var ind in mpl.extensions) {\n",
       "        var fmt = mpl.extensions[ind];\n",
       "        var option = $(\n",
       "            '<option/>', {selected: fmt === mpl.default_extension}).html(fmt);\n",
       "        fmt_picker.append(option)\n",
       "    }\n",
       "\n",
       "    // Add hover states to the ui-buttons\n",
       "    $( \".ui-button\" ).hover(\n",
       "        function() { $(this).addClass(\"ui-state-hover\");},\n",
       "        function() { $(this).removeClass(\"ui-state-hover\");}\n",
       "    );\n",
       "\n",
       "    var status_bar = $('<span class=\"mpl-message\"/>');\n",
       "    nav_element.append(status_bar);\n",
       "    this.message = status_bar[0];\n",
       "}\n",
       "\n",
       "mpl.figure.prototype.request_resize = function(x_pixels, y_pixels) {\n",
       "    // Request matplotlib to resize the figure. Matplotlib will then trigger a resize in the client,\n",
       "    // which will in turn request a refresh of the image.\n",
       "    this.send_message('resize', {'width': x_pixels, 'height': y_pixels});\n",
       "}\n",
       "\n",
       "mpl.figure.prototype.send_message = function(type, properties) {\n",
       "    properties['type'] = type;\n",
       "    properties['figure_id'] = this.id;\n",
       "    this.ws.send(JSON.stringify(properties));\n",
       "}\n",
       "\n",
       "mpl.figure.prototype.send_draw_message = function() {\n",
       "    if (!this.waiting) {\n",
       "        this.waiting = true;\n",
       "        this.ws.send(JSON.stringify({type: \"draw\", figure_id: this.id}));\n",
       "    }\n",
       "}\n",
       "\n",
       "\n",
       "mpl.figure.prototype.handle_save = function(fig, msg) {\n",
       "    var format_dropdown = fig.format_dropdown;\n",
       "    var format = format_dropdown.options[format_dropdown.selectedIndex].value;\n",
       "    fig.ondownload(fig, format);\n",
       "}\n",
       "\n",
       "\n",
       "mpl.figure.prototype.handle_resize = function(fig, msg) {\n",
       "    var size = msg['size'];\n",
       "    if (size[0] != fig.canvas.width || size[1] != fig.canvas.height) {\n",
       "        fig._resize_canvas(size[0], size[1]);\n",
       "        fig.send_message(\"refresh\", {});\n",
       "    };\n",
       "}\n",
       "\n",
       "mpl.figure.prototype.handle_rubberband = function(fig, msg) {\n",
       "    var x0 = msg['x0'] / mpl.ratio;\n",
       "    var y0 = (fig.canvas.height - msg['y0']) / mpl.ratio;\n",
       "    var x1 = msg['x1'] / mpl.ratio;\n",
       "    var y1 = (fig.canvas.height - msg['y1']) / mpl.ratio;\n",
       "    x0 = Math.floor(x0) + 0.5;\n",
       "    y0 = Math.floor(y0) + 0.5;\n",
       "    x1 = Math.floor(x1) + 0.5;\n",
       "    y1 = Math.floor(y1) + 0.5;\n",
       "    var min_x = Math.min(x0, x1);\n",
       "    var min_y = Math.min(y0, y1);\n",
       "    var width = Math.abs(x1 - x0);\n",
       "    var height = Math.abs(y1 - y0);\n",
       "\n",
       "    fig.rubberband_context.clearRect(\n",
       "        0, 0, fig.canvas.width, fig.canvas.height);\n",
       "\n",
       "    fig.rubberband_context.strokeRect(min_x, min_y, width, height);\n",
       "}\n",
       "\n",
       "mpl.figure.prototype.handle_figure_label = function(fig, msg) {\n",
       "    // Updates the figure title.\n",
       "    fig.header.textContent = msg['label'];\n",
       "}\n",
       "\n",
       "mpl.figure.prototype.handle_cursor = function(fig, msg) {\n",
       "    var cursor = msg['cursor'];\n",
       "    switch(cursor)\n",
       "    {\n",
       "    case 0:\n",
       "        cursor = 'pointer';\n",
       "        break;\n",
       "    case 1:\n",
       "        cursor = 'default';\n",
       "        break;\n",
       "    case 2:\n",
       "        cursor = 'crosshair';\n",
       "        break;\n",
       "    case 3:\n",
       "        cursor = 'move';\n",
       "        break;\n",
       "    }\n",
       "    fig.rubberband_canvas.style.cursor = cursor;\n",
       "}\n",
       "\n",
       "mpl.figure.prototype.handle_message = function(fig, msg) {\n",
       "    fig.message.textContent = msg['message'];\n",
       "}\n",
       "\n",
       "mpl.figure.prototype.handle_draw = function(fig, msg) {\n",
       "    // Request the server to send over a new figure.\n",
       "    fig.send_draw_message();\n",
       "}\n",
       "\n",
       "mpl.figure.prototype.handle_image_mode = function(fig, msg) {\n",
       "    fig.image_mode = msg['mode'];\n",
       "}\n",
       "\n",
       "mpl.figure.prototype.updated_canvas_event = function() {\n",
       "    // Called whenever the canvas gets updated.\n",
       "    this.send_message(\"ack\", {});\n",
       "}\n",
       "\n",
       "// A function to construct a web socket function for onmessage handling.\n",
       "// Called in the figure constructor.\n",
       "mpl.figure.prototype._make_on_message_function = function(fig) {\n",
       "    return function socket_on_message(evt) {\n",
       "        if (evt.data instanceof Blob) {\n",
       "            /* FIXME: We get \"Resource interpreted as Image but\n",
       "             * transferred with MIME type text/plain:\" errors on\n",
       "             * Chrome.  But how to set the MIME type?  It doesn't seem\n",
       "             * to be part of the websocket stream */\n",
       "            evt.data.type = \"image/png\";\n",
       "\n",
       "            /* Free the memory for the previous frames */\n",
       "            if (fig.imageObj.src) {\n",
       "                (window.URL || window.webkitURL).revokeObjectURL(\n",
       "                    fig.imageObj.src);\n",
       "            }\n",
       "\n",
       "            fig.imageObj.src = (window.URL || window.webkitURL).createObjectURL(\n",
       "                evt.data);\n",
       "            fig.updated_canvas_event();\n",
       "            fig.waiting = false;\n",
       "            return;\n",
       "        }\n",
       "        else if (typeof evt.data === 'string' && evt.data.slice(0, 21) == \"data:image/png;base64\") {\n",
       "            fig.imageObj.src = evt.data;\n",
       "            fig.updated_canvas_event();\n",
       "            fig.waiting = false;\n",
       "            return;\n",
       "        }\n",
       "\n",
       "        var msg = JSON.parse(evt.data);\n",
       "        var msg_type = msg['type'];\n",
       "\n",
       "        // Call the  \"handle_{type}\" callback, which takes\n",
       "        // the figure and JSON message as its only arguments.\n",
       "        try {\n",
       "            var callback = fig[\"handle_\" + msg_type];\n",
       "        } catch (e) {\n",
       "            console.log(\"No handler for the '\" + msg_type + \"' message type: \", msg);\n",
       "            return;\n",
       "        }\n",
       "\n",
       "        if (callback) {\n",
       "            try {\n",
       "                // console.log(\"Handling '\" + msg_type + \"' message: \", msg);\n",
       "                callback(fig, msg);\n",
       "            } catch (e) {\n",
       "                console.log(\"Exception inside the 'handler_\" + msg_type + \"' callback:\", e, e.stack, msg);\n",
       "            }\n",
       "        }\n",
       "    };\n",
       "}\n",
       "\n",
       "// from http://stackoverflow.com/questions/1114465/getting-mouse-location-in-canvas\n",
       "mpl.findpos = function(e) {\n",
       "    //this section is from http://www.quirksmode.org/js/events_properties.html\n",
       "    var targ;\n",
       "    if (!e)\n",
       "        e = window.event;\n",
       "    if (e.target)\n",
       "        targ = e.target;\n",
       "    else if (e.srcElement)\n",
       "        targ = e.srcElement;\n",
       "    if (targ.nodeType == 3) // defeat Safari bug\n",
       "        targ = targ.parentNode;\n",
       "\n",
       "    // jQuery normalizes the pageX and pageY\n",
       "    // pageX,Y are the mouse positions relative to the document\n",
       "    // offset() returns the position of the element relative to the document\n",
       "    var x = e.pageX - $(targ).offset().left;\n",
       "    var y = e.pageY - $(targ).offset().top;\n",
       "\n",
       "    return {\"x\": x, \"y\": y};\n",
       "};\n",
       "\n",
       "/*\n",
       " * return a copy of an object with only non-object keys\n",
       " * we need this to avoid circular references\n",
       " * http://stackoverflow.com/a/24161582/3208463\n",
       " */\n",
       "function simpleKeys (original) {\n",
       "  return Object.keys(original).reduce(function (obj, key) {\n",
       "    if (typeof original[key] !== 'object')\n",
       "        obj[key] = original[key]\n",
       "    return obj;\n",
       "  }, {});\n",
       "}\n",
       "\n",
       "mpl.figure.prototype.mouse_event = function(event, name) {\n",
       "    var canvas_pos = mpl.findpos(event)\n",
       "\n",
       "    if (name === 'button_press')\n",
       "    {\n",
       "        this.canvas.focus();\n",
       "        this.canvas_div.focus();\n",
       "    }\n",
       "\n",
       "    var x = canvas_pos.x * mpl.ratio;\n",
       "    var y = canvas_pos.y * mpl.ratio;\n",
       "\n",
       "    this.send_message(name, {x: x, y: y, button: event.button,\n",
       "                             step: event.step,\n",
       "                             guiEvent: simpleKeys(event)});\n",
       "\n",
       "    /* This prevents the web browser from automatically changing to\n",
       "     * the text insertion cursor when the button is pressed.  We want\n",
       "     * to control all of the cursor setting manually through the\n",
       "     * 'cursor' event from matplotlib */\n",
       "    event.preventDefault();\n",
       "    return false;\n",
       "}\n",
       "\n",
       "mpl.figure.prototype._key_event_extra = function(event, name) {\n",
       "    // Handle any extra behaviour associated with a key event\n",
       "}\n",
       "\n",
       "mpl.figure.prototype.key_event = function(event, name) {\n",
       "\n",
       "    // Prevent repeat events\n",
       "    if (name == 'key_press')\n",
       "    {\n",
       "        if (event.which === this._key)\n",
       "            return;\n",
       "        else\n",
       "            this._key = event.which;\n",
       "    }\n",
       "    if (name == 'key_release')\n",
       "        this._key = null;\n",
       "\n",
       "    var value = '';\n",
       "    if (event.ctrlKey && event.which != 17)\n",
       "        value += \"ctrl+\";\n",
       "    if (event.altKey && event.which != 18)\n",
       "        value += \"alt+\";\n",
       "    if (event.shiftKey && event.which != 16)\n",
       "        value += \"shift+\";\n",
       "\n",
       "    value += 'k';\n",
       "    value += event.which.toString();\n",
       "\n",
       "    this._key_event_extra(event, name);\n",
       "\n",
       "    this.send_message(name, {key: value,\n",
       "                             guiEvent: simpleKeys(event)});\n",
       "    return false;\n",
       "}\n",
       "\n",
       "mpl.figure.prototype.toolbar_button_onclick = function(name) {\n",
       "    if (name == 'download') {\n",
       "        this.handle_save(this, null);\n",
       "    } else {\n",
       "        this.send_message(\"toolbar_button\", {name: name});\n",
       "    }\n",
       "};\n",
       "\n",
       "mpl.figure.prototype.toolbar_button_onmouseover = function(tooltip) {\n",
       "    this.message.textContent = tooltip;\n",
       "};\n",
       "mpl.toolbar_items = [[\"Home\", \"Reset original view\", \"fa fa-home icon-home\", \"home\"], [\"Back\", \"Back to  previous view\", \"fa fa-arrow-left icon-arrow-left\", \"back\"], [\"Forward\", \"Forward to next view\", \"fa fa-arrow-right icon-arrow-right\", \"forward\"], [\"\", \"\", \"\", \"\"], [\"Pan\", \"Pan axes with left mouse, zoom with right\", \"fa fa-arrows icon-move\", \"pan\"], [\"Zoom\", \"Zoom to rectangle\", \"fa fa-square-o icon-check-empty\", \"zoom\"], [\"\", \"\", \"\", \"\"], [\"Download\", \"Download plot\", \"fa fa-floppy-o icon-save\", \"download\"]];\n",
       "\n",
       "mpl.extensions = [\"eps\", \"pdf\", \"png\", \"ps\", \"raw\", \"svg\"];\n",
       "\n",
       "mpl.default_extension = \"png\";var comm_websocket_adapter = function(comm) {\n",
       "    // Create a \"websocket\"-like object which calls the given IPython comm\n",
       "    // object with the appropriate methods. Currently this is a non binary\n",
       "    // socket, so there is still some room for performance tuning.\n",
       "    var ws = {};\n",
       "\n",
       "    ws.close = function() {\n",
       "        comm.close()\n",
       "    };\n",
       "    ws.send = function(m) {\n",
       "        //console.log('sending', m);\n",
       "        comm.send(m);\n",
       "    };\n",
       "    // Register the callback with on_msg.\n",
       "    comm.on_msg(function(msg) {\n",
       "        //console.log('receiving', msg['content']['data'], msg);\n",
       "        // Pass the mpl event to the overriden (by mpl) onmessage function.\n",
       "        ws.onmessage(msg['content']['data'])\n",
       "    });\n",
       "    return ws;\n",
       "}\n",
       "\n",
       "mpl.mpl_figure_comm = function(comm, msg) {\n",
       "    // This is the function which gets called when the mpl process\n",
       "    // starts-up an IPython Comm through the \"matplotlib\" channel.\n",
       "\n",
       "    var id = msg.content.data.id;\n",
       "    // Get hold of the div created by the display call when the Comm\n",
       "    // socket was opened in Python.\n",
       "    var element = $(\"#\" + id);\n",
       "    var ws_proxy = comm_websocket_adapter(comm)\n",
       "\n",
       "    function ondownload(figure, format) {\n",
       "        window.open(figure.imageObj.src);\n",
       "    }\n",
       "\n",
       "    var fig = new mpl.figure(id, ws_proxy,\n",
       "                           ondownload,\n",
       "                           element.get(0));\n",
       "\n",
       "    // Call onopen now - mpl needs it, as it is assuming we've passed it a real\n",
       "    // web socket which is closed, not our websocket->open comm proxy.\n",
       "    ws_proxy.onopen();\n",
       "\n",
       "    fig.parent_element = element.get(0);\n",
       "    fig.cell_info = mpl.find_output_cell(\"<div id='\" + id + \"'></div>\");\n",
       "    if (!fig.cell_info) {\n",
       "        console.error(\"Failed to find cell for figure\", id, fig);\n",
       "        return;\n",
       "    }\n",
       "\n",
       "    var output_index = fig.cell_info[2]\n",
       "    var cell = fig.cell_info[0];\n",
       "\n",
       "};\n",
       "\n",
       "mpl.figure.prototype.handle_close = function(fig, msg) {\n",
       "    var width = fig.canvas.width/mpl.ratio\n",
       "    fig.root.unbind('remove')\n",
       "\n",
       "    // Update the output cell to use the data from the current canvas.\n",
       "    fig.push_to_output();\n",
       "    var dataURL = fig.canvas.toDataURL();\n",
       "    // Re-enable the keyboard manager in IPython - without this line, in FF,\n",
       "    // the notebook keyboard shortcuts fail.\n",
       "    IPython.keyboard_manager.enable()\n",
       "    $(fig.parent_element).html('<img src=\"' + dataURL + '\" width=\"' + width + '\">');\n",
       "    fig.close_ws(fig, msg);\n",
       "}\n",
       "\n",
       "mpl.figure.prototype.close_ws = function(fig, msg){\n",
       "    fig.send_message('closing', msg);\n",
       "    // fig.ws.close()\n",
       "}\n",
       "\n",
       "mpl.figure.prototype.push_to_output = function(remove_interactive) {\n",
       "    // Turn the data on the canvas into data in the output cell.\n",
       "    var width = this.canvas.width/mpl.ratio\n",
       "    var dataURL = this.canvas.toDataURL();\n",
       "    this.cell_info[1]['text/html'] = '<img src=\"' + dataURL + '\" width=\"' + width + '\">';\n",
       "}\n",
       "\n",
       "mpl.figure.prototype.updated_canvas_event = function() {\n",
       "    // Tell IPython that the notebook contents must change.\n",
       "    IPython.notebook.set_dirty(true);\n",
       "    this.send_message(\"ack\", {});\n",
       "    var fig = this;\n",
       "    // Wait a second, then push the new image to the DOM so\n",
       "    // that it is saved nicely (might be nice to debounce this).\n",
       "    setTimeout(function () { fig.push_to_output() }, 1000);\n",
       "}\n",
       "\n",
       "mpl.figure.prototype._init_toolbar = function() {\n",
       "    var fig = this;\n",
       "\n",
       "    var nav_element = $('<div/>')\n",
       "    nav_element.attr('style', 'width: 100%');\n",
       "    this.root.append(nav_element);\n",
       "\n",
       "    // Define a callback function for later on.\n",
       "    function toolbar_event(event) {\n",
       "        return fig.toolbar_button_onclick(event['data']);\n",
       "    }\n",
       "    function toolbar_mouse_event(event) {\n",
       "        return fig.toolbar_button_onmouseover(event['data']);\n",
       "    }\n",
       "\n",
       "    for(var toolbar_ind in mpl.toolbar_items){\n",
       "        var name = mpl.toolbar_items[toolbar_ind][0];\n",
       "        var tooltip = mpl.toolbar_items[toolbar_ind][1];\n",
       "        var image = mpl.toolbar_items[toolbar_ind][2];\n",
       "        var method_name = mpl.toolbar_items[toolbar_ind][3];\n",
       "\n",
       "        if (!name) { continue; };\n",
       "\n",
       "        var button = $('<button class=\"btn btn-default\" href=\"#\" title=\"' + name + '\"><i class=\"fa ' + image + ' fa-lg\"></i></button>');\n",
       "        button.click(method_name, toolbar_event);\n",
       "        button.mouseover(tooltip, toolbar_mouse_event);\n",
       "        nav_element.append(button);\n",
       "    }\n",
       "\n",
       "    // Add the status bar.\n",
       "    var status_bar = $('<span class=\"mpl-message\" style=\"text-align:right; float: right;\"/>');\n",
       "    nav_element.append(status_bar);\n",
       "    this.message = status_bar[0];\n",
       "\n",
       "    // Add the close button to the window.\n",
       "    var buttongrp = $('<div class=\"btn-group inline pull-right\"></div>');\n",
       "    var button = $('<button class=\"btn btn-mini btn-primary\" href=\"#\" title=\"Stop Interaction\"><i class=\"fa fa-power-off icon-remove icon-large\"></i></button>');\n",
       "    button.click(function (evt) { fig.handle_close(fig, {}); } );\n",
       "    button.mouseover('Stop Interaction', toolbar_mouse_event);\n",
       "    buttongrp.append(button);\n",
       "    var titlebar = this.root.find($('.ui-dialog-titlebar'));\n",
       "    titlebar.prepend(buttongrp);\n",
       "}\n",
       "\n",
       "mpl.figure.prototype._root_extra_style = function(el){\n",
       "    var fig = this\n",
       "    el.on(\"remove\", function(){\n",
       "\tfig.close_ws(fig, {});\n",
       "    });\n",
       "}\n",
       "\n",
       "mpl.figure.prototype._canvas_extra_style = function(el){\n",
       "    // this is important to make the div 'focusable\n",
       "    el.attr('tabindex', 0)\n",
       "    // reach out to IPython and tell the keyboard manager to turn it's self\n",
       "    // off when our div gets focus\n",
       "\n",
       "    // location in version 3\n",
       "    if (IPython.notebook.keyboard_manager) {\n",
       "        IPython.notebook.keyboard_manager.register_events(el);\n",
       "    }\n",
       "    else {\n",
       "        // location in version 2\n",
       "        IPython.keyboard_manager.register_events(el);\n",
       "    }\n",
       "\n",
       "}\n",
       "\n",
       "mpl.figure.prototype._key_event_extra = function(event, name) {\n",
       "    var manager = IPython.notebook.keyboard_manager;\n",
       "    if (!manager)\n",
       "        manager = IPython.keyboard_manager;\n",
       "\n",
       "    // Check for shift+enter\n",
       "    if (event.shiftKey && event.which == 13) {\n",
       "        this.canvas_div.blur();\n",
       "        // select the cell after this one\n",
       "        var index = IPython.notebook.find_cell_index(this.cell_info[0]);\n",
       "        IPython.notebook.select(index + 1);\n",
       "    }\n",
       "}\n",
       "\n",
       "mpl.figure.prototype.handle_save = function(fig, msg) {\n",
       "    fig.ondownload(fig, null);\n",
       "}\n",
       "\n",
       "\n",
       "mpl.find_output_cell = function(html_output) {\n",
       "    // Return the cell and output element which can be found *uniquely* in the notebook.\n",
       "    // Note - this is a bit hacky, but it is done because the \"notebook_saving.Notebook\"\n",
       "    // IPython event is triggered only after the cells have been serialised, which for\n",
       "    // our purposes (turning an active figure into a static one), is too late.\n",
       "    var cells = IPython.notebook.get_cells();\n",
       "    var ncells = cells.length;\n",
       "    for (var i=0; i<ncells; i++) {\n",
       "        var cell = cells[i];\n",
       "        if (cell.cell_type === 'code'){\n",
       "            for (var j=0; j<cell.output_area.outputs.length; j++) {\n",
       "                var data = cell.output_area.outputs[j];\n",
       "                if (data.data) {\n",
       "                    // IPython >= 3 moved mimebundle to data attribute of output\n",
       "                    data = data.data;\n",
       "                }\n",
       "                if (data['text/html'] == html_output) {\n",
       "                    return [cell, data, j];\n",
       "                }\n",
       "            }\n",
       "        }\n",
       "    }\n",
       "}\n",
       "\n",
       "// Register the function which deals with the matplotlib target/channel.\n",
       "// The kernel may be null if the page has been refreshed.\n",
       "if (IPython.notebook.kernel != null) {\n",
       "    IPython.notebook.kernel.comm_manager.register_target('matplotlib', mpl.mpl_figure_comm);\n",
       "}\n"
      ],
      "text/plain": [
       "<IPython.core.display.Javascript object>"
      ]
     },
     "metadata": {},
     "output_type": "display_data"
    },
    {
     "data": {
      "text/html": [
       "<img src=\"data:image/png;base64,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\" width=\"640\">"
      ],
      "text/plain": [
       "<IPython.core.display.HTML object>"
      ]
     },
     "metadata": {},
     "output_type": "display_data"
    },
    {
     "data": {
      "text/html": [
       "<div>\n",
       "<style>\n",
       "    .dataframe thead tr:only-child th {\n",
       "        text-align: right;\n",
       "    }\n",
       "\n",
       "    .dataframe thead th {\n",
       "        text-align: left;\n",
       "    }\n",
       "\n",
       "    .dataframe tbody tr th {\n",
       "        vertical-align: top;\n",
       "    }\n",
       "</style>\n",
       "<table border=\"1\" class=\"dataframe\">\n",
       "  <thead>\n",
       "    <tr>\n",
       "      <th></th>\n",
       "      <th></th>\n",
       "      <th colspan=\"8\" halign=\"left\">points</th>\n",
       "    </tr>\n",
       "    <tr>\n",
       "      <th></th>\n",
       "      <th></th>\n",
       "      <th>count</th>\n",
       "      <th>mean</th>\n",
       "      <th>std</th>\n",
       "      <th>min</th>\n",
       "      <th>25%</th>\n",
       "      <th>50%</th>\n",
       "      <th>75%</th>\n",
       "      <th>max</th>\n",
       "    </tr>\n",
       "    <tr>\n",
       "      <th>home</th>\n",
       "      <th>position</th>\n",
       "      <th></th>\n",
       "      <th></th>\n",
       "      <th></th>\n",
       "      <th></th>\n",
       "      <th></th>\n",
       "      <th></th>\n",
       "      <th></th>\n",
       "      <th></th>\n",
       "    </tr>\n",
       "  </thead>\n",
       "  <tbody>\n",
       "    <tr>\n",
       "      <th rowspan=\"6\" valign=\"top\">False</th>\n",
       "      <th>coach</th>\n",
       "      <td>66.0</td>\n",
       "      <td>0.000000</td>\n",
       "      <td>0.000000</td>\n",
       "      <td>0.0</td>\n",
       "      <td>0.000</td>\n",
       "      <td>0.00</td>\n",
       "      <td>0.000</td>\n",
       "      <td>0.0</td>\n",
       "    </tr>\n",
       "    <tr>\n",
       "      <th>defender</th>\n",
       "      <td>128.0</td>\n",
       "      <td>3.013281</td>\n",
       "      <td>3.815352</td>\n",
       "      <td>-3.9</td>\n",
       "      <td>0.075</td>\n",
       "      <td>2.10</td>\n",
       "      <td>5.525</td>\n",
       "      <td>16.3</td>\n",
       "    </tr>\n",
       "    <tr>\n",
       "      <th>fullback</th>\n",
       "      <td>129.0</td>\n",
       "      <td>3.457364</td>\n",
       "      <td>4.706226</td>\n",
       "      <td>-5.1</td>\n",
       "      <td>0.000</td>\n",
       "      <td>2.50</td>\n",
       "      <td>5.900</td>\n",
       "      <td>24.8</td>\n",
       "    </tr>\n",
       "    <tr>\n",
       "      <th>goalkeeper</th>\n",
       "      <td>68.0</td>\n",
       "      <td>3.654412</td>\n",
       "      <td>5.574367</td>\n",
       "      <td>-8.0</td>\n",
       "      <td>-0.075</td>\n",
       "      <td>3.25</td>\n",
       "      <td>7.700</td>\n",
       "      <td>18.2</td>\n",
       "    </tr>\n",
       "    <tr>\n",
       "      <th>midfielder</th>\n",
       "      <td>246.0</td>\n",
       "      <td>3.013415</td>\n",
       "      <td>4.642477</td>\n",
       "      <td>-5.5</td>\n",
       "      <td>0.000</td>\n",
       "      <td>1.95</td>\n",
       "      <td>5.175</td>\n",
       "      <td>20.5</td>\n",
       "    </tr>\n",
       "    <tr>\n",
       "      <th>striker</th>\n",
       "      <td>140.0</td>\n",
       "      <td>3.822143</td>\n",
       "      <td>5.779598</td>\n",
       "      <td>-5.8</td>\n",
       "      <td>0.000</td>\n",
       "      <td>1.60</td>\n",
       "      <td>6.675</td>\n",
       "      <td>29.9</td>\n",
       "    </tr>\n",
       "    <tr>\n",
       "      <th rowspan=\"6\" valign=\"top\">True</th>\n",
       "      <th>coach</th>\n",
       "      <td>67.0</td>\n",
       "      <td>0.000000</td>\n",
       "      <td>0.000000</td>\n",
       "      <td>0.0</td>\n",
       "      <td>0.000</td>\n",
       "      <td>0.00</td>\n",
       "      <td>0.000</td>\n",
       "      <td>0.0</td>\n",
       "    </tr>\n",
       "    <tr>\n",
       "      <th>defender</th>\n",
       "      <td>133.0</td>\n",
       "      <td>4.216541</td>\n",
       "      <td>3.877405</td>\n",
       "      <td>-4.2</td>\n",
       "      <td>0.900</td>\n",
       "      <td>4.10</td>\n",
       "      <td>6.700</td>\n",
       "      <td>18.8</td>\n",
       "    </tr>\n",
       "    <tr>\n",
       "      <th>fullback</th>\n",
       "      <td>131.0</td>\n",
       "      <td>4.481679</td>\n",
       "      <td>4.253140</td>\n",
       "      <td>-4.0</td>\n",
       "      <td>1.000</td>\n",
       "      <td>4.20</td>\n",
       "      <td>7.150</td>\n",
       "      <td>15.8</td>\n",
       "    </tr>\n",
       "    <tr>\n",
       "      <th>goalkeeper</th>\n",
       "      <td>68.0</td>\n",
       "      <td>5.364706</td>\n",
       "      <td>7.336105</td>\n",
       "      <td>-13.2</td>\n",
       "      <td>1.000</td>\n",
       "      <td>5.00</td>\n",
       "      <td>9.800</td>\n",
       "      <td>26.0</td>\n",
       "    </tr>\n",
       "    <tr>\n",
       "      <th>midfielder</th>\n",
       "      <td>248.0</td>\n",
       "      <td>3.458468</td>\n",
       "      <td>4.136136</td>\n",
       "      <td>-3.7</td>\n",
       "      <td>0.100</td>\n",
       "      <td>2.80</td>\n",
       "      <td>5.625</td>\n",
       "      <td>21.1</td>\n",
       "    </tr>\n",
       "    <tr>\n",
       "      <th>striker</th>\n",
       "      <td>146.0</td>\n",
       "      <td>4.580822</td>\n",
       "      <td>5.525419</td>\n",
       "      <td>-4.0</td>\n",
       "      <td>0.050</td>\n",
       "      <td>2.85</td>\n",
       "      <td>7.650</td>\n",
       "      <td>26.3</td>\n",
       "    </tr>\n",
       "  </tbody>\n",
       "</table>\n",
       "</div>"
      ],
      "text/plain": [
       "                 points                                                    \n",
       "                  count      mean       std   min    25%   50%    75%   max\n",
       "home  position                                                             \n",
       "False coach        66.0  0.000000  0.000000   0.0  0.000  0.00  0.000   0.0\n",
       "      defender    128.0  3.013281  3.815352  -3.9  0.075  2.10  5.525  16.3\n",
       "      fullback    129.0  3.457364  4.706226  -5.1  0.000  2.50  5.900  24.8\n",
       "      goalkeeper   68.0  3.654412  5.574367  -8.0 -0.075  3.25  7.700  18.2\n",
       "      midfielder  246.0  3.013415  4.642477  -5.5  0.000  1.95  5.175  20.5\n",
       "      striker     140.0  3.822143  5.779598  -5.8  0.000  1.60  6.675  29.9\n",
       "True  coach        67.0  0.000000  0.000000   0.0  0.000  0.00  0.000   0.0\n",
       "      defender    133.0  4.216541  3.877405  -4.2  0.900  4.10  6.700  18.8\n",
       "      fullback    131.0  4.481679  4.253140  -4.0  1.000  4.20  7.150  15.8\n",
       "      goalkeeper   68.0  5.364706  7.336105 -13.2  1.000  5.00  9.800  26.0\n",
       "      midfielder  248.0  3.458468  4.136136  -3.7  0.100  2.80  5.625  21.1\n",
       "      striker     146.0  4.580822  5.525419  -4.0  0.050  2.85  7.650  26.3"
      ]
     },
     "execution_count": 21,
     "metadata": {},
     "output_type": "execute_result"
    }
   ],
   "source": [
    "all_rounds[all_rounds.status == 'likely'][['home', 'position', 'points']].boxplot(by=['home', 'position'])\n",
    "plt.xticks(rotation=25)\n",
    "all_rounds[all_rounds.status == 'likely'][['home', 'position', 'points']].groupby(by=['home', 'position']).describe()"
   ]
  }
 ],
 "metadata": {
  "kernelspec": {
   "display_name": "Python 3",
   "language": "python",
   "name": "python3"
  },
  "language_info": {
   "codemirror_mode": {
    "name": "ipython",
    "version": 3
   },
   "file_extension": ".py",
   "mimetype": "text/x-python",
   "name": "python",
   "nbconvert_exporter": "python",
   "pygments_lexer": "ipython3",
   "version": "3.6.1"
  },
  "widgets": {
   "application/vnd.jupyter.widget-state+json": {
    "state": {
     "009c1ccb969843fcbc9741bd14c37700": {
      "model_module": "jupyter-js-widgets",
      "model_module_version": "~2.1.4",
      "model_name": "VBoxModel",
      "state": {
       "_dom_classes": [
        "widget-interact"
       ],
       "_model_module_version": "~2.1.4",
       "_view_module_version": "~2.1.4",
       "children": [
        "IPY_MODEL_e29b3deba59e45218007f5da33b561c0",
        "IPY_MODEL_7c42ebff59904c5b9cf27b9d6fcca5a4",
        "IPY_MODEL_0ca29447ee7142dfa43f076c0ccb7bb9",
        "IPY_MODEL_a3151959d5bc4722a1c972a22e44c77f"
       ],
       "layout": "IPY_MODEL_a45a8049cea842c58f8bd25305d728cc"
      }
     },
     "0227774ca2ec4a8d93fa395c04dade2e": {
      "model_module": "jupyter-js-widgets",
      "model_module_version": "~2.1.4",
      "model_name": "DropdownModel",
      "state": {
       "_model_module_version": "~2.1.4",
       "_options_labels": [
        "0",
        "1",
        "2",
        "3",
        "4",
        "5",
        "6"
       ],
       "_view_module_version": "~2.1.4",
       "description": "x",
       "layout": "IPY_MODEL_334001b4d6bf48b8984321ab61fd1225",
       "value": "0"
      }
     },
     "02d77a3c93004994ad4a9553e0c7ee67": {
      "model_module": "jupyter-js-widgets",
      "model_module_version": "~2.1.4",
      "model_name": "LayoutModel",
      "state": {
       "_model_module_version": "~2.1.4",
       "_view_module_version": "~2.1.4"
      }
     },
     "05a3aa856c0a42778030e57dd7fb24a5": {
      "model_module": "jupyter-js-widgets",
      "model_module_version": "~2.1.4",
      "model_name": "LayoutModel",
      "state": {
       "_model_module_version": "~2.1.4",
       "_view_module_version": "~2.1.4"
      }
     },
     "076d2e14d8af435f83bc03894e2c24b6": {
      "model_module": "jupyter-js-widgets",
      "model_module_version": "~2.1.4",
      "model_name": "LayoutModel",
      "state": {
       "_model_module_version": "~2.1.4",
       "_view_module_version": "~2.1.4"
      }
     },
     "077444ece37e46ce85f8d6a6097fab08": {
      "model_module": "jupyter-js-widgets",
      "model_module_version": "~2.1.4",
      "model_name": "LayoutModel",
      "state": {
       "_model_module_version": "~2.1.4",
       "_view_module_version": "~2.1.4"
      }
     },
     "07aebbf67c244c53af2c7be1bd4c0015": {
      "model_module": "jupyter-js-widgets",
      "model_module_version": "~2.1.4",
      "model_name": "DropdownModel",
      "state": {
       "_model_module_version": "~2.1.4",
       "_options_labels": [
        "343",
        "352",
        "433",
        "442",
        "451",
        "532",
        "541"
       ],
       "_view_module_version": "~2.1.4",
       "description": "formation_type",
       "layout": "IPY_MODEL_97076b35aa7a40aaaf428ad83c740fee",
       "value": "343"
      }
     },
     "0afd8cd284b746d496ef97b4094f4669": {
      "model_module": "jupyter-js-widgets",
      "model_module_version": "~2.1.4",
      "model_name": "DropdownModel",
      "state": {
       "_model_module_version": "~2.1.4",
       "_options_labels": [
        "0",
        "1",
        "2",
        "3",
        "4",
        "5",
        "6"
       ],
       "_view_module_version": "~2.1.4",
       "description": "x",
       "layout": "IPY_MODEL_0eed7ad4eec046508cf85d4ebae1977a",
       "value": "0"
      }
     },
     "0b4f7841d54849f993d73690aca63c9d": {
      "model_module": "jupyter-js-widgets",
      "model_module_version": "~2.1.4",
      "model_name": "LayoutModel",
      "state": {
       "_model_module_version": "~2.1.4",
       "_view_module_version": "~2.1.4"
      }
     },
     "0ca29447ee7142dfa43f076c0ccb7bb9": {
      "model_module": "jupyter-js-widgets",
      "model_module_version": "~2.1.4",
      "model_name": "IntSliderModel",
      "state": {
       "_model_module_version": "~2.1.4",
       "_view_module_version": "~2.1.4",
       "description": "sample_size",
       "layout": "IPY_MODEL_7ee101c230b64e8286c29e67c2a3d094",
       "max": 300,
       "min": -100,
       "style": "IPY_MODEL_6b1329a55ca043909f05054f6eb2c10b",
       "value": 100
      }
     },
     "0cf2f924d57c452da8ec645a1590f608": {
      "model_module": "jupyter-js-widgets",
      "model_module_version": "~2.1.4",
      "model_name": "LayoutModel",
      "state": {
       "_model_module_version": "~2.1.4",
       "_view_module_version": "~2.1.4"
      }
     },
     "0dfb4bdf8d1f4d6c84d3cd246cfa8b2a": {
      "model_module": "jupyter-js-widgets",
      "model_module_version": "~2.1.4",
      "model_name": "LayoutModel",
      "state": {
       "_model_module_version": "~2.1.4",
       "_view_module_version": "~2.1.4"
      }
     },
     "0e82bbdf43d94888ab5a387f347288e9": {
      "model_module": "jupyter-js-widgets",
      "model_module_version": "~2.1.4",
      "model_name": "VBoxModel",
      "state": {
       "_dom_classes": [
        "widget-interact"
       ],
       "_model_module_version": "~2.1.4",
       "_view_module_version": "~2.1.4",
       "layout": "IPY_MODEL_fae5fdbd39d24aa2999f19236a24d285"
      }
     },
     "0eed7ad4eec046508cf85d4ebae1977a": {
      "model_module": "jupyter-js-widgets",
      "model_module_version": "~2.1.4",
      "model_name": "LayoutModel",
      "state": {
       "_model_module_version": "~2.1.4",
       "_view_module_version": "~2.1.4"
      }
     },
     "14b10daf67ac4fd396be20c5827d4651": {
      "model_module": "jupyter-js-widgets",
      "model_module_version": "~2.1.4",
      "model_name": "DropdownModel",
      "state": {
       "_model_module_version": "~2.1.4",
       "_options_labels": [
        "343",
        "352",
        "433",
        "442",
        "451",
        "532",
        "541"
       ],
       "_view_module_version": "~2.1.4",
       "description": "formation_type",
       "layout": "IPY_MODEL_d742567eb5ce43fba5956c043794d9aa",
       "value": "343"
      }
     },
     "176561f10eb849c690c7560f35658705": {
      "model_module": "jupyter-js-widgets",
      "model_module_version": "~2.1.4",
      "model_name": "IntSliderModel",
      "state": {
       "_model_module_version": "~2.1.4",
       "_view_module_version": "~2.1.4",
       "description": "sample_size",
       "layout": "IPY_MODEL_7e831a9b6a014b43a5fae8bdea7f6e65",
       "max": 300,
       "min": -100,
       "style": "IPY_MODEL_c4b4c19cf0e44f6c80bd319ed106c6c7",
       "value": 100
      }
     },
     "18dd9e68f24648549da6dfd88b4a5321": {
      "model_module": "jupyter-js-widgets",
      "model_module_version": "~2.1.4",
      "model_name": "OutputModel",
      "state": {
       "_dom_classes": [],
       "_model_module": "jupyter-js-widgets",
       "_model_module_version": "~2.1.4",
       "_view_module": "jupyter-js-widgets",
       "_view_module_version": "~2.1.4",
       "layout": "IPY_MODEL_5eec7e06e5b9409ea1d9f8698295459a",
       "msg_throttle": 1
      }
     },
     "19539d3a1ed54623b32344a5fb76615a": {
      "model_module": "jupyter-js-widgets",
      "model_module_version": "~2.1.4",
      "model_name": "VBoxModel",
      "state": {
       "_dom_classes": [
        "widget-interact"
       ],
       "_model_module_version": "~2.1.4",
       "_view_module_version": "~2.1.4",
       "children": [
        "IPY_MODEL_44ac3d110e274a66a1b1de5bf6a16fc9",
        "IPY_MODEL_1df848a876124f5cbf0e05005f9257f6"
       ],
       "layout": "IPY_MODEL_acd26371c92841f09028d6511385d0f2"
      }
     },
     "19d481d82a4f4ec0811300d2b13bfcf2": {
      "model_module": "jupyter-js-widgets",
      "model_module_version": "~2.1.4",
      "model_name": "DropdownModel",
      "state": {
       "_model_module_version": "~2.1.4",
       "_options_labels": [
        "343",
        "352",
        "433",
        "442",
        "451",
        "532",
        "541"
       ],
       "_view_module_version": "~2.1.4",
       "description": "formation_type",
       "layout": "IPY_MODEL_e1c2ab75379f4c749eaa4ee14b348bd5",
       "value": "352"
      }
     },
     "1ac9bfeada0b4b6bb2c59819dca8e06b": {
      "model_module": "jupyter-js-widgets",
      "model_module_version": "~2.1.4",
      "model_name": "VBoxModel",
      "state": {
       "_dom_classes": [
        "widget-interact"
       ],
       "_model_module_version": "~2.1.4",
       "_view_module_version": "~2.1.4",
       "children": [
        "IPY_MODEL_932e7aefbb3f496182da034cde159379",
        "IPY_MODEL_fc1503437ea0411b9dd059b6357666af",
        "IPY_MODEL_c97b9b224f5d4470857e3142cb488d64",
        "IPY_MODEL_97e94e684c3b4e7182af7afcf3b2ed11"
       ],
       "layout": "IPY_MODEL_0dfb4bdf8d1f4d6c84d3cd246cfa8b2a"
      }
     },
     "1b0415b004f246e8a9aabc04a5dba89d": {
      "model_module": "jupyter-js-widgets",
      "model_module_version": "~2.1.4",
      "model_name": "LayoutModel",
      "state": {
       "_model_module_version": "~2.1.4",
       "_view_module_version": "~2.1.4"
      }
     },
     "1df848a876124f5cbf0e05005f9257f6": {
      "model_module": "jupyter-js-widgets",
      "model_module_version": "~2.1.4",
      "model_name": "OutputModel",
      "state": {
       "_dom_classes": [],
       "_model_module": "jupyter-js-widgets",
       "_model_module_version": "~2.1.4",
       "_view_module": "jupyter-js-widgets",
       "_view_module_version": "~2.1.4",
       "layout": "IPY_MODEL_348f1046766b42149e5409ab79bfc000",
       "msg_throttle": 1
      }
     },
     "1e02cd8188dd46479ccc81cec131e72a": {
      "model_module": "jupyter-js-widgets",
      "model_module_version": "~2.1.4",
      "model_name": "SliderStyleModel",
      "state": {
       "_model_module_version": "~2.1.4",
       "_view_module_version": "~2.1.4"
      }
     },
     "1e62a5d4d0ce43488bfdb14a3522f04d": {
      "model_module": "jupyter-js-widgets",
      "model_module_version": "~2.1.4",
      "model_name": "OutputModel",
      "state": {
       "_dom_classes": [],
       "_model_module": "jupyter-js-widgets",
       "_model_module_version": "~2.1.4",
       "_view_module": "jupyter-js-widgets",
       "_view_module_version": "~2.1.4",
       "layout": "IPY_MODEL_873ea6584439477c949284f3d82e2d2b",
       "msg_throttle": 1
      }
     },
     "1e7d53b573d84f7cb6d09dc22504e434": {
      "model_module": "jupyter-js-widgets",
      "model_module_version": "~2.1.4",
      "model_name": "LayoutModel",
      "state": {
       "_model_module_version": "~2.1.4",
       "_view_module_version": "~2.1.4"
      }
     },
     "1ffdfde099744498936bd7ae5b23240e": {
      "model_module": "jupyter-js-widgets",
      "model_module_version": "~2.1.4",
      "model_name": "DropdownModel",
      "state": {
       "_model_module_version": "~2.1.4",
       "_options_labels": [
        "343",
        "352",
        "433",
        "442",
        "451",
        "532",
        "541"
       ],
       "_view_module_version": "~2.1.4",
       "description": "formation_type",
       "layout": "IPY_MODEL_9729fc70b7e84db298db9b3fb4dbd3ea",
       "value": "343"
      }
     },
     "207d320d18ce4278bc87589c3bd30f1b": {
      "model_module": "jupyter-js-widgets",
      "model_module_version": "~2.1.4",
      "model_name": "LayoutModel",
      "state": {
       "_model_module_version": "~2.1.4",
       "_view_module_version": "~2.1.4"
      }
     },
     "23826e2e731547368163cdf1a91b9a74": {
      "model_module": "jupyter-js-widgets",
      "model_module_version": "~2.1.4",
      "model_name": "SliderStyleModel",
      "state": {
       "_model_module_version": "~2.1.4",
       "_view_module_version": "~2.1.4"
      }
     },
     "253e0d7a713a48b5a1655291cb521bf8": {
      "model_module": "jupyter-js-widgets",
      "model_module_version": "~2.1.4",
      "model_name": "VBoxModel",
      "state": {
       "_dom_classes": [
        "widget-interact"
       ],
       "_model_module_version": "~2.1.4",
       "_view_module_version": "~2.1.4",
       "children": [
        "IPY_MODEL_5f98a92bdd0b4f1ebb008b910f12b4a6",
        "IPY_MODEL_e9223a9e337447e9b59115c6bd364dd1"
       ],
       "layout": "IPY_MODEL_cde485dfef514f92a43eb51ddf2b7282"
      }
     },
     "26ac7ecbe9c3440da54ff2bb64a38971": {
      "model_module": "jupyter-js-widgets",
      "model_module_version": "~2.1.4",
      "model_name": "IntSliderModel",
      "state": {
       "_model_module_version": "~2.1.4",
       "_view_module_version": "~2.1.4",
       "description": "sample_size",
       "layout": "IPY_MODEL_a889226f400b402c8af6b7c4ebf7e321",
       "max": 300,
       "min": -100,
       "style": "IPY_MODEL_e7eca6f213734a99b2ee5d5561919d70",
       "value": 100
      }
     },
     "26d8f99a3d504cc2ab3ea347858ad4e8": {
      "model_module": "jupyter-js-widgets",
      "model_module_version": "~2.1.4",
      "model_name": "LayoutModel",
      "state": {
       "_model_module_version": "~2.1.4",
       "_view_module_version": "~2.1.4"
      }
     },
     "28a727f26f1b4398a00f2c4ba704877f": {
      "model_module": "jupyter-js-widgets",
      "model_module_version": "~2.1.4",
      "model_name": "LayoutModel",
      "state": {
       "_model_module_version": "~2.1.4",
       "_view_module_version": "~2.1.4"
      }
     },
     "28cc42769e7e49e4b3ba3aa069c76c2d": {
      "model_module": "jupyter-js-widgets",
      "model_module_version": "~2.1.4",
      "model_name": "DropdownModel",
      "state": {
       "_model_module_version": "~2.1.4",
       "_options_labels": [
        "343",
        "352",
        "433",
        "442",
        "451",
        "532",
        "541"
       ],
       "_view_module_version": "~2.1.4",
       "description": "formation_type",
       "layout": "IPY_MODEL_84446213c9b54092b7c3f947894d0fb5",
       "value": "343"
      }
     },
     "2b6f760b4e204077aae5c3f3f121ef47": {
      "model_module": "jupyter-js-widgets",
      "model_module_version": "~2.1.4",
      "model_name": "DropdownModel",
      "state": {
       "_model_module_version": "~2.1.4",
       "_options_labels": [
        "0",
        "1",
        "2",
        "3",
        "4",
        "5",
        "6"
       ],
       "_view_module_version": "~2.1.4",
       "description": "round_number",
       "layout": "IPY_MODEL_817aba6acb62468b80e327fe582fd912",
       "value": "0"
      }
     },
     "2c1a80765adc41dba4fbeff8964e56d1": {
      "model_module": "jupyter-js-widgets",
      "model_module_version": "~2.1.4",
      "model_name": "OutputModel",
      "state": {
       "_dom_classes": [],
       "_model_module": "jupyter-js-widgets",
       "_model_module_version": "~2.1.4",
       "_view_module": "jupyter-js-widgets",
       "_view_module_version": "~2.1.4",
       "layout": "IPY_MODEL_eca72bdfa5354df0a42c5e554b8c52c1",
       "msg_throttle": 1
      }
     },
     "2c3060bfdb314075961b168360f63409": {
      "model_module": "jupyter-js-widgets",
      "model_module_version": "~2.1.4",
      "model_name": "OutputModel",
      "state": {
       "_dom_classes": [],
       "_model_module": "jupyter-js-widgets",
       "_model_module_version": "~2.1.4",
       "_view_module": "jupyter-js-widgets",
       "_view_module_version": "~2.1.4",
       "layout": "IPY_MODEL_86514a425def4bae9b9ee3356bfc5962",
       "msg_throttle": 1
      }
     },
     "2c9db450b4b74a149abbb41594c9ad29": {
      "model_module": "jupyter-js-widgets",
      "model_module_version": "~2.1.4",
      "model_name": "DropdownModel",
      "state": {
       "_model_module_version": "~2.1.4",
       "_options_labels": [
        "0",
        "1",
        "2",
        "3",
        "4",
        "5",
        "6"
       ],
       "_view_module_version": "~2.1.4",
       "description": "x",
       "layout": "IPY_MODEL_e6baa7b13afc4fb68727d57f48064ff4",
       "value": "1"
      }
     },
     "2daa3e92c4f046b9894e4d343d7ec5b4": {
      "model_module": "jupyter-js-widgets",
      "model_module_version": "~2.1.4",
      "model_name": "LayoutModel",
      "state": {
       "_model_module_version": "~2.1.4",
       "_view_module_version": "~2.1.4"
      }
     },
     "2ec376fca2f64e62a57aa1e8f5e458ee": {
      "model_module": "jupyter-js-widgets",
      "model_module_version": "~2.1.4",
      "model_name": "LayoutModel",
      "state": {
       "_model_module_version": "~2.1.4",
       "_view_module_version": "~2.1.4"
      }
     },
     "2f2c473d726f44e0b83e83e8b16cb059": {
      "model_module": "jupyter-js-widgets",
      "model_module_version": "~2.1.4",
      "model_name": "LayoutModel",
      "state": {
       "_model_module_version": "~2.1.4",
       "_view_module_version": "~2.1.4"
      }
     },
     "3018896c477a4b81af3ec3e37470efff": {
      "model_module": "jupyter-js-widgets",
      "model_module_version": "~2.1.4",
      "model_name": "SliderStyleModel",
      "state": {
       "_model_module_version": "~2.1.4",
       "_view_module_version": "~2.1.4"
      }
     },
     "3266a391a36945abaa1656933cf2c052": {
      "model_module": "jupyter-js-widgets",
      "model_module_version": "~2.1.4",
      "model_name": "VBoxModel",
      "state": {
       "_dom_classes": [
        "widget-interact"
       ],
       "_model_module_version": "~2.1.4",
       "_view_module_version": "~2.1.4",
       "children": [
        "IPY_MODEL_3e78d7322f8442c883f2a33667fd5e15",
        "IPY_MODEL_07aebbf67c244c53af2c7be1bd4c0015",
        "IPY_MODEL_9a66a8038bd1442fbbfff23ae6500ef6",
        "IPY_MODEL_aaabb293fbf84c8eb753b1a7b5e2b204"
       ],
       "layout": "IPY_MODEL_3b2e09113e5a47b9bb4356f2acbf4bc0"
      }
     },
     "334001b4d6bf48b8984321ab61fd1225": {
      "model_module": "jupyter-js-widgets",
      "model_module_version": "~2.1.4",
      "model_name": "LayoutModel",
      "state": {
       "_model_module_version": "~2.1.4",
       "_view_module_version": "~2.1.4"
      }
     },
     "33a4a09af8164e0a953a48be1eb6d163": {
      "model_module": "jupyter-js-widgets",
      "model_module_version": "~2.1.4",
      "model_name": "IntSliderModel",
      "state": {
       "_model_module_version": "~2.1.4",
       "_view_module_version": "~2.1.4",
       "description": "sample_size",
       "layout": "IPY_MODEL_3e0d8a4171b4456b80acf8497567002a",
       "max": 300,
       "min": -100,
       "style": "IPY_MODEL_8fa93b83db1646e3a9b7f248ccc44766",
       "value": 108
      }
     },
     "348f1046766b42149e5409ab79bfc000": {
      "model_module": "jupyter-js-widgets",
      "model_module_version": "~2.1.4",
      "model_name": "LayoutModel",
      "state": {
       "_model_module_version": "~2.1.4",
       "_view_module_version": "~2.1.4"
      }
     },
     "3528e33f732f495089ee7085c74e1ad0": {
      "model_module": "jupyter-js-widgets",
      "model_module_version": "~2.1.4",
      "model_name": "DropdownModel",
      "state": {
       "_model_module_version": "~2.1.4",
       "_options_labels": [
        "0",
        "1",
        "2",
        "3",
        "4",
        "5",
        "6"
       ],
       "_view_module_version": "~2.1.4",
       "description": "x",
       "layout": "IPY_MODEL_1e7d53b573d84f7cb6d09dc22504e434",
       "value": "0"
      }
     },
     "359fcd52d38a4d7099bf38e9f6ae73dc": {
      "model_module": "jupyter-js-widgets",
      "model_module_version": "~2.1.4",
      "model_name": "LayoutModel",
      "state": {
       "_model_module_version": "~2.1.4",
       "_view_module_version": "~2.1.4"
      }
     },
     "3700d496a21741bda0a1f03828c0781d": {
      "model_module": "jupyter-js-widgets",
      "model_module_version": "~2.1.4",
      "model_name": "LayoutModel",
      "state": {
       "_model_module_version": "~2.1.4",
       "_view_module_version": "~2.1.4"
      }
     },
     "377586a81d7a4a908caa8e447ef65979": {
      "model_module": "jupyter-js-widgets",
      "model_module_version": "~2.1.4",
      "model_name": "DropdownModel",
      "state": {
       "_model_module_version": "~2.1.4",
       "_options_labels": [
        "343",
        "352",
        "433",
        "442",
        "451",
        "532",
        "541"
       ],
       "_view_module_version": "~2.1.4",
       "description": "formation_type",
       "layout": "IPY_MODEL_fd853d8797a24cf1beda2733fe03026e",
       "value": "352"
      }
     },
     "3b2e09113e5a47b9bb4356f2acbf4bc0": {
      "model_module": "jupyter-js-widgets",
      "model_module_version": "~2.1.4",
      "model_name": "LayoutModel",
      "state": {
       "_model_module_version": "~2.1.4",
       "_view_module_version": "~2.1.4"
      }
     },
     "3d67030ad5bb44fe9f352c4e61a2cf64": {
      "model_module": "jupyter-js-widgets",
      "model_module_version": "~2.1.4",
      "model_name": "VBoxModel",
      "state": {
       "_dom_classes": [
        "widget-interact"
       ],
       "_model_module_version": "~2.1.4",
       "_view_module_version": "~2.1.4",
       "children": [
        "IPY_MODEL_9d876993c9944e37bf8e16fbd7755e80",
        "IPY_MODEL_c994ad42aac344d48f7d31b86158600f",
        "IPY_MODEL_a5ec8fd889874a6e90f2bae977491533",
        "IPY_MODEL_f44b6419e55245bd9a041dc276f64430"
       ],
       "layout": "IPY_MODEL_48d26d35771747a7afe9bee3f93d3622"
      }
     },
     "3e0d8a4171b4456b80acf8497567002a": {
      "model_module": "jupyter-js-widgets",
      "model_module_version": "~2.1.4",
      "model_name": "LayoutModel",
      "state": {
       "_model_module_version": "~2.1.4",
       "_view_module_version": "~2.1.4"
      }
     },
     "3e3a8ce49eeb4c32bacc4ac85f2751b6": {
      "model_module": "jupyter-js-widgets",
      "model_module_version": "~2.1.4",
      "model_name": "OutputModel",
      "state": {
       "_dom_classes": [],
       "_model_module": "jupyter-js-widgets",
       "_model_module_version": "~2.1.4",
       "_view_module": "jupyter-js-widgets",
       "_view_module_version": "~2.1.4",
       "layout": "IPY_MODEL_9f1d7597f6084322bc3d70e080480e77",
       "msg_throttle": 1
      }
     },
     "3e47a97c8922458ea96d6f1731f9483a": {
      "model_module": "jupyter-js-widgets",
      "model_module_version": "~2.1.4",
      "model_name": "LayoutModel",
      "state": {
       "_model_module_version": "~2.1.4",
       "_view_module_version": "~2.1.4"
      }
     },
     "3e78d7322f8442c883f2a33667fd5e15": {
      "model_module": "jupyter-js-widgets",
      "model_module_version": "~2.1.4",
      "model_name": "DropdownModel",
      "state": {
       "_model_module_version": "~2.1.4",
       "_options_labels": [
        "0",
        "1",
        "2",
        "3",
        "4",
        "5",
        "6"
       ],
       "_view_module_version": "~2.1.4",
       "description": "round_number",
       "layout": "IPY_MODEL_99b8868931a64f438073fd46dd636172",
       "value": "1"
      }
     },
     "3fb5d3f95e6746e4a044f803cb1ab677": {
      "model_module": "jupyter-js-widgets",
      "model_module_version": "~2.1.4",
      "model_name": "LayoutModel",
      "state": {
       "_model_module_version": "~2.1.4",
       "_view_module_version": "~2.1.4"
      }
     },
     "400417e5733e421e8ca8f8d199509b6f": {
      "model_module": "jupyter-js-widgets",
      "model_module_version": "~2.1.4",
      "model_name": "VBoxModel",
      "state": {
       "_dom_classes": [
        "widget-interact"
       ],
       "_model_module_version": "~2.1.4",
       "_view_module_version": "~2.1.4",
       "children": [
        "IPY_MODEL_2b6f760b4e204077aae5c3f3f121ef47",
        "IPY_MODEL_823a220444804906a63d04d36bfea9c3",
        "IPY_MODEL_9509f3cbdeb34598b2e33b58259a2228",
        "IPY_MODEL_9f6efe4ac2d8402d909fb3a131565004"
       ],
       "layout": "IPY_MODEL_5e27cb8059534117b6a43e0f9d802f2b"
      }
     },
     "4108630a1289451cab8426cafd5d6419": {
      "model_module": "jupyter-js-widgets",
      "model_module_version": "~2.1.4",
      "model_name": "LayoutModel",
      "state": {
       "_model_module_version": "~2.1.4",
       "_view_module_version": "~2.1.4"
      }
     },
     "4236ab238f7d4915ba859996ac2a70a1": {
      "model_module": "jupyter-js-widgets",
      "model_module_version": "~2.1.4",
      "model_name": "DropdownModel",
      "state": {
       "_model_module_version": "~2.1.4",
       "_options_labels": [
        "0",
        "1",
        "2",
        "3",
        "4",
        "5",
        "6"
       ],
       "_view_module_version": "~2.1.4",
       "description": "x",
       "layout": "IPY_MODEL_1b0415b004f246e8a9aabc04a5dba89d",
       "value": "2"
      }
     },
     "428bc31cb49c4823b36d83ea30b39a9c": {
      "model_module": "jupyter-js-widgets",
      "model_module_version": "~2.1.4",
      "model_name": "VBoxModel",
      "state": {
       "_dom_classes": [
        "widget-interact"
       ],
       "_model_module_version": "~2.1.4",
       "_view_module_version": "~2.1.4",
       "children": [
        "IPY_MODEL_3528e33f732f495089ee7085c74e1ad0",
        "IPY_MODEL_8d391f6941ad4a8ba7102761e86830e3"
       ],
       "layout": "IPY_MODEL_2f2c473d726f44e0b83e83e8b16cb059"
      }
     },
     "43365a46bdaa4e68b768f8662e66664d": {
      "model_module": "jupyter-js-widgets",
      "model_module_version": "~2.1.4",
      "model_name": "IntSliderModel",
      "state": {
       "_model_module_version": "~2.1.4",
       "_view_module_version": "~2.1.4",
       "description": "sample_size",
       "layout": "IPY_MODEL_4108630a1289451cab8426cafd5d6419",
       "max": 300,
       "min": -100,
       "style": "IPY_MODEL_23826e2e731547368163cdf1a91b9a74",
       "value": 100
      }
     },
     "433f85d9f9ab4642a732504d49b13928": {
      "model_module": "jupyter-js-widgets",
      "model_module_version": "~2.1.4",
      "model_name": "VBoxModel",
      "state": {
       "_dom_classes": [
        "widget-interact"
       ],
       "_model_module_version": "~2.1.4",
       "_view_module_version": "~2.1.4",
       "children": [
        "IPY_MODEL_468766b1173c4f4f915771f1c6c52a51",
        "IPY_MODEL_d5a81b40f7954652bb4b60eab4310e0e"
       ],
       "layout": "IPY_MODEL_b2e7addd70eb412688dea09f76e9f5c4"
      }
     },
     "44ac3d110e274a66a1b1de5bf6a16fc9": {
      "model_module": "jupyter-js-widgets",
      "model_module_version": "~2.1.4",
      "model_name": "DropdownModel",
      "state": {
       "_model_module_version": "~2.1.4",
       "_options_labels": [
        "0",
        "1",
        "2",
        "3",
        "4",
        "5",
        "6"
       ],
       "_view_module_version": "~2.1.4",
       "description": "x",
       "layout": "IPY_MODEL_8fa877e0f4d744c486d1439f04ec2bca",
       "value": "0"
      }
     },
     "468766b1173c4f4f915771f1c6c52a51": {
      "model_module": "jupyter-js-widgets",
      "model_module_version": "~2.1.4",
      "model_name": "DropdownModel",
      "state": {
       "_model_module_version": "~2.1.4",
       "_options_labels": [
        "0",
        "1",
        "2",
        "3",
        "4",
        "5",
        "6"
       ],
       "_view_module_version": "~2.1.4",
       "description": "x",
       "layout": "IPY_MODEL_e4570db520cd4f409d5a410c043d1876",
       "value": "0"
      }
     },
     "47ae6f2ac1464c01b5291b8590065256": {
      "model_module": "jupyter-js-widgets",
      "model_module_version": "~2.1.4",
      "model_name": "LayoutModel",
      "state": {
       "_model_module_version": "~2.1.4",
       "_view_module_version": "~2.1.4"
      }
     },
     "48d26d35771747a7afe9bee3f93d3622": {
      "model_module": "jupyter-js-widgets",
      "model_module_version": "~2.1.4",
      "model_name": "LayoutModel",
      "state": {
       "_model_module_version": "~2.1.4",
       "_view_module_version": "~2.1.4"
      }
     },
     "497d95b731724fb4a753b742ba219cd9": {
      "model_module": "jupyter-js-widgets",
      "model_module_version": "~2.1.4",
      "model_name": "LayoutModel",
      "state": {
       "_model_module_version": "~2.1.4",
       "_view_module_version": "~2.1.4"
      }
     },
     "4a034795d6d44dc18163aae2d4d5cc95": {
      "model_module": "jupyter-js-widgets",
      "model_module_version": "~2.1.4",
      "model_name": "DropdownModel",
      "state": {
       "_model_module_version": "~2.1.4",
       "_options_labels": [
        "0",
        "1",
        "2",
        "3",
        "4",
        "5",
        "6"
       ],
       "_view_module_version": "~2.1.4",
       "description": "x",
       "layout": "IPY_MODEL_47ae6f2ac1464c01b5291b8590065256",
       "value": "2"
      }
     },
     "4be642a8bd124694b15fb759148e7944": {
      "model_module": "jupyter-js-widgets",
      "model_module_version": "~2.1.4",
      "model_name": "OutputModel",
      "state": {
       "_dom_classes": [],
       "_model_module": "jupyter-js-widgets",
       "_model_module_version": "~2.1.4",
       "_view_module": "jupyter-js-widgets",
       "_view_module_version": "~2.1.4",
       "layout": "IPY_MODEL_4fb4f2b69bf549129a6c37676aba7249",
       "msg_throttle": 1
      }
     },
     "4cf7ef143e3d4d12aa9c556477292dfa": {
      "model_module": "jupyter-js-widgets",
      "model_module_version": "~2.1.4",
      "model_name": "IntSliderModel",
      "state": {
       "_model_module_version": "~2.1.4",
       "_view_module_version": "~2.1.4",
       "description": "sample_size",
       "layout": "IPY_MODEL_5c7c1800414b4957b02db5c2eb49f88f",
       "max": 300,
       "min": -100,
       "style": "IPY_MODEL_9f731d82d08a48dabf28a8a986ec4b9a",
       "value": 100
      }
     },
     "4d7ac3dee9b54429a571a6f36810f57b": {
      "model_module": "jupyter-js-widgets",
      "model_module_version": "~2.1.4",
      "model_name": "LayoutModel",
      "state": {
       "_model_module_version": "~2.1.4",
       "_view_module_version": "~2.1.4"
      }
     },
     "4f13588d5fbe420ca263c0c13344bdf3": {
      "model_module": "jupyter-js-widgets",
      "model_module_version": "~2.1.4",
      "model_name": "DropdownModel",
      "state": {
       "_model_module_version": "~2.1.4",
       "_options_labels": [
        "0",
        "1",
        "2",
        "3",
        "4",
        "5",
        "6"
       ],
       "_view_module_version": "~2.1.4",
       "description": "round_number",
       "layout": "IPY_MODEL_8fb1d3624b514923b7747962ef9bae1e",
       "value": "1"
      }
     },
     "4fb4f2b69bf549129a6c37676aba7249": {
      "model_module": "jupyter-js-widgets",
      "model_module_version": "~2.1.4",
      "model_name": "LayoutModel",
      "state": {
       "_model_module_version": "~2.1.4",
       "_view_module_version": "~2.1.4"
      }
     },
     "513eedcd5c2c40a1a92953b818ce214a": {
      "model_module": "jupyter-js-widgets",
      "model_module_version": "~2.1.4",
      "model_name": "LayoutModel",
      "state": {
       "_model_module_version": "~2.1.4",
       "_view_module_version": "~2.1.4"
      }
     },
     "5334574faa0243f2894bfaf52e82396e": {
      "model_module": "jupyter-js-widgets",
      "model_module_version": "~2.1.4",
      "model_name": "LayoutModel",
      "state": {
       "_model_module_version": "~2.1.4",
       "_view_module_version": "~2.1.4"
      }
     },
     "5733d7be3a2644bf83f1beb519f187f2": {
      "model_module": "jupyter-js-widgets",
      "model_module_version": "~2.1.4",
      "model_name": "VBoxModel",
      "state": {
       "_dom_classes": [
        "widget-interact"
       ],
       "_model_module_version": "~2.1.4",
       "_view_module_version": "~2.1.4",
       "children": [
        "IPY_MODEL_6ddf9ee0dea0456ba36b771af35cf49d",
        "IPY_MODEL_b2d4a7ae319e4b3f953dc93380e37be9",
        "IPY_MODEL_c05cdf58f65f46e0ae766924eb6e0586",
        "IPY_MODEL_67c3c535c1684139adb0701b3db7614f"
       ],
       "layout": "IPY_MODEL_513eedcd5c2c40a1a92953b818ce214a"
      }
     },
     "59e4fcab7195489fa982bab9511bf896": {
      "model_module": "jupyter-js-widgets",
      "model_module_version": "~2.1.4",
      "model_name": "LayoutModel",
      "state": {
       "_model_module_version": "~2.1.4",
       "_view_module_version": "~2.1.4"
      }
     },
     "5c7c1800414b4957b02db5c2eb49f88f": {
      "model_module": "jupyter-js-widgets",
      "model_module_version": "~2.1.4",
      "model_name": "LayoutModel",
      "state": {
       "_model_module_version": "~2.1.4",
       "_view_module_version": "~2.1.4"
      }
     },
     "5dce620733554a37accad8b302772bb3": {
      "model_module": "jupyter-js-widgets",
      "model_module_version": "~2.1.4",
      "model_name": "LayoutModel",
      "state": {
       "_model_module_version": "~2.1.4",
       "_view_module_version": "~2.1.4"
      }
     },
     "5e27cb8059534117b6a43e0f9d802f2b": {
      "model_module": "jupyter-js-widgets",
      "model_module_version": "~2.1.4",
      "model_name": "LayoutModel",
      "state": {
       "_model_module_version": "~2.1.4",
       "_view_module_version": "~2.1.4"
      }
     },
     "5ed676140eca4215bf2546a10ccb422e": {
      "model_module": "jupyter-js-widgets",
      "model_module_version": "~2.1.4",
      "model_name": "DropdownModel",
      "state": {
       "_model_module_version": "~2.1.4",
       "_options_labels": [
        "0",
        "1",
        "2",
        "3",
        "4",
        "5",
        "6"
       ],
       "_view_module_version": "~2.1.4",
       "description": "x",
       "layout": "IPY_MODEL_e987ec836af440248e8b34ac4fecb9ca",
       "value": "6"
      }
     },
     "5eec7e06e5b9409ea1d9f8698295459a": {
      "model_module": "jupyter-js-widgets",
      "model_module_version": "~2.1.4",
      "model_name": "LayoutModel",
      "state": {
       "_model_module_version": "~2.1.4",
       "_view_module_version": "~2.1.4"
      }
     },
     "5f98a92bdd0b4f1ebb008b910f12b4a6": {
      "model_module": "jupyter-js-widgets",
      "model_module_version": "~2.1.4",
      "model_name": "DropdownModel",
      "state": {
       "_model_module_version": "~2.1.4",
       "_options_labels": [
        "0",
        "1",
        "2",
        "3",
        "4",
        "5",
        "6"
       ],
       "_view_module_version": "~2.1.4",
       "description": "x",
       "layout": "IPY_MODEL_f0400137cfad4c2c970a4df18069a4a7",
       "value": "0"
      }
     },
     "641aae21726943fe89b2136d1b945102": {
      "model_module": "jupyter-js-widgets",
      "model_module_version": "~2.1.4",
      "model_name": "DropdownModel",
      "state": {
       "_model_module_version": "~2.1.4",
       "_options_labels": [
        "343",
        "352",
        "433",
        "442",
        "451",
        "532",
        "541"
       ],
       "_view_module_version": "~2.1.4",
       "description": "formation_type",
       "layout": "IPY_MODEL_9302c01ae3e84568a24efb269b4d784e",
       "value": "343"
      }
     },
     "65d79efa9f164a6e947f33b168c16adc": {
      "model_module": "jupyter-js-widgets",
      "model_module_version": "~2.1.4",
      "model_name": "LayoutModel",
      "state": {
       "_model_module_version": "~2.1.4",
       "_view_module_version": "~2.1.4"
      }
     },
     "67c3c535c1684139adb0701b3db7614f": {
      "model_module": "jupyter-js-widgets",
      "model_module_version": "~2.1.4",
      "model_name": "OutputModel",
      "state": {
       "_dom_classes": [],
       "_model_module": "jupyter-js-widgets",
       "_model_module_version": "~2.1.4",
       "_view_module": "jupyter-js-widgets",
       "_view_module_version": "~2.1.4",
       "layout": "IPY_MODEL_e81754095e954081a11cebd4be42582a",
       "msg_throttle": 1
      }
     },
     "6850dd5365104de0a9272263581f625c": {
      "model_module": "jupyter-js-widgets",
      "model_module_version": "~2.1.4",
      "model_name": "OutputModel",
      "state": {
       "_dom_classes": [],
       "_model_module": "jupyter-js-widgets",
       "_model_module_version": "~2.1.4",
       "_view_module": "jupyter-js-widgets",
       "_view_module_version": "~2.1.4",
       "layout": "IPY_MODEL_c5d3496309734227b3796fcf7e51a9da",
       "msg_throttle": 1
      }
     },
     "686b775d58834bbe850042cd5356fe1d": {
      "model_module": "jupyter-js-widgets",
      "model_module_version": "~2.1.4",
      "model_name": "LayoutModel",
      "state": {
       "_model_module_version": "~2.1.4",
       "_view_module_version": "~2.1.4"
      }
     },
     "6aff163d5c1d4b178576f3dc404df768": {
      "model_module": "jupyter-js-widgets",
      "model_module_version": "~2.1.4",
      "model_name": "OutputModel",
      "state": {
       "_dom_classes": [],
       "_model_module": "jupyter-js-widgets",
       "_model_module_version": "~2.1.4",
       "_view_module": "jupyter-js-widgets",
       "_view_module_version": "~2.1.4",
       "layout": "IPY_MODEL_dacbca1aa97b46f2b98c71db7cad477f",
       "msg_throttle": 1
      }
     },
     "6b1329a55ca043909f05054f6eb2c10b": {
      "model_module": "jupyter-js-widgets",
      "model_module_version": "~2.1.4",
      "model_name": "SliderStyleModel",
      "state": {
       "_model_module_version": "~2.1.4",
       "_view_module_version": "~2.1.4"
      }
     },
     "6b59360a778a4028bc3e4696eba8b4a4": {
      "model_module": "jupyter-js-widgets",
      "model_module_version": "~2.1.4",
      "model_name": "VBoxModel",
      "state": {
       "_dom_classes": [
        "widget-interact"
       ],
       "_model_module_version": "~2.1.4",
       "_view_module_version": "~2.1.4",
       "children": [
        "IPY_MODEL_5ed676140eca4215bf2546a10ccb422e",
        "IPY_MODEL_2c1a80765adc41dba4fbeff8964e56d1"
       ],
       "layout": "IPY_MODEL_6bb807bbfd6e4f8a965dc090a9873d15"
      }
     },
     "6b753a2d30bd41c8a8103826564ee066": {
      "model_module": "jupyter-js-widgets",
      "model_module_version": "~2.1.4",
      "model_name": "LayoutModel",
      "state": {
       "_model_module_version": "~2.1.4",
       "_view_module_version": "~2.1.4"
      }
     },
     "6b8621a7942e43b99606ab1f00d01031": {
      "model_module": "jupyter-js-widgets",
      "model_module_version": "~2.1.4",
      "model_name": "LayoutModel",
      "state": {
       "_model_module_version": "~2.1.4",
       "_view_module_version": "~2.1.4"
      }
     },
     "6bb807bbfd6e4f8a965dc090a9873d15": {
      "model_module": "jupyter-js-widgets",
      "model_module_version": "~2.1.4",
      "model_name": "LayoutModel",
      "state": {
       "_model_module_version": "~2.1.4",
       "_view_module_version": "~2.1.4"
      }
     },
     "6ddf9ee0dea0456ba36b771af35cf49d": {
      "model_module": "jupyter-js-widgets",
      "model_module_version": "~2.1.4",
      "model_name": "DropdownModel",
      "state": {
       "_model_module_version": "~2.1.4",
       "_options_labels": [
        "0",
        "1",
        "2",
        "3",
        "4",
        "5",
        "6"
       ],
       "_view_module_version": "~2.1.4",
       "description": "round_number",
       "layout": "IPY_MODEL_e8fc7e2c078d46459c746ce1a4f10d02",
       "value": "1"
      }
     },
     "6ea10f37b73445e0b98c1a2a46b26d11": {
      "model_module": "jupyter-js-widgets",
      "model_module_version": "~2.1.4",
      "model_name": "LayoutModel",
      "state": {
       "_model_module_version": "~2.1.4",
       "_view_module_version": "~2.1.4"
      }
     },
     "6f6d344b98d7473aab5255ae6609086c": {
      "model_module": "jupyter-js-widgets",
      "model_module_version": "~2.1.4",
      "model_name": "VBoxModel",
      "state": {
       "_dom_classes": [
        "widget-interact"
       ],
       "_model_module_version": "~2.1.4",
       "_view_module_version": "~2.1.4",
       "children": [
        "IPY_MODEL_4a034795d6d44dc18163aae2d4d5cc95",
        "IPY_MODEL_c263ef206f4f47e88f88570c35135217"
       ],
       "layout": "IPY_MODEL_359fcd52d38a4d7099bf38e9f6ae73dc"
      }
     },
     "702e0e9ed3c94d948b815185abe4fb2f": {
      "model_module": "jupyter-js-widgets",
      "model_module_version": "~2.1.4",
      "model_name": "LayoutModel",
      "state": {
       "_model_module_version": "~2.1.4",
       "_view_module_version": "~2.1.4"
      }
     },
     "7447307ed998410698597cc351612aba": {
      "model_module": "jupyter-js-widgets",
      "model_module_version": "~2.1.4",
      "model_name": "OutputModel",
      "state": {
       "_dom_classes": [],
       "_model_module": "jupyter-js-widgets",
       "_model_module_version": "~2.1.4",
       "_view_module": "jupyter-js-widgets",
       "_view_module_version": "~2.1.4",
       "layout": "IPY_MODEL_6b8621a7942e43b99606ab1f00d01031",
       "msg_throttle": 1
      }
     },
     "7505ef2f64ac427e9808aa75d1866448": {
      "model_module": "jupyter-js-widgets",
      "model_module_version": "~2.1.4",
      "model_name": "LayoutModel",
      "state": {
       "_model_module_version": "~2.1.4",
       "_view_module_version": "~2.1.4"
      }
     },
     "756b9806652142c7b98e5d7635766b1e": {
      "model_module": "jupyter-js-widgets",
      "model_module_version": "~2.1.4",
      "model_name": "LayoutModel",
      "state": {
       "_model_module_version": "~2.1.4",
       "_view_module_version": "~2.1.4"
      }
     },
     "76954ccea7c6424eae20e3810e91137f": {
      "model_module": "jupyter-js-widgets",
      "model_module_version": "~2.1.4",
      "model_name": "VBoxModel",
      "state": {
       "_dom_classes": [
        "widget-interact"
       ],
       "_model_module_version": "~2.1.4",
       "_view_module_version": "~2.1.4",
       "children": [
        "IPY_MODEL_83d26b1b61be4e77aebd5c19831f5c06",
        "IPY_MODEL_aff1462f8f1f4e259117baf3a1935cf2"
       ],
       "layout": "IPY_MODEL_05a3aa856c0a42778030e57dd7fb24a5"
      }
     },
     "7ab9df8a256a461d8a033acd40ff5d5f": {
      "model_module": "jupyter-js-widgets",
      "model_module_version": "~2.1.4",
      "model_name": "SliderStyleModel",
      "state": {
       "_model_module_version": "~2.1.4",
       "_view_module_version": "~2.1.4"
      }
     },
     "7b49d602dd3b4db2be829179b6b735c1": {
      "model_module": "jupyter-js-widgets",
      "model_module_version": "~2.1.4",
      "model_name": "LayoutModel",
      "state": {
       "_model_module_version": "~2.1.4",
       "_view_module_version": "~2.1.4"
      }
     },
     "7c42ebff59904c5b9cf27b9d6fcca5a4": {
      "model_module": "jupyter-js-widgets",
      "model_module_version": "~2.1.4",
      "model_name": "DropdownModel",
      "state": {
       "_model_module_version": "~2.1.4",
       "_options_labels": [
        "343",
        "352",
        "433",
        "442",
        "451",
        "532",
        "541"
       ],
       "_view_module_version": "~2.1.4",
       "description": "formation_type",
       "layout": "IPY_MODEL_f426f7f6c68d428b818db041d6c32d4e",
       "value": "343"
      }
     },
     "7caf9d462db54aa9a181342710c9e05d": {
      "model_module": "jupyter-js-widgets",
      "model_module_version": "~2.1.4",
      "model_name": "LayoutModel",
      "state": {
       "_model_module_version": "~2.1.4",
       "_view_module_version": "~2.1.4"
      }
     },
     "7cb7590e01634245a89fbcf1b58c61dc": {
      "model_module": "jupyter-js-widgets",
      "model_module_version": "~2.1.4",
      "model_name": "LayoutModel",
      "state": {
       "_model_module_version": "~2.1.4",
       "_view_module_version": "~2.1.4"
      }
     },
     "7d9fdeab9f4e4575a64239e5c9f59151": {
      "model_module": "jupyter-js-widgets",
      "model_module_version": "~2.1.4",
      "model_name": "DropdownModel",
      "state": {
       "_model_module_version": "~2.1.4",
       "_options_labels": [
        "0",
        "1",
        "2",
        "3",
        "4",
        "5",
        "6"
       ],
       "_view_module_version": "~2.1.4",
       "description": "round_number",
       "layout": "IPY_MODEL_ae71cb14947a4242afe3811c27a5cafc",
       "value": "0"
      }
     },
     "7e831a9b6a014b43a5fae8bdea7f6e65": {
      "model_module": "jupyter-js-widgets",
      "model_module_version": "~2.1.4",
      "model_name": "LayoutModel",
      "state": {
       "_model_module_version": "~2.1.4",
       "_view_module_version": "~2.1.4"
      }
     },
     "7ee101c230b64e8286c29e67c2a3d094": {
      "model_module": "jupyter-js-widgets",
      "model_module_version": "~2.1.4",
      "model_name": "LayoutModel",
      "state": {
       "_model_module_version": "~2.1.4",
       "_view_module_version": "~2.1.4"
      }
     },
     "817aba6acb62468b80e327fe582fd912": {
      "model_module": "jupyter-js-widgets",
      "model_module_version": "~2.1.4",
      "model_name": "LayoutModel",
      "state": {
       "_model_module_version": "~2.1.4",
       "_view_module_version": "~2.1.4"
      }
     },
     "82076a58c09745c7bddd89f4675155bb": {
      "model_module": "jupyter-js-widgets",
      "model_module_version": "~2.1.4",
      "model_name": "DropdownModel",
      "state": {
       "_model_module_version": "~2.1.4",
       "_options_labels": [
        "0",
        "1",
        "2",
        "3",
        "4",
        "5",
        "6"
       ],
       "_view_module_version": "~2.1.4",
       "description": "f",
       "layout": "IPY_MODEL_a35147e4bc284bd481aa16a721e81715",
       "value": "1"
      }
     },
     "823a220444804906a63d04d36bfea9c3": {
      "model_module": "jupyter-js-widgets",
      "model_module_version": "~2.1.4",
      "model_name": "DropdownModel",
      "state": {
       "_model_module_version": "~2.1.4",
       "_options_labels": [
        "343",
        "352",
        "433",
        "442",
        "451",
        "532",
        "541"
       ],
       "_view_module_version": "~2.1.4",
       "description": "formation",
       "layout": "IPY_MODEL_02d77a3c93004994ad4a9553e0c7ee67",
       "value": "343"
      }
     },
     "83d26b1b61be4e77aebd5c19831f5c06": {
      "model_module": "jupyter-js-widgets",
      "model_module_version": "~2.1.4",
      "model_name": "DropdownModel",
      "state": {
       "_model_module_version": "~2.1.4",
       "_options_labels": [
        "0",
        "1",
        "2",
        "3",
        "4",
        "5",
        "6"
       ],
       "_view_module_version": "~2.1.4",
       "description": "x",
       "layout": "IPY_MODEL_0cf2f924d57c452da8ec645a1590f608",
       "value": "3"
      }
     },
     "84446213c9b54092b7c3f947894d0fb5": {
      "model_module": "jupyter-js-widgets",
      "model_module_version": "~2.1.4",
      "model_name": "LayoutModel",
      "state": {
       "_model_module_version": "~2.1.4",
       "_view_module_version": "~2.1.4"
      }
     },
     "86514a425def4bae9b9ee3356bfc5962": {
      "model_module": "jupyter-js-widgets",
      "model_module_version": "~2.1.4",
      "model_name": "LayoutModel",
      "state": {
       "_model_module_version": "~2.1.4",
       "_view_module_version": "~2.1.4"
      }
     },
     "873ea6584439477c949284f3d82e2d2b": {
      "model_module": "jupyter-js-widgets",
      "model_module_version": "~2.1.4",
      "model_name": "LayoutModel",
      "state": {
       "_model_module_version": "~2.1.4",
       "_view_module_version": "~2.1.4"
      }
     },
     "88b17c782bf34b049c7afb927be5ad44": {
      "model_module": "jupyter-js-widgets",
      "model_module_version": "~2.1.4",
      "model_name": "LayoutModel",
      "state": {
       "_model_module_version": "~2.1.4",
       "_view_module_version": "~2.1.4"
      }
     },
     "890704bc5ea4489bac4263006d2133b2": {
      "model_module": "jupyter-js-widgets",
      "model_module_version": "~2.1.4",
      "model_name": "DropdownModel",
      "state": {
       "_model_module_version": "~2.1.4",
       "_options_labels": [
        "0",
        "1",
        "2",
        "3",
        "4",
        "5",
        "6"
       ],
       "_view_module_version": "~2.1.4",
       "description": "x",
       "layout": "IPY_MODEL_b9a0fddd9ba941268c44f71393739186",
       "value": "0"
      }
     },
     "89149eaadafa43879fa422db87635e53": {
      "model_module": "jupyter-js-widgets",
      "model_module_version": "~2.1.4",
      "model_name": "LayoutModel",
      "state": {
       "_model_module_version": "~2.1.4",
       "_view_module_version": "~2.1.4"
      }
     },
     "8920707fab9e48158b301933f68073a0": {
      "model_module": "jupyter-js-widgets",
      "model_module_version": "~2.1.4",
      "model_name": "OutputModel",
      "state": {
       "_dom_classes": [],
       "_model_module": "jupyter-js-widgets",
       "_model_module_version": "~2.1.4",
       "_view_module": "jupyter-js-widgets",
       "_view_module_version": "~2.1.4",
       "layout": "IPY_MODEL_d9916df4429747b798b8b1c615e7277e",
       "msg_throttle": 1
      }
     },
     "8c1b705c87594741a7edb23519063a03": {
      "model_module": "jupyter-js-widgets",
      "model_module_version": "~2.1.4",
      "model_name": "LayoutModel",
      "state": {
       "_model_module_version": "~2.1.4",
       "_view_module_version": "~2.1.4"
      }
     },
     "8d391f6941ad4a8ba7102761e86830e3": {
      "model_module": "jupyter-js-widgets",
      "model_module_version": "~2.1.4",
      "model_name": "OutputModel",
      "state": {
       "_dom_classes": [],
       "_model_module": "jupyter-js-widgets",
       "_model_module_version": "~2.1.4",
       "_view_module": "jupyter-js-widgets",
       "_view_module_version": "~2.1.4",
       "layout": "IPY_MODEL_fc906d4be86f4cad87f30defab72ed50",
       "msg_throttle": 1
      }
     },
     "8e5e3832ab224e58950b77621e0d56fc": {
      "model_module": "jupyter-js-widgets",
      "model_module_version": "~2.1.4",
      "model_name": "OutputModel",
      "state": {
       "_dom_classes": [],
       "_model_module": "jupyter-js-widgets",
       "_model_module_version": "~2.1.4",
       "_view_module": "jupyter-js-widgets",
       "_view_module_version": "~2.1.4",
       "layout": "IPY_MODEL_f97343df5a764386a0feced63638f4be",
       "msg_throttle": 1
      }
     },
     "8fa877e0f4d744c486d1439f04ec2bca": {
      "model_module": "jupyter-js-widgets",
      "model_module_version": "~2.1.4",
      "model_name": "LayoutModel",
      "state": {
       "_model_module_version": "~2.1.4",
       "_view_module_version": "~2.1.4"
      }
     },
     "8fa93b83db1646e3a9b7f248ccc44766": {
      "model_module": "jupyter-js-widgets",
      "model_module_version": "~2.1.4",
      "model_name": "SliderStyleModel",
      "state": {
       "_model_module_version": "~2.1.4",
       "_view_module_version": "~2.1.4"
      }
     },
     "8fb1d3624b514923b7747962ef9bae1e": {
      "model_module": "jupyter-js-widgets",
      "model_module_version": "~2.1.4",
      "model_name": "LayoutModel",
      "state": {
       "_model_module_version": "~2.1.4",
       "_view_module_version": "~2.1.4"
      }
     },
     "9302c01ae3e84568a24efb269b4d784e": {
      "model_module": "jupyter-js-widgets",
      "model_module_version": "~2.1.4",
      "model_name": "LayoutModel",
      "state": {
       "_model_module_version": "~2.1.4",
       "_view_module_version": "~2.1.4"
      }
     },
     "932e7aefbb3f496182da034cde159379": {
      "model_module": "jupyter-js-widgets",
      "model_module_version": "~2.1.4",
      "model_name": "DropdownModel",
      "state": {
       "_model_module_version": "~2.1.4",
       "_options_labels": [
        "0",
        "1",
        "2",
        "3",
        "4",
        "5",
        "6"
       ],
       "_view_module_version": "~2.1.4",
       "description": "round_number",
       "layout": "IPY_MODEL_65d79efa9f164a6e947f33b168c16adc",
       "value": "0"
      }
     },
     "940fba629ab948cd9f99a462f8a06fe5": {
      "model_module": "jupyter-js-widgets",
      "model_module_version": "~2.1.4",
      "model_name": "DropdownModel",
      "state": {
       "_model_module_version": "~2.1.4",
       "_options_labels": [
        "0",
        "1",
        "2",
        "3",
        "4",
        "5",
        "6"
       ],
       "_view_module_version": "~2.1.4",
       "description": "x",
       "layout": "IPY_MODEL_a3e86c9bc8c4449e995bc73136cc7464",
       "value": "0"
      }
     },
     "9474abbf522842b299412596863faf08": {
      "model_module": "jupyter-js-widgets",
      "model_module_version": "~2.1.4",
      "model_name": "LayoutModel",
      "state": {
       "_model_module_version": "~2.1.4",
       "_view_module_version": "~2.1.4"
      }
     },
     "94ce227da1334fc480a32d6e71a47a1e": {
      "model_module": "jupyter-js-widgets",
      "model_module_version": "~2.1.4",
      "model_name": "OutputModel",
      "state": {
       "_dom_classes": [],
       "_model_module": "jupyter-js-widgets",
       "_model_module_version": "~2.1.4",
       "_view_module": "jupyter-js-widgets",
       "_view_module_version": "~2.1.4",
       "layout": "IPY_MODEL_aab3381be4a741db938bf933e1b1653b",
       "msg_throttle": 1
      }
     },
     "9509f3cbdeb34598b2e33b58259a2228": {
      "model_module": "jupyter-js-widgets",
      "model_module_version": "~2.1.4",
      "model_name": "IntSliderModel",
      "state": {
       "_model_module_version": "~2.1.4",
       "_view_module_version": "~2.1.4",
       "description": "sample_size",
       "layout": "IPY_MODEL_89149eaadafa43879fa422db87635e53",
       "max": 300,
       "min": -100,
       "style": "IPY_MODEL_7ab9df8a256a461d8a033acd40ff5d5f",
       "value": 100
      }
     },
     "96e78df8c4ea4435a861507c4a8786d1": {
      "model_module": "jupyter-js-widgets",
      "model_module_version": "~2.1.4",
      "model_name": "DropdownModel",
      "state": {
       "_model_module_version": "~2.1.4",
       "_options_labels": [
        "0",
        "1",
        "2",
        "3",
        "4",
        "5",
        "6",
        "7",
        "8",
        "9",
        "10",
        "11"
       ],
       "_view_module_version": "~2.1.4",
       "description": "number_of_days",
       "layout": "IPY_MODEL_9474abbf522842b299412596863faf08",
       "value": "0"
      }
     },
     "97076b35aa7a40aaaf428ad83c740fee": {
      "model_module": "jupyter-js-widgets",
      "model_module_version": "~2.1.4",
      "model_name": "LayoutModel",
      "state": {
       "_model_module_version": "~2.1.4",
       "_view_module_version": "~2.1.4"
      }
     },
     "9729fc70b7e84db298db9b3fb4dbd3ea": {
      "model_module": "jupyter-js-widgets",
      "model_module_version": "~2.1.4",
      "model_name": "LayoutModel",
      "state": {
       "_model_module_version": "~2.1.4",
       "_view_module_version": "~2.1.4"
      }
     },
     "97e94e684c3b4e7182af7afcf3b2ed11": {
      "model_module": "jupyter-js-widgets",
      "model_module_version": "~2.1.4",
      "model_name": "OutputModel",
      "state": {
       "_dom_classes": [],
       "_model_module": "jupyter-js-widgets",
       "_model_module_version": "~2.1.4",
       "_view_module": "jupyter-js-widgets",
       "_view_module_version": "~2.1.4",
       "layout": "IPY_MODEL_702e0e9ed3c94d948b815185abe4fb2f",
       "msg_throttle": 1
      }
     },
     "99b8868931a64f438073fd46dd636172": {
      "model_module": "jupyter-js-widgets",
      "model_module_version": "~2.1.4",
      "model_name": "LayoutModel",
      "state": {
       "_model_module_version": "~2.1.4",
       "_view_module_version": "~2.1.4"
      }
     },
     "99d42b7ad7f840199163036e0b86e30d": {
      "model_module": "jupyter-js-widgets",
      "model_module_version": "~2.1.4",
      "model_name": "LayoutModel",
      "state": {
       "_model_module_version": "~2.1.4",
       "_view_module_version": "~2.1.4"
      }
     },
     "9a66a8038bd1442fbbfff23ae6500ef6": {
      "model_module": "jupyter-js-widgets",
      "model_module_version": "~2.1.4",
      "model_name": "IntSliderModel",
      "state": {
       "_model_module_version": "~2.1.4",
       "_view_module_version": "~2.1.4",
       "description": "sample_size",
       "layout": "IPY_MODEL_5334574faa0243f2894bfaf52e82396e",
       "max": 300,
       "min": -100,
       "style": "IPY_MODEL_a0bee9de3cfb45d0bba6bcb61de77b88",
       "value": 100
      }
     },
     "9a97c9e89cb34c0380ce7299f525a55d": {
      "model_module": "jupyter-js-widgets",
      "model_module_version": "~2.1.4",
      "model_name": "VBoxModel",
      "state": {
       "_dom_classes": [
        "widget-interact"
       ],
       "_model_module_version": "~2.1.4",
       "_view_module_version": "~2.1.4",
       "children": [
        "IPY_MODEL_4f13588d5fbe420ca263c0c13344bdf3",
        "IPY_MODEL_377586a81d7a4a908caa8e447ef65979",
        "IPY_MODEL_33a4a09af8164e0a953a48be1eb6d163",
        "IPY_MODEL_1e62a5d4d0ce43488bfdb14a3522f04d"
       ],
       "layout": "IPY_MODEL_756b9806652142c7b98e5d7635766b1e"
      }
     },
     "9c1a575fc33d4d568e09c856da949c2b": {
      "model_module": "jupyter-js-widgets",
      "model_module_version": "~2.1.4",
      "model_name": "VBoxModel",
      "state": {
       "_dom_classes": [
        "widget-interact"
       ],
       "_model_module_version": "~2.1.4",
       "_view_module_version": "~2.1.4",
       "children": [
        "IPY_MODEL_0afd8cd284b746d496ef97b4094f4669",
        "IPY_MODEL_3e3a8ce49eeb4c32bacc4ac85f2751b6"
       ],
       "layout": "IPY_MODEL_5dce620733554a37accad8b302772bb3"
      }
     },
     "9d876993c9944e37bf8e16fbd7755e80": {
      "model_module": "jupyter-js-widgets",
      "model_module_version": "~2.1.4",
      "model_name": "DropdownModel",
      "state": {
       "_model_module_version": "~2.1.4",
       "_options_labels": [
        "0",
        "1",
        "2",
        "3",
        "4",
        "5",
        "6"
       ],
       "_view_module_version": "~2.1.4",
       "description": "round_number",
       "layout": "IPY_MODEL_b76f2f734e564be29942d54353be7345",
       "value": "0"
      }
     },
     "9e9110241b84422198d5829864b5193b": {
      "model_module": "jupyter-js-widgets",
      "model_module_version": "~2.1.4",
      "model_name": "LayoutModel",
      "state": {
       "_model_module_version": "~2.1.4",
       "_view_module_version": "~2.1.4"
      }
     },
     "9f1d7597f6084322bc3d70e080480e77": {
      "model_module": "jupyter-js-widgets",
      "model_module_version": "~2.1.4",
      "model_name": "LayoutModel",
      "state": {
       "_model_module_version": "~2.1.4",
       "_view_module_version": "~2.1.4"
      }
     },
     "9f6efe4ac2d8402d909fb3a131565004": {
      "model_module": "jupyter-js-widgets",
      "model_module_version": "~2.1.4",
      "model_name": "OutputModel",
      "state": {
       "_dom_classes": [],
       "_model_module": "jupyter-js-widgets",
       "_model_module_version": "~2.1.4",
       "_view_module": "jupyter-js-widgets",
       "_view_module_version": "~2.1.4",
       "layout": "IPY_MODEL_3700d496a21741bda0a1f03828c0781d",
       "msg_throttle": 1
      }
     },
     "9f731d82d08a48dabf28a8a986ec4b9a": {
      "model_module": "jupyter-js-widgets",
      "model_module_version": "~2.1.4",
      "model_name": "SliderStyleModel",
      "state": {
       "_model_module_version": "~2.1.4",
       "_view_module_version": "~2.1.4"
      }
     },
     "9f73682f55b74eb39d5eaf317202c8db": {
      "model_module": "jupyter-js-widgets",
      "model_module_version": "~2.1.4",
      "model_name": "VBoxModel",
      "state": {
       "_dom_classes": [
        "widget-interact"
       ],
       "_model_module_version": "~2.1.4",
       "_view_module_version": "~2.1.4",
       "children": [
        "IPY_MODEL_0227774ca2ec4a8d93fa395c04dade2e",
        "IPY_MODEL_8e5e3832ab224e58950b77621e0d56fc"
       ],
       "layout": "IPY_MODEL_fdf850d03905400d9d487eac2f6b2d62"
      }
     },
     "a0285c1bdfd748378cd231cfeed09f08": {
      "model_module": "jupyter-js-widgets",
      "model_module_version": "~2.1.4",
      "model_name": "VBoxModel",
      "state": {
       "_dom_classes": [
        "widget-interact"
       ],
       "_model_module_version": "~2.1.4",
       "_view_module_version": "~2.1.4",
       "children": [
        "IPY_MODEL_82076a58c09745c7bddd89f4675155bb",
        "IPY_MODEL_dd32e99928be4fde9f9be006e27f57d4"
       ],
       "layout": "IPY_MODEL_0b4f7841d54849f993d73690aca63c9d"
      }
     },
     "a0bee9de3cfb45d0bba6bcb61de77b88": {
      "model_module": "jupyter-js-widgets",
      "model_module_version": "~2.1.4",
      "model_name": "SliderStyleModel",
      "state": {
       "_model_module_version": "~2.1.4",
       "_view_module_version": "~2.1.4"
      }
     },
     "a2b89738b3944e10a0731865f1003f48": {
      "model_module": "jupyter-js-widgets",
      "model_module_version": "~2.1.4",
      "model_name": "VBoxModel",
      "state": {
       "_dom_classes": [
        "widget-interact"
       ],
       "_model_module_version": "~2.1.4",
       "_view_module_version": "~2.1.4",
       "children": [
        "IPY_MODEL_7d9fdeab9f4e4575a64239e5c9f59151",
        "IPY_MODEL_1ffdfde099744498936bd7ae5b23240e",
        "IPY_MODEL_176561f10eb849c690c7560f35658705",
        "IPY_MODEL_c8dec15d57f84824a62e20b0d417eb39"
       ],
       "layout": "IPY_MODEL_7caf9d462db54aa9a181342710c9e05d"
      }
     },
     "a3151959d5bc4722a1c972a22e44c77f": {
      "model_module": "jupyter-js-widgets",
      "model_module_version": "~2.1.4",
      "model_name": "OutputModel",
      "state": {
       "_dom_classes": [],
       "_model_module": "jupyter-js-widgets",
       "_model_module_version": "~2.1.4",
       "_view_module": "jupyter-js-widgets",
       "_view_module_version": "~2.1.4",
       "layout": "IPY_MODEL_9e9110241b84422198d5829864b5193b",
       "msg_throttle": 1
      }
     },
     "a35147e4bc284bd481aa16a721e81715": {
      "model_module": "jupyter-js-widgets",
      "model_module_version": "~2.1.4",
      "model_name": "LayoutModel",
      "state": {
       "_model_module_version": "~2.1.4",
       "_view_module_version": "~2.1.4"
      }
     },
     "a36f6d79469c4447828daf4f17f414e6": {
      "model_module": "jupyter-js-widgets",
      "model_module_version": "~2.1.4",
      "model_name": "VBoxModel",
      "state": {
       "_dom_classes": [
        "widget-interact"
       ],
       "_model_module_version": "~2.1.4",
       "_view_module_version": "~2.1.4",
       "children": [
        "IPY_MODEL_96e78df8c4ea4435a861507c4a8786d1",
        "IPY_MODEL_7447307ed998410698597cc351612aba"
       ],
       "layout": "IPY_MODEL_d9e0440707e347e3a20559e0492663dc"
      }
     },
     "a3e86c9bc8c4449e995bc73136cc7464": {
      "model_module": "jupyter-js-widgets",
      "model_module_version": "~2.1.4",
      "model_name": "LayoutModel",
      "state": {
       "_model_module_version": "~2.1.4",
       "_view_module_version": "~2.1.4"
      }
     },
     "a45a8049cea842c58f8bd25305d728cc": {
      "model_module": "jupyter-js-widgets",
      "model_module_version": "~2.1.4",
      "model_name": "LayoutModel",
      "state": {
       "_model_module_version": "~2.1.4",
       "_view_module_version": "~2.1.4"
      }
     },
     "a5ec8fd889874a6e90f2bae977491533": {
      "model_module": "jupyter-js-widgets",
      "model_module_version": "~2.1.4",
      "model_name": "IntSliderModel",
      "state": {
       "_model_module_version": "~2.1.4",
       "_view_module_version": "~2.1.4",
       "description": "sample_size",
       "layout": "IPY_MODEL_a893e547344541b2a330d0034b973f3c",
       "max": 300,
       "min": -100,
       "style": "IPY_MODEL_bd1013759b7042a9b3fa537627efed98",
       "value": 100
      }
     },
     "a8151cc6e1be4b748440fe9cc307751f": {
      "model_module": "jupyter-js-widgets",
      "model_module_version": "~2.1.4",
      "model_name": "DropdownModel",
      "state": {
       "_model_module_version": "~2.1.4",
       "_options_labels": [
        "0",
        "1",
        "2",
        "3",
        "4",
        "5",
        "6"
       ],
       "_view_module_version": "~2.1.4",
       "description": "round_number",
       "layout": "IPY_MODEL_207d320d18ce4278bc87589c3bd30f1b",
       "value": "0"
      }
     },
     "a889226f400b402c8af6b7c4ebf7e321": {
      "model_module": "jupyter-js-widgets",
      "model_module_version": "~2.1.4",
      "model_name": "LayoutModel",
      "state": {
       "_model_module_version": "~2.1.4",
       "_view_module_version": "~2.1.4"
      }
     },
     "a893e547344541b2a330d0034b973f3c": {
      "model_module": "jupyter-js-widgets",
      "model_module_version": "~2.1.4",
      "model_name": "LayoutModel",
      "state": {
       "_model_module_version": "~2.1.4",
       "_view_module_version": "~2.1.4"
      }
     },
     "a947e895ab754cad9eb6719952c5c120": {
      "model_module": "jupyter-js-widgets",
      "model_module_version": "~2.1.4",
      "model_name": "VBoxModel",
      "state": {
       "_dom_classes": [
        "widget-interact"
       ],
       "_model_module_version": "~2.1.4",
       "_view_module_version": "~2.1.4",
       "children": [
        "IPY_MODEL_890704bc5ea4489bac4263006d2133b2",
        "IPY_MODEL_e5352c95c2f346c5adb001eef816d369"
       ],
       "layout": "IPY_MODEL_8c1b705c87594741a7edb23519063a03"
      }
     },
     "aaabb293fbf84c8eb753b1a7b5e2b204": {
      "model_module": "jupyter-js-widgets",
      "model_module_version": "~2.1.4",
      "model_name": "OutputModel",
      "state": {
       "_dom_classes": [],
       "_model_module": "jupyter-js-widgets",
       "_model_module_version": "~2.1.4",
       "_view_module": "jupyter-js-widgets",
       "_view_module_version": "~2.1.4",
       "layout": "IPY_MODEL_3e47a97c8922458ea96d6f1731f9483a",
       "msg_throttle": 1
      }
     },
     "aab3381be4a741db938bf933e1b1653b": {
      "model_module": "jupyter-js-widgets",
      "model_module_version": "~2.1.4",
      "model_name": "LayoutModel",
      "state": {
       "_model_module_version": "~2.1.4",
       "_view_module_version": "~2.1.4"
      }
     },
     "aabcf93d4f5545b7b138a1ff788cb5eb": {
      "model_module": "jupyter-js-widgets",
      "model_module_version": "~2.1.4",
      "model_name": "VBoxModel",
      "state": {
       "_dom_classes": [
        "widget-interact"
       ],
       "_model_module_version": "~2.1.4",
       "_view_module_version": "~2.1.4",
       "children": [
        "IPY_MODEL_c578dc2df426446cb006d2f36f367c9e",
        "IPY_MODEL_19d481d82a4f4ec0811300d2b13bfcf2",
        "IPY_MODEL_26ac7ecbe9c3440da54ff2bb64a38971",
        "IPY_MODEL_dd530303eaa24404adb4b679692843a9"
       ],
       "layout": "IPY_MODEL_be9f49b5ff784f78a7cf84bd65972fe2"
      }
     },
     "acd26371c92841f09028d6511385d0f2": {
      "model_module": "jupyter-js-widgets",
      "model_module_version": "~2.1.4",
      "model_name": "LayoutModel",
      "state": {
       "_model_module_version": "~2.1.4",
       "_view_module_version": "~2.1.4"
      }
     },
     "ae327e20ea5541d5a6ebb6c40887c619": {
      "model_module": "jupyter-js-widgets",
      "model_module_version": "~2.1.4",
      "model_name": "LayoutModel",
      "state": {
       "_model_module_version": "~2.1.4",
       "_view_module_version": "~2.1.4"
      }
     },
     "ae71cb14947a4242afe3811c27a5cafc": {
      "model_module": "jupyter-js-widgets",
      "model_module_version": "~2.1.4",
      "model_name": "LayoutModel",
      "state": {
       "_model_module_version": "~2.1.4",
       "_view_module_version": "~2.1.4"
      }
     },
     "aff1462f8f1f4e259117baf3a1935cf2": {
      "model_module": "jupyter-js-widgets",
      "model_module_version": "~2.1.4",
      "model_name": "OutputModel",
      "state": {
       "_dom_classes": [],
       "_model_module": "jupyter-js-widgets",
       "_model_module_version": "~2.1.4",
       "_view_module": "jupyter-js-widgets",
       "_view_module_version": "~2.1.4",
       "layout": "IPY_MODEL_fce6509667eb45ad946e9e652cc60de6",
       "msg_throttle": 1
      }
     },
     "b2cf3eb890734671ac3952c6bfb6b1a8": {
      "model_module": "jupyter-js-widgets",
      "model_module_version": "~2.1.4",
      "model_name": "LayoutModel",
      "state": {
       "_model_module_version": "~2.1.4",
       "_view_module_version": "~2.1.4"
      }
     },
     "b2d4a7ae319e4b3f953dc93380e37be9": {
      "model_module": "jupyter-js-widgets",
      "model_module_version": "~2.1.4",
      "model_name": "DropdownModel",
      "state": {
       "_model_module_version": "~2.1.4",
       "_options_labels": [
        "343",
        "352",
        "433",
        "442",
        "451",
        "532",
        "541"
       ],
       "_view_module_version": "~2.1.4",
       "description": "formation_type",
       "layout": "IPY_MODEL_59e4fcab7195489fa982bab9511bf896",
       "value": "343"
      }
     },
     "b2e7addd70eb412688dea09f76e9f5c4": {
      "model_module": "jupyter-js-widgets",
      "model_module_version": "~2.1.4",
      "model_name": "LayoutModel",
      "state": {
       "_model_module_version": "~2.1.4",
       "_view_module_version": "~2.1.4"
      }
     },
     "b3555c2f75df42afba9ddfa3dafdf823": {
      "model_module": "jupyter-js-widgets",
      "model_module_version": "~2.1.4",
      "model_name": "LayoutModel",
      "state": {
       "_model_module_version": "~2.1.4",
       "_view_module_version": "~2.1.4"
      }
     },
     "b3da8ba8a44943a396d697c4c5d965a8": {
      "model_module": "jupyter-js-widgets",
      "model_module_version": "~2.1.4",
      "model_name": "VBoxModel",
      "state": {
       "_dom_classes": [
        "widget-interact"
       ],
       "_model_module_version": "~2.1.4",
       "_view_module_version": "~2.1.4",
       "children": [
        "IPY_MODEL_fe15ec61d381445c8dae6f9e37e0821f",
        "IPY_MODEL_18dd9e68f24648549da6dfd88b4a5321"
       ],
       "layout": "IPY_MODEL_686b775d58834bbe850042cd5356fe1d"
      }
     },
     "b6c75b961904440eb0026075775f7760": {
      "model_module": "jupyter-js-widgets",
      "model_module_version": "~2.1.4",
      "model_name": "VBoxModel",
      "state": {
       "_dom_classes": [
        "widget-interact"
       ],
       "_model_module_version": "~2.1.4",
       "_view_module_version": "~2.1.4",
       "children": [
        "IPY_MODEL_4236ab238f7d4915ba859996ac2a70a1",
        "IPY_MODEL_94ce227da1334fc480a32d6e71a47a1e"
       ],
       "layout": "IPY_MODEL_c5bf38ef4ad842bdbfbbacce0114e109"
      }
     },
     "b76f2f734e564be29942d54353be7345": {
      "model_module": "jupyter-js-widgets",
      "model_module_version": "~2.1.4",
      "model_name": "LayoutModel",
      "state": {
       "_model_module_version": "~2.1.4",
       "_view_module_version": "~2.1.4"
      }
     },
     "b8220a5754f0464f86333b2f245774a4": {
      "model_module": "jupyter-js-widgets",
      "model_module_version": "~2.1.4",
      "model_name": "VBoxModel",
      "state": {
       "_dom_classes": [
        "widget-interact"
       ],
       "_model_module_version": "~2.1.4",
       "_view_module_version": "~2.1.4",
       "children": [
        "IPY_MODEL_cacd1c31ec7c489db7f1ad05616ae96f",
        "IPY_MODEL_4be642a8bd124694b15fb759148e7944"
       ],
       "layout": "IPY_MODEL_7cb7590e01634245a89fbcf1b58c61dc"
      }
     },
     "b9a0fddd9ba941268c44f71393739186": {
      "model_module": "jupyter-js-widgets",
      "model_module_version": "~2.1.4",
      "model_name": "LayoutModel",
      "state": {
       "_model_module_version": "~2.1.4",
       "_view_module_version": "~2.1.4"
      }
     },
     "bba224c8c46344de8a3172e72be23e85": {
      "model_module": "jupyter-js-widgets",
      "model_module_version": "~2.1.4",
      "model_name": "LayoutModel",
      "state": {
       "_model_module_version": "~2.1.4",
       "_view_module_version": "~2.1.4"
      }
     },
     "bc92f89e13444429a0c544325d34bb93": {
      "model_module": "jupyter-js-widgets",
      "model_module_version": "~2.1.4",
      "model_name": "LayoutModel",
      "state": {
       "_model_module_version": "~2.1.4",
       "_view_module_version": "~2.1.4"
      }
     },
     "bd1013759b7042a9b3fa537627efed98": {
      "model_module": "jupyter-js-widgets",
      "model_module_version": "~2.1.4",
      "model_name": "SliderStyleModel",
      "state": {
       "_model_module_version": "~2.1.4",
       "_view_module_version": "~2.1.4"
      }
     },
     "bdda2f62318e4897936deb34d0eae9b5": {
      "model_module": "jupyter-js-widgets",
      "model_module_version": "~2.1.4",
      "model_name": "DropdownModel",
      "state": {
       "_model_module_version": "~2.1.4",
       "_options_labels": [
        "0",
        "1",
        "2",
        "3",
        "4",
        "5",
        "6"
       ],
       "_view_module_version": "~2.1.4",
       "description": "round_number",
       "layout": "IPY_MODEL_c4fef43483cc4e5180acbfc181aac264",
       "value": "0"
      }
     },
     "be9f49b5ff784f78a7cf84bd65972fe2": {
      "model_module": "jupyter-js-widgets",
      "model_module_version": "~2.1.4",
      "model_name": "LayoutModel",
      "state": {
       "_model_module_version": "~2.1.4",
       "_view_module_version": "~2.1.4"
      }
     },
     "c05cdf58f65f46e0ae766924eb6e0586": {
      "model_module": "jupyter-js-widgets",
      "model_module_version": "~2.1.4",
      "model_name": "IntSliderModel",
      "state": {
       "_model_module_version": "~2.1.4",
       "_view_module_version": "~2.1.4",
       "description": "sample_size",
       "layout": "IPY_MODEL_c24b791de4744f14a7076d73d879dbe7",
       "max": 300,
       "min": -100,
       "style": "IPY_MODEL_d4b6d5afb7974f55869fb814750a348d",
       "value": 100
      }
     },
     "c24b791de4744f14a7076d73d879dbe7": {
      "model_module": "jupyter-js-widgets",
      "model_module_version": "~2.1.4",
      "model_name": "LayoutModel",
      "state": {
       "_model_module_version": "~2.1.4",
       "_view_module_version": "~2.1.4"
      }
     },
     "c263ef206f4f47e88f88570c35135217": {
      "model_module": "jupyter-js-widgets",
      "model_module_version": "~2.1.4",
      "model_name": "OutputModel",
      "state": {
       "_dom_classes": [],
       "_model_module": "jupyter-js-widgets",
       "_model_module_version": "~2.1.4",
       "_view_module": "jupyter-js-widgets",
       "_view_module_version": "~2.1.4",
       "layout": "IPY_MODEL_f0e21a5fc0ee4c848a4d74a9b1812728",
       "msg_throttle": 1
      }
     },
     "c4b4c19cf0e44f6c80bd319ed106c6c7": {
      "model_module": "jupyter-js-widgets",
      "model_module_version": "~2.1.4",
      "model_name": "SliderStyleModel",
      "state": {
       "_model_module_version": "~2.1.4",
       "_view_module_version": "~2.1.4"
      }
     },
     "c4fef43483cc4e5180acbfc181aac264": {
      "model_module": "jupyter-js-widgets",
      "model_module_version": "~2.1.4",
      "model_name": "LayoutModel",
      "state": {
       "_model_module_version": "~2.1.4",
       "_view_module_version": "~2.1.4"
      }
     },
     "c578dc2df426446cb006d2f36f367c9e": {
      "model_module": "jupyter-js-widgets",
      "model_module_version": "~2.1.4",
      "model_name": "DropdownModel",
      "state": {
       "_model_module_version": "~2.1.4",
       "_options_labels": [
        "0",
        "1",
        "2",
        "3",
        "4",
        "5",
        "6"
       ],
       "_view_module_version": "~2.1.4",
       "description": "round_number",
       "layout": "IPY_MODEL_ae327e20ea5541d5a6ebb6c40887c619",
       "value": "6"
      }
     },
     "c5bf38ef4ad842bdbfbbacce0114e109": {
      "model_module": "jupyter-js-widgets",
      "model_module_version": "~2.1.4",
      "model_name": "LayoutModel",
      "state": {
       "_model_module_version": "~2.1.4",
       "_view_module_version": "~2.1.4"
      }
     },
     "c5d3496309734227b3796fcf7e51a9da": {
      "model_module": "jupyter-js-widgets",
      "model_module_version": "~2.1.4",
      "model_name": "LayoutModel",
      "state": {
       "_model_module_version": "~2.1.4",
       "_view_module_version": "~2.1.4"
      }
     },
     "c8275ee353184dc4b408d06e4d12dd98": {
      "model_module": "jupyter-js-widgets",
      "model_module_version": "~2.1.4",
      "model_name": "IntSliderModel",
      "state": {
       "_model_module_version": "~2.1.4",
       "_view_module_version": "~2.1.4",
       "description": "sample_size",
       "layout": "IPY_MODEL_f59de90b409e4e369cab7cf2b2d712c4",
       "max": 300,
       "min": -100,
       "style": "IPY_MODEL_3018896c477a4b81af3ec3e37470efff",
       "value": 100
      }
     },
     "c8dec15d57f84824a62e20b0d417eb39": {
      "model_module": "jupyter-js-widgets",
      "model_module_version": "~2.1.4",
      "model_name": "OutputModel",
      "state": {
       "_dom_classes": [],
       "_model_module": "jupyter-js-widgets",
       "_model_module_version": "~2.1.4",
       "_view_module": "jupyter-js-widgets",
       "_view_module_version": "~2.1.4",
       "layout": "IPY_MODEL_26d8f99a3d504cc2ab3ea347858ad4e8",
       "msg_throttle": 1
      }
     },
     "c97b9b224f5d4470857e3142cb488d64": {
      "model_module": "jupyter-js-widgets",
      "model_module_version": "~2.1.4",
      "model_name": "IntSliderModel",
      "state": {
       "_model_module_version": "~2.1.4",
       "_view_module_version": "~2.1.4",
       "description": "sample_size",
       "layout": "IPY_MODEL_4d7ac3dee9b54429a571a6f36810f57b",
       "max": 300,
       "min": -100,
       "style": "IPY_MODEL_1e02cd8188dd46479ccc81cec131e72a",
       "value": 100
      }
     },
     "c994ad42aac344d48f7d31b86158600f": {
      "model_module": "jupyter-js-widgets",
      "model_module_version": "~2.1.4",
      "model_name": "DropdownModel",
      "state": {
       "_model_module_version": "~2.1.4",
       "_options_labels": [
        "343",
        "352",
        "433",
        "442",
        "451",
        "532",
        "541"
       ],
       "_view_module_version": "~2.1.4",
       "description": "formation_type",
       "layout": "IPY_MODEL_3fb5d3f95e6746e4a044f803cb1ab677",
       "value": "343"
      }
     },
     "cacd1c31ec7c489db7f1ad05616ae96f": {
      "model_module": "jupyter-js-widgets",
      "model_module_version": "~2.1.4",
      "model_name": "DropdownModel",
      "state": {
       "_model_module_version": "~2.1.4",
       "_options_labels": [
        "0",
        "1",
        "2",
        "3",
        "4",
        "5",
        "6",
        "7",
        "8",
        "9",
        "10",
        "11"
       ],
       "_view_module_version": "~2.1.4",
       "description": "number_of_days",
       "layout": "IPY_MODEL_bba224c8c46344de8a3172e72be23e85",
       "value": "0"
      }
     },
     "cdae7d45072d41fca0aa087d2d77eda6": {
      "model_module": "jupyter-js-widgets",
      "model_module_version": "~2.1.4",
      "model_name": "OutputModel",
      "state": {
       "_dom_classes": [],
       "_model_module": "jupyter-js-widgets",
       "_model_module_version": "~2.1.4",
       "_view_module": "jupyter-js-widgets",
       "_view_module_version": "~2.1.4",
       "layout": "IPY_MODEL_e9321e20495a4da797f93dd8a9e60878",
       "msg_throttle": 1
      }
     },
     "cde485dfef514f92a43eb51ddf2b7282": {
      "model_module": "jupyter-js-widgets",
      "model_module_version": "~2.1.4",
      "model_name": "LayoutModel",
      "state": {
       "_model_module_version": "~2.1.4",
       "_view_module_version": "~2.1.4"
      }
     },
     "d3ed8e4bfc444f61bb53a67d48e487e7": {
      "model_module": "jupyter-js-widgets",
      "model_module_version": "~2.1.4",
      "model_name": "VBoxModel",
      "state": {
       "_dom_classes": [
        "widget-interact"
       ],
       "_model_module_version": "~2.1.4",
       "_view_module_version": "~2.1.4",
       "layout": "IPY_MODEL_88b17c782bf34b049c7afb927be5ad44"
      }
     },
     "d4b6d5afb7974f55869fb814750a348d": {
      "model_module": "jupyter-js-widgets",
      "model_module_version": "~2.1.4",
      "model_name": "SliderStyleModel",
      "state": {
       "_model_module_version": "~2.1.4",
       "_view_module_version": "~2.1.4"
      }
     },
     "d5a81b40f7954652bb4b60eab4310e0e": {
      "model_module": "jupyter-js-widgets",
      "model_module_version": "~2.1.4",
      "model_name": "OutputModel",
      "state": {
       "_dom_classes": [],
       "_model_module": "jupyter-js-widgets",
       "_model_module_version": "~2.1.4",
       "_view_module": "jupyter-js-widgets",
       "_view_module_version": "~2.1.4",
       "layout": "IPY_MODEL_bc92f89e13444429a0c544325d34bb93",
       "msg_throttle": 1
      }
     },
     "d742567eb5ce43fba5956c043794d9aa": {
      "model_module": "jupyter-js-widgets",
      "model_module_version": "~2.1.4",
      "model_name": "LayoutModel",
      "state": {
       "_model_module_version": "~2.1.4",
       "_view_module_version": "~2.1.4"
      }
     },
     "d9916df4429747b798b8b1c615e7277e": {
      "model_module": "jupyter-js-widgets",
      "model_module_version": "~2.1.4",
      "model_name": "LayoutModel",
      "state": {
       "_model_module_version": "~2.1.4",
       "_view_module_version": "~2.1.4"
      }
     },
     "d9e0440707e347e3a20559e0492663dc": {
      "model_module": "jupyter-js-widgets",
      "model_module_version": "~2.1.4",
      "model_name": "LayoutModel",
      "state": {
       "_model_module_version": "~2.1.4",
       "_view_module_version": "~2.1.4"
      }
     },
     "dacbca1aa97b46f2b98c71db7cad477f": {
      "model_module": "jupyter-js-widgets",
      "model_module_version": "~2.1.4",
      "model_name": "LayoutModel",
      "state": {
       "_model_module_version": "~2.1.4",
       "_view_module_version": "~2.1.4"
      }
     },
     "dd0aa0af02cd4fb087d32647d4effe7b": {
      "model_module": "jupyter-js-widgets",
      "model_module_version": "~2.1.4",
      "model_name": "DropdownModel",
      "state": {
       "_model_module_version": "~2.1.4",
       "_options_labels": [
        "0",
        "1",
        "2",
        "3",
        "4",
        "5",
        "6"
       ],
       "_view_module_version": "~2.1.4",
       "description": "round_number",
       "layout": "IPY_MODEL_7b49d602dd3b4db2be829179b6b735c1",
       "value": "2"
      }
     },
     "dd32e99928be4fde9f9be006e27f57d4": {
      "model_module": "jupyter-js-widgets",
      "model_module_version": "~2.1.4",
      "model_name": "OutputModel",
      "state": {
       "_dom_classes": [],
       "_model_module": "jupyter-js-widgets",
       "_model_module_version": "~2.1.4",
       "_view_module": "jupyter-js-widgets",
       "_view_module_version": "~2.1.4",
       "layout": "IPY_MODEL_077444ece37e46ce85f8d6a6097fab08",
       "msg_throttle": 1
      }
     },
     "dd530303eaa24404adb4b679692843a9": {
      "model_module": "jupyter-js-widgets",
      "model_module_version": "~2.1.4",
      "model_name": "OutputModel",
      "state": {
       "_dom_classes": [],
       "_model_module": "jupyter-js-widgets",
       "_model_module_version": "~2.1.4",
       "_view_module": "jupyter-js-widgets",
       "_view_module_version": "~2.1.4",
       "layout": "IPY_MODEL_497d95b731724fb4a753b742ba219cd9",
       "msg_throttle": 1
      }
     },
     "e1c2ab75379f4c749eaa4ee14b348bd5": {
      "model_module": "jupyter-js-widgets",
      "model_module_version": "~2.1.4",
      "model_name": "LayoutModel",
      "state": {
       "_model_module_version": "~2.1.4",
       "_view_module_version": "~2.1.4"
      }
     },
     "e1c8c57522234fd4936f2daf07f7c517": {
      "model_module": "jupyter-js-widgets",
      "model_module_version": "~2.1.4",
      "model_name": "VBoxModel",
      "state": {
       "_dom_classes": [
        "widget-interact"
       ],
       "_model_module_version": "~2.1.4",
       "_view_module_version": "~2.1.4",
       "children": [
        "IPY_MODEL_2c9db450b4b74a149abbb41594c9ad29",
        "IPY_MODEL_6aff163d5c1d4b178576f3dc404df768"
       ],
       "layout": "IPY_MODEL_7505ef2f64ac427e9808aa75d1866448"
      }
     },
     "e29b3deba59e45218007f5da33b561c0": {
      "model_module": "jupyter-js-widgets",
      "model_module_version": "~2.1.4",
      "model_name": "DropdownModel",
      "state": {
       "_model_module_version": "~2.1.4",
       "_options_labels": [
        "0",
        "1",
        "2",
        "3",
        "4",
        "5",
        "6"
       ],
       "_view_module_version": "~2.1.4",
       "description": "round_number",
       "layout": "IPY_MODEL_076d2e14d8af435f83bc03894e2c24b6",
       "value": "0"
      }
     },
     "e4570db520cd4f409d5a410c043d1876": {
      "model_module": "jupyter-js-widgets",
      "model_module_version": "~2.1.4",
      "model_name": "LayoutModel",
      "state": {
       "_model_module_version": "~2.1.4",
       "_view_module_version": "~2.1.4"
      }
     },
     "e5352c95c2f346c5adb001eef816d369": {
      "model_module": "jupyter-js-widgets",
      "model_module_version": "~2.1.4",
      "model_name": "OutputModel",
      "state": {
       "_dom_classes": [],
       "_model_module": "jupyter-js-widgets",
       "_model_module_version": "~2.1.4",
       "_view_module": "jupyter-js-widgets",
       "_view_module_version": "~2.1.4",
       "layout": "IPY_MODEL_2ec376fca2f64e62a57aa1e8f5e458ee",
       "msg_throttle": 1
      }
     },
     "e6baa7b13afc4fb68727d57f48064ff4": {
      "model_module": "jupyter-js-widgets",
      "model_module_version": "~2.1.4",
      "model_name": "LayoutModel",
      "state": {
       "_model_module_version": "~2.1.4",
       "_view_module_version": "~2.1.4"
      }
     },
     "e7eca6f213734a99b2ee5d5561919d70": {
      "model_module": "jupyter-js-widgets",
      "model_module_version": "~2.1.4",
      "model_name": "SliderStyleModel",
      "state": {
       "_model_module_version": "~2.1.4",
       "_view_module_version": "~2.1.4"
      }
     },
     "e81754095e954081a11cebd4be42582a": {
      "model_module": "jupyter-js-widgets",
      "model_module_version": "~2.1.4",
      "model_name": "LayoutModel",
      "state": {
       "_model_module_version": "~2.1.4",
       "_view_module_version": "~2.1.4"
      }
     },
     "e8fc7e2c078d46459c746ce1a4f10d02": {
      "model_module": "jupyter-js-widgets",
      "model_module_version": "~2.1.4",
      "model_name": "LayoutModel",
      "state": {
       "_model_module_version": "~2.1.4",
       "_view_module_version": "~2.1.4"
      }
     },
     "e9223a9e337447e9b59115c6bd364dd1": {
      "model_module": "jupyter-js-widgets",
      "model_module_version": "~2.1.4",
      "model_name": "OutputModel",
      "state": {
       "_dom_classes": [],
       "_model_module": "jupyter-js-widgets",
       "_model_module_version": "~2.1.4",
       "_view_module": "jupyter-js-widgets",
       "_view_module_version": "~2.1.4",
       "layout": "IPY_MODEL_b3555c2f75df42afba9ddfa3dafdf823",
       "msg_throttle": 1
      }
     },
     "e9321e20495a4da797f93dd8a9e60878": {
      "model_module": "jupyter-js-widgets",
      "model_module_version": "~2.1.4",
      "model_name": "LayoutModel",
      "state": {
       "_model_module_version": "~2.1.4",
       "_view_module_version": "~2.1.4"
      }
     },
     "e987ec836af440248e8b34ac4fecb9ca": {
      "model_module": "jupyter-js-widgets",
      "model_module_version": "~2.1.4",
      "model_name": "LayoutModel",
      "state": {
       "_model_module_version": "~2.1.4",
       "_view_module_version": "~2.1.4"
      }
     },
     "eca72bdfa5354df0a42c5e554b8c52c1": {
      "model_module": "jupyter-js-widgets",
      "model_module_version": "~2.1.4",
      "model_name": "LayoutModel",
      "state": {
       "_model_module_version": "~2.1.4",
       "_view_module_version": "~2.1.4"
      }
     },
     "ed9847bb3edc4240a132c38d8c7f683b": {
      "model_module": "jupyter-js-widgets",
      "model_module_version": "~2.1.4",
      "model_name": "VBoxModel",
      "state": {
       "_dom_classes": [
        "widget-interact"
       ],
       "_model_module_version": "~2.1.4",
       "_view_module_version": "~2.1.4",
       "children": [
        "IPY_MODEL_940fba629ab948cd9f99a462f8a06fe5",
        "IPY_MODEL_6850dd5365104de0a9272263581f625c"
       ],
       "layout": "IPY_MODEL_28a727f26f1b4398a00f2c4ba704877f"
      }
     },
     "ef2dd11c80c64530afc296f2273617a3": {
      "model_module": "jupyter-js-widgets",
      "model_module_version": "~2.1.4",
      "model_name": "VBoxModel",
      "state": {
       "_dom_classes": [
        "widget-interact"
       ],
       "_model_module_version": "~2.1.4",
       "_view_module_version": "~2.1.4",
       "children": [
        "IPY_MODEL_bdda2f62318e4897936deb34d0eae9b5",
        "IPY_MODEL_14b10daf67ac4fd396be20c5827d4651",
        "IPY_MODEL_c8275ee353184dc4b408d06e4d12dd98",
        "IPY_MODEL_8920707fab9e48158b301933f68073a0"
       ],
       "layout": "IPY_MODEL_f77ad28ba1c04d9d873354eb57e4ff18"
      }
     },
     "f0400137cfad4c2c970a4df18069a4a7": {
      "model_module": "jupyter-js-widgets",
      "model_module_version": "~2.1.4",
      "model_name": "LayoutModel",
      "state": {
       "_model_module_version": "~2.1.4",
       "_view_module_version": "~2.1.4"
      }
     },
     "f0e21a5fc0ee4c848a4d74a9b1812728": {
      "model_module": "jupyter-js-widgets",
      "model_module_version": "~2.1.4",
      "model_name": "LayoutModel",
      "state": {
       "_model_module_version": "~2.1.4",
       "_view_module_version": "~2.1.4"
      }
     },
     "f426f7f6c68d428b818db041d6c32d4e": {
      "model_module": "jupyter-js-widgets",
      "model_module_version": "~2.1.4",
      "model_name": "LayoutModel",
      "state": {
       "_model_module_version": "~2.1.4",
       "_view_module_version": "~2.1.4"
      }
     },
     "f44b6419e55245bd9a041dc276f64430": {
      "model_module": "jupyter-js-widgets",
      "model_module_version": "~2.1.4",
      "model_name": "OutputModel",
      "state": {
       "_dom_classes": [],
       "_model_module": "jupyter-js-widgets",
       "_model_module_version": "~2.1.4",
       "_view_module": "jupyter-js-widgets",
       "_view_module_version": "~2.1.4",
       "layout": "IPY_MODEL_2daa3e92c4f046b9894e4d343d7ec5b4",
       "msg_throttle": 1
      }
     },
     "f59de90b409e4e369cab7cf2b2d712c4": {
      "model_module": "jupyter-js-widgets",
      "model_module_version": "~2.1.4",
      "model_name": "LayoutModel",
      "state": {
       "_model_module_version": "~2.1.4",
       "_view_module_version": "~2.1.4"
      }
     },
     "f77ad28ba1c04d9d873354eb57e4ff18": {
      "model_module": "jupyter-js-widgets",
      "model_module_version": "~2.1.4",
      "model_name": "LayoutModel",
      "state": {
       "_model_module_version": "~2.1.4",
       "_view_module_version": "~2.1.4"
      }
     },
     "f97343df5a764386a0feced63638f4be": {
      "model_module": "jupyter-js-widgets",
      "model_module_version": "~2.1.4",
      "model_name": "LayoutModel",
      "state": {
       "_model_module_version": "~2.1.4",
       "_view_module_version": "~2.1.4"
      }
     },
     "fa72534655ae4b75a7e3ed56b0c93957": {
      "model_module": "jupyter-js-widgets",
      "model_module_version": "~2.1.4",
      "model_name": "VBoxModel",
      "state": {
       "_dom_classes": [
        "widget-interact"
       ],
       "_model_module_version": "~2.1.4",
       "_view_module_version": "~2.1.4",
       "children": [
        "IPY_MODEL_dd0aa0af02cd4fb087d32647d4effe7b",
        "IPY_MODEL_28cc42769e7e49e4b3ba3aa069c76c2d",
        "IPY_MODEL_43365a46bdaa4e68b768f8662e66664d",
        "IPY_MODEL_2c3060bfdb314075961b168360f63409"
       ],
       "layout": "IPY_MODEL_6ea10f37b73445e0b98c1a2a46b26d11"
      }
     },
     "fae5fdbd39d24aa2999f19236a24d285": {
      "model_module": "jupyter-js-widgets",
      "model_module_version": "~2.1.4",
      "model_name": "LayoutModel",
      "state": {
       "_model_module_version": "~2.1.4",
       "_view_module_version": "~2.1.4"
      }
     },
     "fc1503437ea0411b9dd059b6357666af": {
      "model_module": "jupyter-js-widgets",
      "model_module_version": "~2.1.4",
      "model_name": "DropdownModel",
      "state": {
       "_model_module_version": "~2.1.4",
       "_options_labels": [
        "343",
        "352",
        "433",
        "442",
        "451",
        "532",
        "541"
       ],
       "_view_module_version": "~2.1.4",
       "description": "formation_type",
       "layout": "IPY_MODEL_6b753a2d30bd41c8a8103826564ee066",
       "value": "343"
      }
     },
     "fc906d4be86f4cad87f30defab72ed50": {
      "model_module": "jupyter-js-widgets",
      "model_module_version": "~2.1.4",
      "model_name": "LayoutModel",
      "state": {
       "_model_module_version": "~2.1.4",
       "_view_module_version": "~2.1.4"
      }
     },
     "fce6509667eb45ad946e9e652cc60de6": {
      "model_module": "jupyter-js-widgets",
      "model_module_version": "~2.1.4",
      "model_name": "LayoutModel",
      "state": {
       "_model_module_version": "~2.1.4",
       "_view_module_version": "~2.1.4"
      }
     },
     "fd853d8797a24cf1beda2733fe03026e": {
      "model_module": "jupyter-js-widgets",
      "model_module_version": "~2.1.4",
      "model_name": "LayoutModel",
      "state": {
       "_model_module_version": "~2.1.4",
       "_view_module_version": "~2.1.4"
      }
     },
     "fdcbbbdf8e874836bead926d5dab1b81": {
      "model_module": "jupyter-js-widgets",
      "model_module_version": "~2.1.4",
      "model_name": "VBoxModel",
      "state": {
       "_dom_classes": [
        "widget-interact"
       ],
       "_model_module_version": "~2.1.4",
       "_view_module_version": "~2.1.4",
       "children": [
        "IPY_MODEL_a8151cc6e1be4b748440fe9cc307751f",
        "IPY_MODEL_641aae21726943fe89b2136d1b945102",
        "IPY_MODEL_4cf7ef143e3d4d12aa9c556477292dfa",
        "IPY_MODEL_cdae7d45072d41fca0aa087d2d77eda6"
       ],
       "layout": "IPY_MODEL_99d42b7ad7f840199163036e0b86e30d"
      }
     },
     "fdf850d03905400d9d487eac2f6b2d62": {
      "model_module": "jupyter-js-widgets",
      "model_module_version": "~2.1.4",
      "model_name": "LayoutModel",
      "state": {
       "_model_module_version": "~2.1.4",
       "_view_module_version": "~2.1.4"
      }
     },
     "fe15ec61d381445c8dae6f9e37e0821f": {
      "model_module": "jupyter-js-widgets",
      "model_module_version": "~2.1.4",
      "model_name": "DropdownModel",
      "state": {
       "_model_module_version": "~2.1.4",
       "_options_labels": [
        "0",
        "1",
        "2",
        "3",
        "4",
        "5",
        "6"
       ],
       "_view_module_version": "~2.1.4",
       "description": "x",
       "layout": "IPY_MODEL_b2cf3eb890734671ac3952c6bfb6b1a8",
       "value": "0"
      }
     }
    },
    "version_major": 1,
    "version_minor": 0
   }
  }
 },
 "nbformat": 4,
 "nbformat_minor": 2
}

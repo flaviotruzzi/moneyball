{
 "cells": [
  {
   "cell_type": "code",
   "execution_count": 80,
   "metadata": {},
   "outputs": [],
   "source": [
    "%matplotlib notebook\n",
    "\n",
    "import pandas as pd\n",
    "import matplotlib.pyplot as plt\n",
    "from utils.prepare_data import *\n",
    "\n",
    "from sklearn import *\n",
    "from pylab import *\n",
    "\n",
    "from __future__ import print_function\n",
    "from IPython.html.widgets import interact, interactive, fixed\n",
    "from IPython.html import widgets\n",
    "\n",
    "\n",
    "rounds = list(map(prepare_round,\n",
    "             ['./data/players-score-round-1.bz2',\n",
    "              './data/players-score-round-2.bz2',\n",
    "              './data/players-score-round-3.bz2',\n",
    "              './data/players-score-round-4.bz2',\n",
    "              './data/players-score-round-5.bz2',\n",
    "              './data/players-score-round-6.bz2',\n",
    "              './data/players-score-round-7.bz2']))\n",
    "\n",
    "parameters, _ = get_valid_scouts(rounds[0])\n",
    "\n",
    "parameters.extend(['points',\n",
    "                   'team_position',\n",
    "                   'status_code'])"
   ]
  },
  {
   "cell_type": "code",
   "execution_count": 89,
   "metadata": {},
   "outputs": [
    {
     "data": {
      "application/vnd.jupyter.widget-view+json": {
       "model_id": "236821b0f1354ba2a99009df6d7099be"
      }
     },
     "metadata": {},
     "output_type": "display_data"
    },
    {
     "data": {
      "text/plain": [
       "<function __main__.plot_point_hist>"
      ]
     },
     "execution_count": 89,
     "metadata": {},
     "output_type": "execute_result"
    }
   ],
   "source": [
    "%matplotlib notebook\n",
    "def plot_point_hist(x):\n",
    "    ax = rounds[x][rounds[x].status == 'likely'][[\"position\", \"points\"]].boxplot(by=\"position\", return_type='axes')\n",
    "    plt.title(f\"Round {x}\")\n",
    "\n",
    "interact(plot_point_hist, x=range(len(rounds)))"
   ]
  },
  {
   "cell_type": "markdown",
   "metadata": {},
   "source": [
    "#### Formações\n",
    "    - 3-4-3 \n",
    "    - 3-5-2 \n",
    "    - 4-3-3 \n",
    "    - 4-4-2 \n",
    "    - 4-5-1 \n",
    "    - 5-3-2 \n",
    "    - 5-4-1"
   ]
  },
  {
   "cell_type": "code",
   "execution_count": null,
   "metadata": {
    "scrolled": true
   },
   "outputs": [],
   "source": [
    "%matplotlib notebook\n",
    "formations = {\n",
    "    '343': {'goalkeeper': 1,  'fullback': 2, 'defender': 3, 'midfielder': 2, 'striker': 3},\n",
    "    '352': {'goalkeeper': 1,  'fullback': 2, 'defender': 3, 'midfielder': 3, 'striker': 2},\n",
    "    '433': {'goalkeeper': 1,  'fullback': 2, 'defender': 2, 'midfielder': 3, 'striker': 3},\n",
    "    '442': {'goalkeeper': 1,  'fullback': 2, 'defender': 2, 'midfielder': 4, 'striker': 2},\n",
    "    '451': {'goalkeeper': 1,  'fullback': 2, 'defender': 2, 'midfielder': 5, 'striker': 1},\n",
    "    '532': {'goalkeeper': 1,  'fullback': 2, 'defender': 3, 'midfielder': 3, 'striker': 2},\n",
    "    '541': {'goalkeeper': 1,  'fullback': 2, 'defender': 3, 'midfielder': 4, 'striker': 1}\n",
    "}\n",
    "\n",
    "def analyze_formation(sample_size=100):\n",
    "    points = {}\n",
    "    for formation_type in formations:\n",
    "        formation = formations[formation_type]\n",
    "        points[formation_type] = []\n",
    "        for round in rounds:\n",
    "            players = round[round.status == 'likely']    \n",
    "            for _ in range(sample_size):\n",
    "                for position, quantity in formation.items():\n",
    "                    points[formation_type].extend(players[players.position == position].sample(quantity)['points'].tolist())            \n",
    "    df = pd.DataFrame(points)\n",
    "    ax = df.boxplot(return_type=\"axes\")\n",
    "    plt.title(f\"Performance by Formation\")\n",
    "    return df\n",
    "\n",
    "formation_data = analyze_formation(200)"
   ]
  },
  {
   "cell_type": "code",
   "execution_count": 104,
   "metadata": {},
   "outputs": [
    {
     "data": {
      "text/html": [
       "<div>\n",
       "<style>\n",
       "    .dataframe thead tr:only-child th {\n",
       "        text-align: right;\n",
       "    }\n",
       "\n",
       "    .dataframe thead th {\n",
       "        text-align: left;\n",
       "    }\n",
       "\n",
       "    .dataframe tbody tr th {\n",
       "        vertical-align: top;\n",
       "    }\n",
       "</style>\n",
       "<table border=\"1\" class=\"dataframe\">\n",
       "  <thead>\n",
       "    <tr style=\"text-align: right;\">\n",
       "      <th></th>\n",
       "      <th>343</th>\n",
       "      <th>352</th>\n",
       "      <th>433</th>\n",
       "      <th>442</th>\n",
       "      <th>451</th>\n",
       "      <th>532</th>\n",
       "      <th>541</th>\n",
       "    </tr>\n",
       "  </thead>\n",
       "  <tbody>\n",
       "    <tr>\n",
       "      <th>count</th>\n",
       "      <td>770.000000</td>\n",
       "      <td>770.000000</td>\n",
       "      <td>770.000000</td>\n",
       "      <td>770.000000</td>\n",
       "      <td>770.000000</td>\n",
       "      <td>770.000000</td>\n",
       "      <td>770.000000</td>\n",
       "    </tr>\n",
       "    <tr>\n",
       "      <th>mean</th>\n",
       "      <td>3.840130</td>\n",
       "      <td>3.831818</td>\n",
       "      <td>3.626364</td>\n",
       "      <td>3.693896</td>\n",
       "      <td>3.821558</td>\n",
       "      <td>3.526494</td>\n",
       "      <td>3.766104</td>\n",
       "    </tr>\n",
       "    <tr>\n",
       "      <th>std</th>\n",
       "      <td>5.004735</td>\n",
       "      <td>4.873138</td>\n",
       "      <td>4.979620</td>\n",
       "      <td>4.754405</td>\n",
       "      <td>4.574959</td>\n",
       "      <td>4.280199</td>\n",
       "      <td>4.438923</td>\n",
       "    </tr>\n",
       "    <tr>\n",
       "      <th>min</th>\n",
       "      <td>-9.000000</td>\n",
       "      <td>-13.200000</td>\n",
       "      <td>-13.200000</td>\n",
       "      <td>-7.200000</td>\n",
       "      <td>-9.000000</td>\n",
       "      <td>-9.000000</td>\n",
       "      <td>-7.300000</td>\n",
       "    </tr>\n",
       "    <tr>\n",
       "      <th>25%</th>\n",
       "      <td>0.100000</td>\n",
       "      <td>0.025000</td>\n",
       "      <td>0.000000</td>\n",
       "      <td>0.100000</td>\n",
       "      <td>0.200000</td>\n",
       "      <td>0.200000</td>\n",
       "      <td>0.400000</td>\n",
       "    </tr>\n",
       "    <tr>\n",
       "      <th>50%</th>\n",
       "      <td>2.600000</td>\n",
       "      <td>3.000000</td>\n",
       "      <td>2.450000</td>\n",
       "      <td>2.600000</td>\n",
       "      <td>3.000000</td>\n",
       "      <td>2.600000</td>\n",
       "      <td>3.100000</td>\n",
       "    </tr>\n",
       "    <tr>\n",
       "      <th>75%</th>\n",
       "      <td>6.500000</td>\n",
       "      <td>6.700000</td>\n",
       "      <td>6.575000</td>\n",
       "      <td>6.600000</td>\n",
       "      <td>6.275000</td>\n",
       "      <td>6.375000</td>\n",
       "      <td>6.450000</td>\n",
       "    </tr>\n",
       "    <tr>\n",
       "      <th>max</th>\n",
       "      <td>29.900000</td>\n",
       "      <td>26.900000</td>\n",
       "      <td>29.900000</td>\n",
       "      <td>29.900000</td>\n",
       "      <td>24.800000</td>\n",
       "      <td>21.100000</td>\n",
       "      <td>21.100000</td>\n",
       "    </tr>\n",
       "  </tbody>\n",
       "</table>\n",
       "</div>"
      ],
      "text/plain": [
       "              343         352         433         442         451         532  \\\n",
       "count  770.000000  770.000000  770.000000  770.000000  770.000000  770.000000   \n",
       "mean     3.840130    3.831818    3.626364    3.693896    3.821558    3.526494   \n",
       "std      5.004735    4.873138    4.979620    4.754405    4.574959    4.280199   \n",
       "min     -9.000000  -13.200000  -13.200000   -7.200000   -9.000000   -9.000000   \n",
       "25%      0.100000    0.025000    0.000000    0.100000    0.200000    0.200000   \n",
       "50%      2.600000    3.000000    2.450000    2.600000    3.000000    2.600000   \n",
       "75%      6.500000    6.700000    6.575000    6.600000    6.275000    6.375000   \n",
       "max     29.900000   26.900000   29.900000   29.900000   24.800000   21.100000   \n",
       "\n",
       "              541  \n",
       "count  770.000000  \n",
       "mean     3.766104  \n",
       "std      4.438923  \n",
       "min     -7.300000  \n",
       "25%      0.400000  \n",
       "50%      3.100000  \n",
       "75%      6.450000  \n",
       "max     21.100000  "
      ]
     },
     "execution_count": 104,
     "metadata": {},
     "output_type": "execute_result"
    }
   ],
   "source": [
    "formation_data.describe()"
   ]
  }
 ],
 "metadata": {
  "kernelspec": {
   "display_name": "Python 3",
   "language": "python",
   "name": "python3"
  },
  "language_info": {
   "codemirror_mode": {
    "name": "ipython",
    "version": 3
   },
   "file_extension": ".py",
   "mimetype": "text/x-python",
   "name": "python",
   "nbconvert_exporter": "python",
   "pygments_lexer": "ipython3",
   "version": "3.6.1"
  },
  "widgets": {
   "application/vnd.jupyter.widget-state+json": {
    "state": {
     "009c1ccb969843fcbc9741bd14c37700": {
      "model_module": "jupyter-js-widgets",
      "model_module_version": "~2.1.4",
      "model_name": "VBoxModel",
      "state": {
       "_dom_classes": [
        "widget-interact"
       ],
       "_model_module_version": "~2.1.4",
       "_view_module_version": "~2.1.4",
       "children": [
        "IPY_MODEL_e29b3deba59e45218007f5da33b561c0",
        "IPY_MODEL_7c42ebff59904c5b9cf27b9d6fcca5a4",
        "IPY_MODEL_0ca29447ee7142dfa43f076c0ccb7bb9",
        "IPY_MODEL_a3151959d5bc4722a1c972a22e44c77f"
       ],
       "layout": "IPY_MODEL_a45a8049cea842c58f8bd25305d728cc"
      }
     },
     "0227774ca2ec4a8d93fa395c04dade2e": {
      "model_module": "jupyter-js-widgets",
      "model_module_version": "~2.1.4",
      "model_name": "DropdownModel",
      "state": {
       "_model_module_version": "~2.1.4",
       "_options_labels": [
        "0",
        "1",
        "2",
        "3",
        "4",
        "5",
        "6"
       ],
       "_view_module_version": "~2.1.4",
       "description": "x",
       "layout": "IPY_MODEL_334001b4d6bf48b8984321ab61fd1225",
       "value": "0"
      }
     },
     "02d77a3c93004994ad4a9553e0c7ee67": {
      "model_module": "jupyter-js-widgets",
      "model_module_version": "~2.1.4",
      "model_name": "LayoutModel",
      "state": {
       "_model_module_version": "~2.1.4",
       "_view_module_version": "~2.1.4"
      }
     },
     "05a3aa856c0a42778030e57dd7fb24a5": {
      "model_module": "jupyter-js-widgets",
      "model_module_version": "~2.1.4",
      "model_name": "LayoutModel",
      "state": {
       "_model_module_version": "~2.1.4",
       "_view_module_version": "~2.1.4"
      }
     },
     "076d2e14d8af435f83bc03894e2c24b6": {
      "model_module": "jupyter-js-widgets",
      "model_module_version": "~2.1.4",
      "model_name": "LayoutModel",
      "state": {
       "_model_module_version": "~2.1.4",
       "_view_module_version": "~2.1.4"
      }
     },
     "077444ece37e46ce85f8d6a6097fab08": {
      "model_module": "jupyter-js-widgets",
      "model_module_version": "~2.1.4",
      "model_name": "LayoutModel",
      "state": {
       "_model_module_version": "~2.1.4",
       "_view_module_version": "~2.1.4"
      }
     },
     "07aebbf67c244c53af2c7be1bd4c0015": {
      "model_module": "jupyter-js-widgets",
      "model_module_version": "~2.1.4",
      "model_name": "DropdownModel",
      "state": {
       "_model_module_version": "~2.1.4",
       "_options_labels": [
        "343",
        "352",
        "433",
        "442",
        "451",
        "532",
        "541"
       ],
       "_view_module_version": "~2.1.4",
       "description": "formation_type",
       "layout": "IPY_MODEL_97076b35aa7a40aaaf428ad83c740fee",
       "value": "343"
      }
     },
     "0afd8cd284b746d496ef97b4094f4669": {
      "model_module": "jupyter-js-widgets",
      "model_module_version": "~2.1.4",
      "model_name": "DropdownModel",
      "state": {
       "_model_module_version": "~2.1.4",
       "_options_labels": [
        "0",
        "1",
        "2",
        "3",
        "4",
        "5",
        "6"
       ],
       "_view_module_version": "~2.1.4",
       "description": "x",
       "layout": "IPY_MODEL_0eed7ad4eec046508cf85d4ebae1977a",
       "value": "0"
      }
     },
     "0b4f7841d54849f993d73690aca63c9d": {
      "model_module": "jupyter-js-widgets",
      "model_module_version": "~2.1.4",
      "model_name": "LayoutModel",
      "state": {
       "_model_module_version": "~2.1.4",
       "_view_module_version": "~2.1.4"
      }
     },
     "0ca29447ee7142dfa43f076c0ccb7bb9": {
      "model_module": "jupyter-js-widgets",
      "model_module_version": "~2.1.4",
      "model_name": "IntSliderModel",
      "state": {
       "_model_module_version": "~2.1.4",
       "_view_module_version": "~2.1.4",
       "description": "sample_size",
       "layout": "IPY_MODEL_7ee101c230b64e8286c29e67c2a3d094",
       "max": 300,
       "min": -100,
       "style": "IPY_MODEL_6b1329a55ca043909f05054f6eb2c10b",
       "value": 100
      }
     },
     "0cf2f924d57c452da8ec645a1590f608": {
      "model_module": "jupyter-js-widgets",
      "model_module_version": "~2.1.4",
      "model_name": "LayoutModel",
      "state": {
       "_model_module_version": "~2.1.4",
       "_view_module_version": "~2.1.4"
      }
     },
     "0dfb4bdf8d1f4d6c84d3cd246cfa8b2a": {
      "model_module": "jupyter-js-widgets",
      "model_module_version": "~2.1.4",
      "model_name": "LayoutModel",
      "state": {
       "_model_module_version": "~2.1.4",
       "_view_module_version": "~2.1.4"
      }
     },
     "0e82bbdf43d94888ab5a387f347288e9": {
      "model_module": "jupyter-js-widgets",
      "model_module_version": "~2.1.4",
      "model_name": "VBoxModel",
      "state": {
       "_dom_classes": [
        "widget-interact"
       ],
       "_model_module_version": "~2.1.4",
       "_view_module_version": "~2.1.4",
       "layout": "IPY_MODEL_fae5fdbd39d24aa2999f19236a24d285"
      }
     },
     "0eed7ad4eec046508cf85d4ebae1977a": {
      "model_module": "jupyter-js-widgets",
      "model_module_version": "~2.1.4",
      "model_name": "LayoutModel",
      "state": {
       "_model_module_version": "~2.1.4",
       "_view_module_version": "~2.1.4"
      }
     },
     "14b10daf67ac4fd396be20c5827d4651": {
      "model_module": "jupyter-js-widgets",
      "model_module_version": "~2.1.4",
      "model_name": "DropdownModel",
      "state": {
       "_model_module_version": "~2.1.4",
       "_options_labels": [
        "343",
        "352",
        "433",
        "442",
        "451",
        "532",
        "541"
       ],
       "_view_module_version": "~2.1.4",
       "description": "formation_type",
       "layout": "IPY_MODEL_d742567eb5ce43fba5956c043794d9aa",
       "value": "343"
      }
     },
     "176561f10eb849c690c7560f35658705": {
      "model_module": "jupyter-js-widgets",
      "model_module_version": "~2.1.4",
      "model_name": "IntSliderModel",
      "state": {
       "_model_module_version": "~2.1.4",
       "_view_module_version": "~2.1.4",
       "description": "sample_size",
       "layout": "IPY_MODEL_7e831a9b6a014b43a5fae8bdea7f6e65",
       "max": 300,
       "min": -100,
       "style": "IPY_MODEL_c4b4c19cf0e44f6c80bd319ed106c6c7",
       "value": 100
      }
     },
     "18dd9e68f24648549da6dfd88b4a5321": {
      "model_module": "jupyter-js-widgets",
      "model_module_version": "~2.1.4",
      "model_name": "OutputModel",
      "state": {
       "_dom_classes": [],
       "_model_module": "jupyter-js-widgets",
       "_model_module_version": "~2.1.4",
       "_view_module": "jupyter-js-widgets",
       "_view_module_version": "~2.1.4",
       "layout": "IPY_MODEL_5eec7e06e5b9409ea1d9f8698295459a",
       "msg_throttle": 1
      }
     },
     "19539d3a1ed54623b32344a5fb76615a": {
      "model_module": "jupyter-js-widgets",
      "model_module_version": "~2.1.4",
      "model_name": "VBoxModel",
      "state": {
       "_dom_classes": [
        "widget-interact"
       ],
       "_model_module_version": "~2.1.4",
       "_view_module_version": "~2.1.4",
       "children": [
        "IPY_MODEL_44ac3d110e274a66a1b1de5bf6a16fc9",
        "IPY_MODEL_1df848a876124f5cbf0e05005f9257f6"
       ],
       "layout": "IPY_MODEL_acd26371c92841f09028d6511385d0f2"
      }
     },
     "19d481d82a4f4ec0811300d2b13bfcf2": {
      "model_module": "jupyter-js-widgets",
      "model_module_version": "~2.1.4",
      "model_name": "DropdownModel",
      "state": {
       "_model_module_version": "~2.1.4",
       "_options_labels": [
        "343",
        "352",
        "433",
        "442",
        "451",
        "532",
        "541"
       ],
       "_view_module_version": "~2.1.4",
       "description": "formation_type",
       "layout": "IPY_MODEL_e1c2ab75379f4c749eaa4ee14b348bd5",
       "value": "352"
      }
     },
     "1ac9bfeada0b4b6bb2c59819dca8e06b": {
      "model_module": "jupyter-js-widgets",
      "model_module_version": "~2.1.4",
      "model_name": "VBoxModel",
      "state": {
       "_dom_classes": [
        "widget-interact"
       ],
       "_model_module_version": "~2.1.4",
       "_view_module_version": "~2.1.4",
       "children": [
        "IPY_MODEL_932e7aefbb3f496182da034cde159379",
        "IPY_MODEL_fc1503437ea0411b9dd059b6357666af",
        "IPY_MODEL_c97b9b224f5d4470857e3142cb488d64",
        "IPY_MODEL_97e94e684c3b4e7182af7afcf3b2ed11"
       ],
       "layout": "IPY_MODEL_0dfb4bdf8d1f4d6c84d3cd246cfa8b2a"
      }
     },
     "1b0415b004f246e8a9aabc04a5dba89d": {
      "model_module": "jupyter-js-widgets",
      "model_module_version": "~2.1.4",
      "model_name": "LayoutModel",
      "state": {
       "_model_module_version": "~2.1.4",
       "_view_module_version": "~2.1.4"
      }
     },
     "1df848a876124f5cbf0e05005f9257f6": {
      "model_module": "jupyter-js-widgets",
      "model_module_version": "~2.1.4",
      "model_name": "OutputModel",
      "state": {
       "_dom_classes": [],
       "_model_module": "jupyter-js-widgets",
       "_model_module_version": "~2.1.4",
       "_view_module": "jupyter-js-widgets",
       "_view_module_version": "~2.1.4",
       "layout": "IPY_MODEL_348f1046766b42149e5409ab79bfc000",
       "msg_throttle": 1
      }
     },
     "1e02cd8188dd46479ccc81cec131e72a": {
      "model_module": "jupyter-js-widgets",
      "model_module_version": "~2.1.4",
      "model_name": "SliderStyleModel",
      "state": {
       "_model_module_version": "~2.1.4",
       "_view_module_version": "~2.1.4"
      }
     },
     "1e62a5d4d0ce43488bfdb14a3522f04d": {
      "model_module": "jupyter-js-widgets",
      "model_module_version": "~2.1.4",
      "model_name": "OutputModel",
      "state": {
       "_dom_classes": [],
       "_model_module": "jupyter-js-widgets",
       "_model_module_version": "~2.1.4",
       "_view_module": "jupyter-js-widgets",
       "_view_module_version": "~2.1.4",
       "layout": "IPY_MODEL_873ea6584439477c949284f3d82e2d2b",
       "msg_throttle": 1
      }
     },
     "1e7d53b573d84f7cb6d09dc22504e434": {
      "model_module": "jupyter-js-widgets",
      "model_module_version": "~2.1.4",
      "model_name": "LayoutModel",
      "state": {
       "_model_module_version": "~2.1.4",
       "_view_module_version": "~2.1.4"
      }
     },
     "1ffdfde099744498936bd7ae5b23240e": {
      "model_module": "jupyter-js-widgets",
      "model_module_version": "~2.1.4",
      "model_name": "DropdownModel",
      "state": {
       "_model_module_version": "~2.1.4",
       "_options_labels": [
        "343",
        "352",
        "433",
        "442",
        "451",
        "532",
        "541"
       ],
       "_view_module_version": "~2.1.4",
       "description": "formation_type",
       "layout": "IPY_MODEL_9729fc70b7e84db298db9b3fb4dbd3ea",
       "value": "343"
      }
     },
     "207d320d18ce4278bc87589c3bd30f1b": {
      "model_module": "jupyter-js-widgets",
      "model_module_version": "~2.1.4",
      "model_name": "LayoutModel",
      "state": {
       "_model_module_version": "~2.1.4",
       "_view_module_version": "~2.1.4"
      }
     },
     "23826e2e731547368163cdf1a91b9a74": {
      "model_module": "jupyter-js-widgets",
      "model_module_version": "~2.1.4",
      "model_name": "SliderStyleModel",
      "state": {
       "_model_module_version": "~2.1.4",
       "_view_module_version": "~2.1.4"
      }
     },
     "253e0d7a713a48b5a1655291cb521bf8": {
      "model_module": "jupyter-js-widgets",
      "model_module_version": "~2.1.4",
      "model_name": "VBoxModel",
      "state": {
       "_dom_classes": [
        "widget-interact"
       ],
       "_model_module_version": "~2.1.4",
       "_view_module_version": "~2.1.4",
       "children": [
        "IPY_MODEL_5f98a92bdd0b4f1ebb008b910f12b4a6",
        "IPY_MODEL_e9223a9e337447e9b59115c6bd364dd1"
       ],
       "layout": "IPY_MODEL_cde485dfef514f92a43eb51ddf2b7282"
      }
     },
     "26ac7ecbe9c3440da54ff2bb64a38971": {
      "model_module": "jupyter-js-widgets",
      "model_module_version": "~2.1.4",
      "model_name": "IntSliderModel",
      "state": {
       "_model_module_version": "~2.1.4",
       "_view_module_version": "~2.1.4",
       "description": "sample_size",
       "layout": "IPY_MODEL_a889226f400b402c8af6b7c4ebf7e321",
       "max": 300,
       "min": -100,
       "style": "IPY_MODEL_e7eca6f213734a99b2ee5d5561919d70",
       "value": 100
      }
     },
     "26d8f99a3d504cc2ab3ea347858ad4e8": {
      "model_module": "jupyter-js-widgets",
      "model_module_version": "~2.1.4",
      "model_name": "LayoutModel",
      "state": {
       "_model_module_version": "~2.1.4",
       "_view_module_version": "~2.1.4"
      }
     },
     "28a727f26f1b4398a00f2c4ba704877f": {
      "model_module": "jupyter-js-widgets",
      "model_module_version": "~2.1.4",
      "model_name": "LayoutModel",
      "state": {
       "_model_module_version": "~2.1.4",
       "_view_module_version": "~2.1.4"
      }
     },
     "28cc42769e7e49e4b3ba3aa069c76c2d": {
      "model_module": "jupyter-js-widgets",
      "model_module_version": "~2.1.4",
      "model_name": "DropdownModel",
      "state": {
       "_model_module_version": "~2.1.4",
       "_options_labels": [
        "343",
        "352",
        "433",
        "442",
        "451",
        "532",
        "541"
       ],
       "_view_module_version": "~2.1.4",
       "description": "formation_type",
       "layout": "IPY_MODEL_84446213c9b54092b7c3f947894d0fb5",
       "value": "343"
      }
     },
     "2b6f760b4e204077aae5c3f3f121ef47": {
      "model_module": "jupyter-js-widgets",
      "model_module_version": "~2.1.4",
      "model_name": "DropdownModel",
      "state": {
       "_model_module_version": "~2.1.4",
       "_options_labels": [
        "0",
        "1",
        "2",
        "3",
        "4",
        "5",
        "6"
       ],
       "_view_module_version": "~2.1.4",
       "description": "round_number",
       "layout": "IPY_MODEL_817aba6acb62468b80e327fe582fd912",
       "value": "0"
      }
     },
     "2c1a80765adc41dba4fbeff8964e56d1": {
      "model_module": "jupyter-js-widgets",
      "model_module_version": "~2.1.4",
      "model_name": "OutputModel",
      "state": {
       "_dom_classes": [],
       "_model_module": "jupyter-js-widgets",
       "_model_module_version": "~2.1.4",
       "_view_module": "jupyter-js-widgets",
       "_view_module_version": "~2.1.4",
       "layout": "IPY_MODEL_eca72bdfa5354df0a42c5e554b8c52c1",
       "msg_throttle": 1
      }
     },
     "2c3060bfdb314075961b168360f63409": {
      "model_module": "jupyter-js-widgets",
      "model_module_version": "~2.1.4",
      "model_name": "OutputModel",
      "state": {
       "_dom_classes": [],
       "_model_module": "jupyter-js-widgets",
       "_model_module_version": "~2.1.4",
       "_view_module": "jupyter-js-widgets",
       "_view_module_version": "~2.1.4",
       "layout": "IPY_MODEL_86514a425def4bae9b9ee3356bfc5962",
       "msg_throttle": 1
      }
     },
     "2c9db450b4b74a149abbb41594c9ad29": {
      "model_module": "jupyter-js-widgets",
      "model_module_version": "~2.1.4",
      "model_name": "DropdownModel",
      "state": {
       "_model_module_version": "~2.1.4",
       "_options_labels": [
        "0",
        "1",
        "2",
        "3",
        "4",
        "5",
        "6"
       ],
       "_view_module_version": "~2.1.4",
       "description": "x",
       "layout": "IPY_MODEL_e6baa7b13afc4fb68727d57f48064ff4",
       "value": "1"
      }
     },
     "2daa3e92c4f046b9894e4d343d7ec5b4": {
      "model_module": "jupyter-js-widgets",
      "model_module_version": "~2.1.4",
      "model_name": "LayoutModel",
      "state": {
       "_model_module_version": "~2.1.4",
       "_view_module_version": "~2.1.4"
      }
     },
     "2ec376fca2f64e62a57aa1e8f5e458ee": {
      "model_module": "jupyter-js-widgets",
      "model_module_version": "~2.1.4",
      "model_name": "LayoutModel",
      "state": {
       "_model_module_version": "~2.1.4",
       "_view_module_version": "~2.1.4"
      }
     },
     "2f2c473d726f44e0b83e83e8b16cb059": {
      "model_module": "jupyter-js-widgets",
      "model_module_version": "~2.1.4",
      "model_name": "LayoutModel",
      "state": {
       "_model_module_version": "~2.1.4",
       "_view_module_version": "~2.1.4"
      }
     },
     "3018896c477a4b81af3ec3e37470efff": {
      "model_module": "jupyter-js-widgets",
      "model_module_version": "~2.1.4",
      "model_name": "SliderStyleModel",
      "state": {
       "_model_module_version": "~2.1.4",
       "_view_module_version": "~2.1.4"
      }
     },
     "3266a391a36945abaa1656933cf2c052": {
      "model_module": "jupyter-js-widgets",
      "model_module_version": "~2.1.4",
      "model_name": "VBoxModel",
      "state": {
       "_dom_classes": [
        "widget-interact"
       ],
       "_model_module_version": "~2.1.4",
       "_view_module_version": "~2.1.4",
       "children": [
        "IPY_MODEL_3e78d7322f8442c883f2a33667fd5e15",
        "IPY_MODEL_07aebbf67c244c53af2c7be1bd4c0015",
        "IPY_MODEL_9a66a8038bd1442fbbfff23ae6500ef6",
        "IPY_MODEL_aaabb293fbf84c8eb753b1a7b5e2b204"
       ],
       "layout": "IPY_MODEL_3b2e09113e5a47b9bb4356f2acbf4bc0"
      }
     },
     "334001b4d6bf48b8984321ab61fd1225": {
      "model_module": "jupyter-js-widgets",
      "model_module_version": "~2.1.4",
      "model_name": "LayoutModel",
      "state": {
       "_model_module_version": "~2.1.4",
       "_view_module_version": "~2.1.4"
      }
     },
     "33a4a09af8164e0a953a48be1eb6d163": {
      "model_module": "jupyter-js-widgets",
      "model_module_version": "~2.1.4",
      "model_name": "IntSliderModel",
      "state": {
       "_model_module_version": "~2.1.4",
       "_view_module_version": "~2.1.4",
       "description": "sample_size",
       "layout": "IPY_MODEL_3e0d8a4171b4456b80acf8497567002a",
       "max": 300,
       "min": -100,
       "style": "IPY_MODEL_8fa93b83db1646e3a9b7f248ccc44766",
       "value": 108
      }
     },
     "348f1046766b42149e5409ab79bfc000": {
      "model_module": "jupyter-js-widgets",
      "model_module_version": "~2.1.4",
      "model_name": "LayoutModel",
      "state": {
       "_model_module_version": "~2.1.4",
       "_view_module_version": "~2.1.4"
      }
     },
     "3528e33f732f495089ee7085c74e1ad0": {
      "model_module": "jupyter-js-widgets",
      "model_module_version": "~2.1.4",
      "model_name": "DropdownModel",
      "state": {
       "_model_module_version": "~2.1.4",
       "_options_labels": [
        "0",
        "1",
        "2",
        "3",
        "4",
        "5",
        "6"
       ],
       "_view_module_version": "~2.1.4",
       "description": "x",
       "layout": "IPY_MODEL_1e7d53b573d84f7cb6d09dc22504e434",
       "value": "0"
      }
     },
     "359fcd52d38a4d7099bf38e9f6ae73dc": {
      "model_module": "jupyter-js-widgets",
      "model_module_version": "~2.1.4",
      "model_name": "LayoutModel",
      "state": {
       "_model_module_version": "~2.1.4",
       "_view_module_version": "~2.1.4"
      }
     },
     "3700d496a21741bda0a1f03828c0781d": {
      "model_module": "jupyter-js-widgets",
      "model_module_version": "~2.1.4",
      "model_name": "LayoutModel",
      "state": {
       "_model_module_version": "~2.1.4",
       "_view_module_version": "~2.1.4"
      }
     },
     "377586a81d7a4a908caa8e447ef65979": {
      "model_module": "jupyter-js-widgets",
      "model_module_version": "~2.1.4",
      "model_name": "DropdownModel",
      "state": {
       "_model_module_version": "~2.1.4",
       "_options_labels": [
        "343",
        "352",
        "433",
        "442",
        "451",
        "532",
        "541"
       ],
       "_view_module_version": "~2.1.4",
       "description": "formation_type",
       "layout": "IPY_MODEL_fd853d8797a24cf1beda2733fe03026e",
       "value": "352"
      }
     },
     "3b2e09113e5a47b9bb4356f2acbf4bc0": {
      "model_module": "jupyter-js-widgets",
      "model_module_version": "~2.1.4",
      "model_name": "LayoutModel",
      "state": {
       "_model_module_version": "~2.1.4",
       "_view_module_version": "~2.1.4"
      }
     },
     "3d67030ad5bb44fe9f352c4e61a2cf64": {
      "model_module": "jupyter-js-widgets",
      "model_module_version": "~2.1.4",
      "model_name": "VBoxModel",
      "state": {
       "_dom_classes": [
        "widget-interact"
       ],
       "_model_module_version": "~2.1.4",
       "_view_module_version": "~2.1.4",
       "children": [
        "IPY_MODEL_9d876993c9944e37bf8e16fbd7755e80",
        "IPY_MODEL_c994ad42aac344d48f7d31b86158600f",
        "IPY_MODEL_a5ec8fd889874a6e90f2bae977491533",
        "IPY_MODEL_f44b6419e55245bd9a041dc276f64430"
       ],
       "layout": "IPY_MODEL_48d26d35771747a7afe9bee3f93d3622"
      }
     },
     "3e0d8a4171b4456b80acf8497567002a": {
      "model_module": "jupyter-js-widgets",
      "model_module_version": "~2.1.4",
      "model_name": "LayoutModel",
      "state": {
       "_model_module_version": "~2.1.4",
       "_view_module_version": "~2.1.4"
      }
     },
     "3e3a8ce49eeb4c32bacc4ac85f2751b6": {
      "model_module": "jupyter-js-widgets",
      "model_module_version": "~2.1.4",
      "model_name": "OutputModel",
      "state": {
       "_dom_classes": [],
       "_model_module": "jupyter-js-widgets",
       "_model_module_version": "~2.1.4",
       "_view_module": "jupyter-js-widgets",
       "_view_module_version": "~2.1.4",
       "layout": "IPY_MODEL_9f1d7597f6084322bc3d70e080480e77",
       "msg_throttle": 1
      }
     },
     "3e47a97c8922458ea96d6f1731f9483a": {
      "model_module": "jupyter-js-widgets",
      "model_module_version": "~2.1.4",
      "model_name": "LayoutModel",
      "state": {
       "_model_module_version": "~2.1.4",
       "_view_module_version": "~2.1.4"
      }
     },
     "3e78d7322f8442c883f2a33667fd5e15": {
      "model_module": "jupyter-js-widgets",
      "model_module_version": "~2.1.4",
      "model_name": "DropdownModel",
      "state": {
       "_model_module_version": "~2.1.4",
       "_options_labels": [
        "0",
        "1",
        "2",
        "3",
        "4",
        "5",
        "6"
       ],
       "_view_module_version": "~2.1.4",
       "description": "round_number",
       "layout": "IPY_MODEL_99b8868931a64f438073fd46dd636172",
       "value": "1"
      }
     },
     "3fb5d3f95e6746e4a044f803cb1ab677": {
      "model_module": "jupyter-js-widgets",
      "model_module_version": "~2.1.4",
      "model_name": "LayoutModel",
      "state": {
       "_model_module_version": "~2.1.4",
       "_view_module_version": "~2.1.4"
      }
     },
     "400417e5733e421e8ca8f8d199509b6f": {
      "model_module": "jupyter-js-widgets",
      "model_module_version": "~2.1.4",
      "model_name": "VBoxModel",
      "state": {
       "_dom_classes": [
        "widget-interact"
       ],
       "_model_module_version": "~2.1.4",
       "_view_module_version": "~2.1.4",
       "children": [
        "IPY_MODEL_2b6f760b4e204077aae5c3f3f121ef47",
        "IPY_MODEL_823a220444804906a63d04d36bfea9c3",
        "IPY_MODEL_9509f3cbdeb34598b2e33b58259a2228",
        "IPY_MODEL_9f6efe4ac2d8402d909fb3a131565004"
       ],
       "layout": "IPY_MODEL_5e27cb8059534117b6a43e0f9d802f2b"
      }
     },
     "4108630a1289451cab8426cafd5d6419": {
      "model_module": "jupyter-js-widgets",
      "model_module_version": "~2.1.4",
      "model_name": "LayoutModel",
      "state": {
       "_model_module_version": "~2.1.4",
       "_view_module_version": "~2.1.4"
      }
     },
     "4236ab238f7d4915ba859996ac2a70a1": {
      "model_module": "jupyter-js-widgets",
      "model_module_version": "~2.1.4",
      "model_name": "DropdownModel",
      "state": {
       "_model_module_version": "~2.1.4",
       "_options_labels": [
        "0",
        "1",
        "2",
        "3",
        "4",
        "5",
        "6"
       ],
       "_view_module_version": "~2.1.4",
       "description": "x",
       "layout": "IPY_MODEL_1b0415b004f246e8a9aabc04a5dba89d",
       "value": "2"
      }
     },
     "428bc31cb49c4823b36d83ea30b39a9c": {
      "model_module": "jupyter-js-widgets",
      "model_module_version": "~2.1.4",
      "model_name": "VBoxModel",
      "state": {
       "_dom_classes": [
        "widget-interact"
       ],
       "_model_module_version": "~2.1.4",
       "_view_module_version": "~2.1.4",
       "children": [
        "IPY_MODEL_3528e33f732f495089ee7085c74e1ad0",
        "IPY_MODEL_8d391f6941ad4a8ba7102761e86830e3"
       ],
       "layout": "IPY_MODEL_2f2c473d726f44e0b83e83e8b16cb059"
      }
     },
     "43365a46bdaa4e68b768f8662e66664d": {
      "model_module": "jupyter-js-widgets",
      "model_module_version": "~2.1.4",
      "model_name": "IntSliderModel",
      "state": {
       "_model_module_version": "~2.1.4",
       "_view_module_version": "~2.1.4",
       "description": "sample_size",
       "layout": "IPY_MODEL_4108630a1289451cab8426cafd5d6419",
       "max": 300,
       "min": -100,
       "style": "IPY_MODEL_23826e2e731547368163cdf1a91b9a74",
       "value": 100
      }
     },
     "433f85d9f9ab4642a732504d49b13928": {
      "model_module": "jupyter-js-widgets",
      "model_module_version": "~2.1.4",
      "model_name": "VBoxModel",
      "state": {
       "_dom_classes": [
        "widget-interact"
       ],
       "_model_module_version": "~2.1.4",
       "_view_module_version": "~2.1.4",
       "children": [
        "IPY_MODEL_468766b1173c4f4f915771f1c6c52a51",
        "IPY_MODEL_d5a81b40f7954652bb4b60eab4310e0e"
       ],
       "layout": "IPY_MODEL_b2e7addd70eb412688dea09f76e9f5c4"
      }
     },
     "44ac3d110e274a66a1b1de5bf6a16fc9": {
      "model_module": "jupyter-js-widgets",
      "model_module_version": "~2.1.4",
      "model_name": "DropdownModel",
      "state": {
       "_model_module_version": "~2.1.4",
       "_options_labels": [
        "0",
        "1",
        "2",
        "3",
        "4",
        "5",
        "6"
       ],
       "_view_module_version": "~2.1.4",
       "description": "x",
       "layout": "IPY_MODEL_8fa877e0f4d744c486d1439f04ec2bca",
       "value": "0"
      }
     },
     "468766b1173c4f4f915771f1c6c52a51": {
      "model_module": "jupyter-js-widgets",
      "model_module_version": "~2.1.4",
      "model_name": "DropdownModel",
      "state": {
       "_model_module_version": "~2.1.4",
       "_options_labels": [
        "0",
        "1",
        "2",
        "3",
        "4",
        "5",
        "6"
       ],
       "_view_module_version": "~2.1.4",
       "description": "x",
       "layout": "IPY_MODEL_e4570db520cd4f409d5a410c043d1876",
       "value": "0"
      }
     },
     "47ae6f2ac1464c01b5291b8590065256": {
      "model_module": "jupyter-js-widgets",
      "model_module_version": "~2.1.4",
      "model_name": "LayoutModel",
      "state": {
       "_model_module_version": "~2.1.4",
       "_view_module_version": "~2.1.4"
      }
     },
     "48d26d35771747a7afe9bee3f93d3622": {
      "model_module": "jupyter-js-widgets",
      "model_module_version": "~2.1.4",
      "model_name": "LayoutModel",
      "state": {
       "_model_module_version": "~2.1.4",
       "_view_module_version": "~2.1.4"
      }
     },
     "497d95b731724fb4a753b742ba219cd9": {
      "model_module": "jupyter-js-widgets",
      "model_module_version": "~2.1.4",
      "model_name": "LayoutModel",
      "state": {
       "_model_module_version": "~2.1.4",
       "_view_module_version": "~2.1.4"
      }
     },
     "4a034795d6d44dc18163aae2d4d5cc95": {
      "model_module": "jupyter-js-widgets",
      "model_module_version": "~2.1.4",
      "model_name": "DropdownModel",
      "state": {
       "_model_module_version": "~2.1.4",
       "_options_labels": [
        "0",
        "1",
        "2",
        "3",
        "4",
        "5",
        "6"
       ],
       "_view_module_version": "~2.1.4",
       "description": "x",
       "layout": "IPY_MODEL_47ae6f2ac1464c01b5291b8590065256",
       "value": "2"
      }
     },
     "4be642a8bd124694b15fb759148e7944": {
      "model_module": "jupyter-js-widgets",
      "model_module_version": "~2.1.4",
      "model_name": "OutputModel",
      "state": {
       "_dom_classes": [],
       "_model_module": "jupyter-js-widgets",
       "_model_module_version": "~2.1.4",
       "_view_module": "jupyter-js-widgets",
       "_view_module_version": "~2.1.4",
       "layout": "IPY_MODEL_4fb4f2b69bf549129a6c37676aba7249",
       "msg_throttle": 1
      }
     },
     "4cf7ef143e3d4d12aa9c556477292dfa": {
      "model_module": "jupyter-js-widgets",
      "model_module_version": "~2.1.4",
      "model_name": "IntSliderModel",
      "state": {
       "_model_module_version": "~2.1.4",
       "_view_module_version": "~2.1.4",
       "description": "sample_size",
       "layout": "IPY_MODEL_5c7c1800414b4957b02db5c2eb49f88f",
       "max": 300,
       "min": -100,
       "style": "IPY_MODEL_9f731d82d08a48dabf28a8a986ec4b9a",
       "value": 100
      }
     },
     "4d7ac3dee9b54429a571a6f36810f57b": {
      "model_module": "jupyter-js-widgets",
      "model_module_version": "~2.1.4",
      "model_name": "LayoutModel",
      "state": {
       "_model_module_version": "~2.1.4",
       "_view_module_version": "~2.1.4"
      }
     },
     "4f13588d5fbe420ca263c0c13344bdf3": {
      "model_module": "jupyter-js-widgets",
      "model_module_version": "~2.1.4",
      "model_name": "DropdownModel",
      "state": {
       "_model_module_version": "~2.1.4",
       "_options_labels": [
        "0",
        "1",
        "2",
        "3",
        "4",
        "5",
        "6"
       ],
       "_view_module_version": "~2.1.4",
       "description": "round_number",
       "layout": "IPY_MODEL_8fb1d3624b514923b7747962ef9bae1e",
       "value": "1"
      }
     },
     "4fb4f2b69bf549129a6c37676aba7249": {
      "model_module": "jupyter-js-widgets",
      "model_module_version": "~2.1.4",
      "model_name": "LayoutModel",
      "state": {
       "_model_module_version": "~2.1.4",
       "_view_module_version": "~2.1.4"
      }
     },
     "513eedcd5c2c40a1a92953b818ce214a": {
      "model_module": "jupyter-js-widgets",
      "model_module_version": "~2.1.4",
      "model_name": "LayoutModel",
      "state": {
       "_model_module_version": "~2.1.4",
       "_view_module_version": "~2.1.4"
      }
     },
     "5334574faa0243f2894bfaf52e82396e": {
      "model_module": "jupyter-js-widgets",
      "model_module_version": "~2.1.4",
      "model_name": "LayoutModel",
      "state": {
       "_model_module_version": "~2.1.4",
       "_view_module_version": "~2.1.4"
      }
     },
     "5733d7be3a2644bf83f1beb519f187f2": {
      "model_module": "jupyter-js-widgets",
      "model_module_version": "~2.1.4",
      "model_name": "VBoxModel",
      "state": {
       "_dom_classes": [
        "widget-interact"
       ],
       "_model_module_version": "~2.1.4",
       "_view_module_version": "~2.1.4",
       "children": [
        "IPY_MODEL_6ddf9ee0dea0456ba36b771af35cf49d",
        "IPY_MODEL_b2d4a7ae319e4b3f953dc93380e37be9",
        "IPY_MODEL_c05cdf58f65f46e0ae766924eb6e0586",
        "IPY_MODEL_67c3c535c1684139adb0701b3db7614f"
       ],
       "layout": "IPY_MODEL_513eedcd5c2c40a1a92953b818ce214a"
      }
     },
     "59e4fcab7195489fa982bab9511bf896": {
      "model_module": "jupyter-js-widgets",
      "model_module_version": "~2.1.4",
      "model_name": "LayoutModel",
      "state": {
       "_model_module_version": "~2.1.4",
       "_view_module_version": "~2.1.4"
      }
     },
     "5c7c1800414b4957b02db5c2eb49f88f": {
      "model_module": "jupyter-js-widgets",
      "model_module_version": "~2.1.4",
      "model_name": "LayoutModel",
      "state": {
       "_model_module_version": "~2.1.4",
       "_view_module_version": "~2.1.4"
      }
     },
     "5dce620733554a37accad8b302772bb3": {
      "model_module": "jupyter-js-widgets",
      "model_module_version": "~2.1.4",
      "model_name": "LayoutModel",
      "state": {
       "_model_module_version": "~2.1.4",
       "_view_module_version": "~2.1.4"
      }
     },
     "5e27cb8059534117b6a43e0f9d802f2b": {
      "model_module": "jupyter-js-widgets",
      "model_module_version": "~2.1.4",
      "model_name": "LayoutModel",
      "state": {
       "_model_module_version": "~2.1.4",
       "_view_module_version": "~2.1.4"
      }
     },
     "5ed676140eca4215bf2546a10ccb422e": {
      "model_module": "jupyter-js-widgets",
      "model_module_version": "~2.1.4",
      "model_name": "DropdownModel",
      "state": {
       "_model_module_version": "~2.1.4",
       "_options_labels": [
        "0",
        "1",
        "2",
        "3",
        "4",
        "5",
        "6"
       ],
       "_view_module_version": "~2.1.4",
       "description": "x",
       "layout": "IPY_MODEL_e987ec836af440248e8b34ac4fecb9ca",
       "value": "6"
      }
     },
     "5eec7e06e5b9409ea1d9f8698295459a": {
      "model_module": "jupyter-js-widgets",
      "model_module_version": "~2.1.4",
      "model_name": "LayoutModel",
      "state": {
       "_model_module_version": "~2.1.4",
       "_view_module_version": "~2.1.4"
      }
     },
     "5f98a92bdd0b4f1ebb008b910f12b4a6": {
      "model_module": "jupyter-js-widgets",
      "model_module_version": "~2.1.4",
      "model_name": "DropdownModel",
      "state": {
       "_model_module_version": "~2.1.4",
       "_options_labels": [
        "0",
        "1",
        "2",
        "3",
        "4",
        "5",
        "6"
       ],
       "_view_module_version": "~2.1.4",
       "description": "x",
       "layout": "IPY_MODEL_f0400137cfad4c2c970a4df18069a4a7",
       "value": "0"
      }
     },
     "641aae21726943fe89b2136d1b945102": {
      "model_module": "jupyter-js-widgets",
      "model_module_version": "~2.1.4",
      "model_name": "DropdownModel",
      "state": {
       "_model_module_version": "~2.1.4",
       "_options_labels": [
        "343",
        "352",
        "433",
        "442",
        "451",
        "532",
        "541"
       ],
       "_view_module_version": "~2.1.4",
       "description": "formation_type",
       "layout": "IPY_MODEL_9302c01ae3e84568a24efb269b4d784e",
       "value": "343"
      }
     },
     "65d79efa9f164a6e947f33b168c16adc": {
      "model_module": "jupyter-js-widgets",
      "model_module_version": "~2.1.4",
      "model_name": "LayoutModel",
      "state": {
       "_model_module_version": "~2.1.4",
       "_view_module_version": "~2.1.4"
      }
     },
     "67c3c535c1684139adb0701b3db7614f": {
      "model_module": "jupyter-js-widgets",
      "model_module_version": "~2.1.4",
      "model_name": "OutputModel",
      "state": {
       "_dom_classes": [],
       "_model_module": "jupyter-js-widgets",
       "_model_module_version": "~2.1.4",
       "_view_module": "jupyter-js-widgets",
       "_view_module_version": "~2.1.4",
       "layout": "IPY_MODEL_e81754095e954081a11cebd4be42582a",
       "msg_throttle": 1
      }
     },
     "6850dd5365104de0a9272263581f625c": {
      "model_module": "jupyter-js-widgets",
      "model_module_version": "~2.1.4",
      "model_name": "OutputModel",
      "state": {
       "_dom_classes": [],
       "_model_module": "jupyter-js-widgets",
       "_model_module_version": "~2.1.4",
       "_view_module": "jupyter-js-widgets",
       "_view_module_version": "~2.1.4",
       "layout": "IPY_MODEL_c5d3496309734227b3796fcf7e51a9da",
       "msg_throttle": 1
      }
     },
     "686b775d58834bbe850042cd5356fe1d": {
      "model_module": "jupyter-js-widgets",
      "model_module_version": "~2.1.4",
      "model_name": "LayoutModel",
      "state": {
       "_model_module_version": "~2.1.4",
       "_view_module_version": "~2.1.4"
      }
     },
     "6aff163d5c1d4b178576f3dc404df768": {
      "model_module": "jupyter-js-widgets",
      "model_module_version": "~2.1.4",
      "model_name": "OutputModel",
      "state": {
       "_dom_classes": [],
       "_model_module": "jupyter-js-widgets",
       "_model_module_version": "~2.1.4",
       "_view_module": "jupyter-js-widgets",
       "_view_module_version": "~2.1.4",
       "layout": "IPY_MODEL_dacbca1aa97b46f2b98c71db7cad477f",
       "msg_throttle": 1
      }
     },
     "6b1329a55ca043909f05054f6eb2c10b": {
      "model_module": "jupyter-js-widgets",
      "model_module_version": "~2.1.4",
      "model_name": "SliderStyleModel",
      "state": {
       "_model_module_version": "~2.1.4",
       "_view_module_version": "~2.1.4"
      }
     },
     "6b59360a778a4028bc3e4696eba8b4a4": {
      "model_module": "jupyter-js-widgets",
      "model_module_version": "~2.1.4",
      "model_name": "VBoxModel",
      "state": {
       "_dom_classes": [
        "widget-interact"
       ],
       "_model_module_version": "~2.1.4",
       "_view_module_version": "~2.1.4",
       "children": [
        "IPY_MODEL_5ed676140eca4215bf2546a10ccb422e",
        "IPY_MODEL_2c1a80765adc41dba4fbeff8964e56d1"
       ],
       "layout": "IPY_MODEL_6bb807bbfd6e4f8a965dc090a9873d15"
      }
     },
     "6b753a2d30bd41c8a8103826564ee066": {
      "model_module": "jupyter-js-widgets",
      "model_module_version": "~2.1.4",
      "model_name": "LayoutModel",
      "state": {
       "_model_module_version": "~2.1.4",
       "_view_module_version": "~2.1.4"
      }
     },
     "6b8621a7942e43b99606ab1f00d01031": {
      "model_module": "jupyter-js-widgets",
      "model_module_version": "~2.1.4",
      "model_name": "LayoutModel",
      "state": {
       "_model_module_version": "~2.1.4",
       "_view_module_version": "~2.1.4"
      }
     },
     "6bb807bbfd6e4f8a965dc090a9873d15": {
      "model_module": "jupyter-js-widgets",
      "model_module_version": "~2.1.4",
      "model_name": "LayoutModel",
      "state": {
       "_model_module_version": "~2.1.4",
       "_view_module_version": "~2.1.4"
      }
     },
     "6ddf9ee0dea0456ba36b771af35cf49d": {
      "model_module": "jupyter-js-widgets",
      "model_module_version": "~2.1.4",
      "model_name": "DropdownModel",
      "state": {
       "_model_module_version": "~2.1.4",
       "_options_labels": [
        "0",
        "1",
        "2",
        "3",
        "4",
        "5",
        "6"
       ],
       "_view_module_version": "~2.1.4",
       "description": "round_number",
       "layout": "IPY_MODEL_e8fc7e2c078d46459c746ce1a4f10d02",
       "value": "1"
      }
     },
     "6ea10f37b73445e0b98c1a2a46b26d11": {
      "model_module": "jupyter-js-widgets",
      "model_module_version": "~2.1.4",
      "model_name": "LayoutModel",
      "state": {
       "_model_module_version": "~2.1.4",
       "_view_module_version": "~2.1.4"
      }
     },
     "6f6d344b98d7473aab5255ae6609086c": {
      "model_module": "jupyter-js-widgets",
      "model_module_version": "~2.1.4",
      "model_name": "VBoxModel",
      "state": {
       "_dom_classes": [
        "widget-interact"
       ],
       "_model_module_version": "~2.1.4",
       "_view_module_version": "~2.1.4",
       "children": [
        "IPY_MODEL_4a034795d6d44dc18163aae2d4d5cc95",
        "IPY_MODEL_c263ef206f4f47e88f88570c35135217"
       ],
       "layout": "IPY_MODEL_359fcd52d38a4d7099bf38e9f6ae73dc"
      }
     },
     "702e0e9ed3c94d948b815185abe4fb2f": {
      "model_module": "jupyter-js-widgets",
      "model_module_version": "~2.1.4",
      "model_name": "LayoutModel",
      "state": {
       "_model_module_version": "~2.1.4",
       "_view_module_version": "~2.1.4"
      }
     },
     "7447307ed998410698597cc351612aba": {
      "model_module": "jupyter-js-widgets",
      "model_module_version": "~2.1.4",
      "model_name": "OutputModel",
      "state": {
       "_dom_classes": [],
       "_model_module": "jupyter-js-widgets",
       "_model_module_version": "~2.1.4",
       "_view_module": "jupyter-js-widgets",
       "_view_module_version": "~2.1.4",
       "layout": "IPY_MODEL_6b8621a7942e43b99606ab1f00d01031",
       "msg_throttle": 1
      }
     },
     "7505ef2f64ac427e9808aa75d1866448": {
      "model_module": "jupyter-js-widgets",
      "model_module_version": "~2.1.4",
      "model_name": "LayoutModel",
      "state": {
       "_model_module_version": "~2.1.4",
       "_view_module_version": "~2.1.4"
      }
     },
     "756b9806652142c7b98e5d7635766b1e": {
      "model_module": "jupyter-js-widgets",
      "model_module_version": "~2.1.4",
      "model_name": "LayoutModel",
      "state": {
       "_model_module_version": "~2.1.4",
       "_view_module_version": "~2.1.4"
      }
     },
     "76954ccea7c6424eae20e3810e91137f": {
      "model_module": "jupyter-js-widgets",
      "model_module_version": "~2.1.4",
      "model_name": "VBoxModel",
      "state": {
       "_dom_classes": [
        "widget-interact"
       ],
       "_model_module_version": "~2.1.4",
       "_view_module_version": "~2.1.4",
       "children": [
        "IPY_MODEL_83d26b1b61be4e77aebd5c19831f5c06",
        "IPY_MODEL_aff1462f8f1f4e259117baf3a1935cf2"
       ],
       "layout": "IPY_MODEL_05a3aa856c0a42778030e57dd7fb24a5"
      }
     },
     "7ab9df8a256a461d8a033acd40ff5d5f": {
      "model_module": "jupyter-js-widgets",
      "model_module_version": "~2.1.4",
      "model_name": "SliderStyleModel",
      "state": {
       "_model_module_version": "~2.1.4",
       "_view_module_version": "~2.1.4"
      }
     },
     "7b49d602dd3b4db2be829179b6b735c1": {
      "model_module": "jupyter-js-widgets",
      "model_module_version": "~2.1.4",
      "model_name": "LayoutModel",
      "state": {
       "_model_module_version": "~2.1.4",
       "_view_module_version": "~2.1.4"
      }
     },
     "7c42ebff59904c5b9cf27b9d6fcca5a4": {
      "model_module": "jupyter-js-widgets",
      "model_module_version": "~2.1.4",
      "model_name": "DropdownModel",
      "state": {
       "_model_module_version": "~2.1.4",
       "_options_labels": [
        "343",
        "352",
        "433",
        "442",
        "451",
        "532",
        "541"
       ],
       "_view_module_version": "~2.1.4",
       "description": "formation_type",
       "layout": "IPY_MODEL_f426f7f6c68d428b818db041d6c32d4e",
       "value": "343"
      }
     },
     "7caf9d462db54aa9a181342710c9e05d": {
      "model_module": "jupyter-js-widgets",
      "model_module_version": "~2.1.4",
      "model_name": "LayoutModel",
      "state": {
       "_model_module_version": "~2.1.4",
       "_view_module_version": "~2.1.4"
      }
     },
     "7cb7590e01634245a89fbcf1b58c61dc": {
      "model_module": "jupyter-js-widgets",
      "model_module_version": "~2.1.4",
      "model_name": "LayoutModel",
      "state": {
       "_model_module_version": "~2.1.4",
       "_view_module_version": "~2.1.4"
      }
     },
     "7d9fdeab9f4e4575a64239e5c9f59151": {
      "model_module": "jupyter-js-widgets",
      "model_module_version": "~2.1.4",
      "model_name": "DropdownModel",
      "state": {
       "_model_module_version": "~2.1.4",
       "_options_labels": [
        "0",
        "1",
        "2",
        "3",
        "4",
        "5",
        "6"
       ],
       "_view_module_version": "~2.1.4",
       "description": "round_number",
       "layout": "IPY_MODEL_ae71cb14947a4242afe3811c27a5cafc",
       "value": "0"
      }
     },
     "7e831a9b6a014b43a5fae8bdea7f6e65": {
      "model_module": "jupyter-js-widgets",
      "model_module_version": "~2.1.4",
      "model_name": "LayoutModel",
      "state": {
       "_model_module_version": "~2.1.4",
       "_view_module_version": "~2.1.4"
      }
     },
     "7ee101c230b64e8286c29e67c2a3d094": {
      "model_module": "jupyter-js-widgets",
      "model_module_version": "~2.1.4",
      "model_name": "LayoutModel",
      "state": {
       "_model_module_version": "~2.1.4",
       "_view_module_version": "~2.1.4"
      }
     },
     "817aba6acb62468b80e327fe582fd912": {
      "model_module": "jupyter-js-widgets",
      "model_module_version": "~2.1.4",
      "model_name": "LayoutModel",
      "state": {
       "_model_module_version": "~2.1.4",
       "_view_module_version": "~2.1.4"
      }
     },
     "82076a58c09745c7bddd89f4675155bb": {
      "model_module": "jupyter-js-widgets",
      "model_module_version": "~2.1.4",
      "model_name": "DropdownModel",
      "state": {
       "_model_module_version": "~2.1.4",
       "_options_labels": [
        "0",
        "1",
        "2",
        "3",
        "4",
        "5",
        "6"
       ],
       "_view_module_version": "~2.1.4",
       "description": "f",
       "layout": "IPY_MODEL_a35147e4bc284bd481aa16a721e81715",
       "value": "1"
      }
     },
     "823a220444804906a63d04d36bfea9c3": {
      "model_module": "jupyter-js-widgets",
      "model_module_version": "~2.1.4",
      "model_name": "DropdownModel",
      "state": {
       "_model_module_version": "~2.1.4",
       "_options_labels": [
        "343",
        "352",
        "433",
        "442",
        "451",
        "532",
        "541"
       ],
       "_view_module_version": "~2.1.4",
       "description": "formation",
       "layout": "IPY_MODEL_02d77a3c93004994ad4a9553e0c7ee67",
       "value": "343"
      }
     },
     "83d26b1b61be4e77aebd5c19831f5c06": {
      "model_module": "jupyter-js-widgets",
      "model_module_version": "~2.1.4",
      "model_name": "DropdownModel",
      "state": {
       "_model_module_version": "~2.1.4",
       "_options_labels": [
        "0",
        "1",
        "2",
        "3",
        "4",
        "5",
        "6"
       ],
       "_view_module_version": "~2.1.4",
       "description": "x",
       "layout": "IPY_MODEL_0cf2f924d57c452da8ec645a1590f608",
       "value": "3"
      }
     },
     "84446213c9b54092b7c3f947894d0fb5": {
      "model_module": "jupyter-js-widgets",
      "model_module_version": "~2.1.4",
      "model_name": "LayoutModel",
      "state": {
       "_model_module_version": "~2.1.4",
       "_view_module_version": "~2.1.4"
      }
     },
     "86514a425def4bae9b9ee3356bfc5962": {
      "model_module": "jupyter-js-widgets",
      "model_module_version": "~2.1.4",
      "model_name": "LayoutModel",
      "state": {
       "_model_module_version": "~2.1.4",
       "_view_module_version": "~2.1.4"
      }
     },
     "873ea6584439477c949284f3d82e2d2b": {
      "model_module": "jupyter-js-widgets",
      "model_module_version": "~2.1.4",
      "model_name": "LayoutModel",
      "state": {
       "_model_module_version": "~2.1.4",
       "_view_module_version": "~2.1.4"
      }
     },
     "88b17c782bf34b049c7afb927be5ad44": {
      "model_module": "jupyter-js-widgets",
      "model_module_version": "~2.1.4",
      "model_name": "LayoutModel",
      "state": {
       "_model_module_version": "~2.1.4",
       "_view_module_version": "~2.1.4"
      }
     },
     "890704bc5ea4489bac4263006d2133b2": {
      "model_module": "jupyter-js-widgets",
      "model_module_version": "~2.1.4",
      "model_name": "DropdownModel",
      "state": {
       "_model_module_version": "~2.1.4",
       "_options_labels": [
        "0",
        "1",
        "2",
        "3",
        "4",
        "5",
        "6"
       ],
       "_view_module_version": "~2.1.4",
       "description": "x",
       "layout": "IPY_MODEL_b9a0fddd9ba941268c44f71393739186",
       "value": "0"
      }
     },
     "89149eaadafa43879fa422db87635e53": {
      "model_module": "jupyter-js-widgets",
      "model_module_version": "~2.1.4",
      "model_name": "LayoutModel",
      "state": {
       "_model_module_version": "~2.1.4",
       "_view_module_version": "~2.1.4"
      }
     },
     "8920707fab9e48158b301933f68073a0": {
      "model_module": "jupyter-js-widgets",
      "model_module_version": "~2.1.4",
      "model_name": "OutputModel",
      "state": {
       "_dom_classes": [],
       "_model_module": "jupyter-js-widgets",
       "_model_module_version": "~2.1.4",
       "_view_module": "jupyter-js-widgets",
       "_view_module_version": "~2.1.4",
       "layout": "IPY_MODEL_d9916df4429747b798b8b1c615e7277e",
       "msg_throttle": 1
      }
     },
     "8c1b705c87594741a7edb23519063a03": {
      "model_module": "jupyter-js-widgets",
      "model_module_version": "~2.1.4",
      "model_name": "LayoutModel",
      "state": {
       "_model_module_version": "~2.1.4",
       "_view_module_version": "~2.1.4"
      }
     },
     "8d391f6941ad4a8ba7102761e86830e3": {
      "model_module": "jupyter-js-widgets",
      "model_module_version": "~2.1.4",
      "model_name": "OutputModel",
      "state": {
       "_dom_classes": [],
       "_model_module": "jupyter-js-widgets",
       "_model_module_version": "~2.1.4",
       "_view_module": "jupyter-js-widgets",
       "_view_module_version": "~2.1.4",
       "layout": "IPY_MODEL_fc906d4be86f4cad87f30defab72ed50",
       "msg_throttle": 1
      }
     },
     "8e5e3832ab224e58950b77621e0d56fc": {
      "model_module": "jupyter-js-widgets",
      "model_module_version": "~2.1.4",
      "model_name": "OutputModel",
      "state": {
       "_dom_classes": [],
       "_model_module": "jupyter-js-widgets",
       "_model_module_version": "~2.1.4",
       "_view_module": "jupyter-js-widgets",
       "_view_module_version": "~2.1.4",
       "layout": "IPY_MODEL_f97343df5a764386a0feced63638f4be",
       "msg_throttle": 1
      }
     },
     "8fa877e0f4d744c486d1439f04ec2bca": {
      "model_module": "jupyter-js-widgets",
      "model_module_version": "~2.1.4",
      "model_name": "LayoutModel",
      "state": {
       "_model_module_version": "~2.1.4",
       "_view_module_version": "~2.1.4"
      }
     },
     "8fa93b83db1646e3a9b7f248ccc44766": {
      "model_module": "jupyter-js-widgets",
      "model_module_version": "~2.1.4",
      "model_name": "SliderStyleModel",
      "state": {
       "_model_module_version": "~2.1.4",
       "_view_module_version": "~2.1.4"
      }
     },
     "8fb1d3624b514923b7747962ef9bae1e": {
      "model_module": "jupyter-js-widgets",
      "model_module_version": "~2.1.4",
      "model_name": "LayoutModel",
      "state": {
       "_model_module_version": "~2.1.4",
       "_view_module_version": "~2.1.4"
      }
     },
     "9302c01ae3e84568a24efb269b4d784e": {
      "model_module": "jupyter-js-widgets",
      "model_module_version": "~2.1.4",
      "model_name": "LayoutModel",
      "state": {
       "_model_module_version": "~2.1.4",
       "_view_module_version": "~2.1.4"
      }
     },
     "932e7aefbb3f496182da034cde159379": {
      "model_module": "jupyter-js-widgets",
      "model_module_version": "~2.1.4",
      "model_name": "DropdownModel",
      "state": {
       "_model_module_version": "~2.1.4",
       "_options_labels": [
        "0",
        "1",
        "2",
        "3",
        "4",
        "5",
        "6"
       ],
       "_view_module_version": "~2.1.4",
       "description": "round_number",
       "layout": "IPY_MODEL_65d79efa9f164a6e947f33b168c16adc",
       "value": "0"
      }
     },
     "940fba629ab948cd9f99a462f8a06fe5": {
      "model_module": "jupyter-js-widgets",
      "model_module_version": "~2.1.4",
      "model_name": "DropdownModel",
      "state": {
       "_model_module_version": "~2.1.4",
       "_options_labels": [
        "0",
        "1",
        "2",
        "3",
        "4",
        "5",
        "6"
       ],
       "_view_module_version": "~2.1.4",
       "description": "x",
       "layout": "IPY_MODEL_a3e86c9bc8c4449e995bc73136cc7464",
       "value": "0"
      }
     },
     "9474abbf522842b299412596863faf08": {
      "model_module": "jupyter-js-widgets",
      "model_module_version": "~2.1.4",
      "model_name": "LayoutModel",
      "state": {
       "_model_module_version": "~2.1.4",
       "_view_module_version": "~2.1.4"
      }
     },
     "94ce227da1334fc480a32d6e71a47a1e": {
      "model_module": "jupyter-js-widgets",
      "model_module_version": "~2.1.4",
      "model_name": "OutputModel",
      "state": {
       "_dom_classes": [],
       "_model_module": "jupyter-js-widgets",
       "_model_module_version": "~2.1.4",
       "_view_module": "jupyter-js-widgets",
       "_view_module_version": "~2.1.4",
       "layout": "IPY_MODEL_aab3381be4a741db938bf933e1b1653b",
       "msg_throttle": 1
      }
     },
     "9509f3cbdeb34598b2e33b58259a2228": {
      "model_module": "jupyter-js-widgets",
      "model_module_version": "~2.1.4",
      "model_name": "IntSliderModel",
      "state": {
       "_model_module_version": "~2.1.4",
       "_view_module_version": "~2.1.4",
       "description": "sample_size",
       "layout": "IPY_MODEL_89149eaadafa43879fa422db87635e53",
       "max": 300,
       "min": -100,
       "style": "IPY_MODEL_7ab9df8a256a461d8a033acd40ff5d5f",
       "value": 100
      }
     },
     "96e78df8c4ea4435a861507c4a8786d1": {
      "model_module": "jupyter-js-widgets",
      "model_module_version": "~2.1.4",
      "model_name": "DropdownModel",
      "state": {
       "_model_module_version": "~2.1.4",
       "_options_labels": [
        "0",
        "1",
        "2",
        "3",
        "4",
        "5",
        "6",
        "7",
        "8",
        "9",
        "10",
        "11"
       ],
       "_view_module_version": "~2.1.4",
       "description": "number_of_days",
       "layout": "IPY_MODEL_9474abbf522842b299412596863faf08",
       "value": "0"
      }
     },
     "97076b35aa7a40aaaf428ad83c740fee": {
      "model_module": "jupyter-js-widgets",
      "model_module_version": "~2.1.4",
      "model_name": "LayoutModel",
      "state": {
       "_model_module_version": "~2.1.4",
       "_view_module_version": "~2.1.4"
      }
     },
     "9729fc70b7e84db298db9b3fb4dbd3ea": {
      "model_module": "jupyter-js-widgets",
      "model_module_version": "~2.1.4",
      "model_name": "LayoutModel",
      "state": {
       "_model_module_version": "~2.1.4",
       "_view_module_version": "~2.1.4"
      }
     },
     "97e94e684c3b4e7182af7afcf3b2ed11": {
      "model_module": "jupyter-js-widgets",
      "model_module_version": "~2.1.4",
      "model_name": "OutputModel",
      "state": {
       "_dom_classes": [],
       "_model_module": "jupyter-js-widgets",
       "_model_module_version": "~2.1.4",
       "_view_module": "jupyter-js-widgets",
       "_view_module_version": "~2.1.4",
       "layout": "IPY_MODEL_702e0e9ed3c94d948b815185abe4fb2f",
       "msg_throttle": 1
      }
     },
     "99b8868931a64f438073fd46dd636172": {
      "model_module": "jupyter-js-widgets",
      "model_module_version": "~2.1.4",
      "model_name": "LayoutModel",
      "state": {
       "_model_module_version": "~2.1.4",
       "_view_module_version": "~2.1.4"
      }
     },
     "99d42b7ad7f840199163036e0b86e30d": {
      "model_module": "jupyter-js-widgets",
      "model_module_version": "~2.1.4",
      "model_name": "LayoutModel",
      "state": {
       "_model_module_version": "~2.1.4",
       "_view_module_version": "~2.1.4"
      }
     },
     "9a66a8038bd1442fbbfff23ae6500ef6": {
      "model_module": "jupyter-js-widgets",
      "model_module_version": "~2.1.4",
      "model_name": "IntSliderModel",
      "state": {
       "_model_module_version": "~2.1.4",
       "_view_module_version": "~2.1.4",
       "description": "sample_size",
       "layout": "IPY_MODEL_5334574faa0243f2894bfaf52e82396e",
       "max": 300,
       "min": -100,
       "style": "IPY_MODEL_a0bee9de3cfb45d0bba6bcb61de77b88",
       "value": 100
      }
     },
     "9a97c9e89cb34c0380ce7299f525a55d": {
      "model_module": "jupyter-js-widgets",
      "model_module_version": "~2.1.4",
      "model_name": "VBoxModel",
      "state": {
       "_dom_classes": [
        "widget-interact"
       ],
       "_model_module_version": "~2.1.4",
       "_view_module_version": "~2.1.4",
       "children": [
        "IPY_MODEL_4f13588d5fbe420ca263c0c13344bdf3",
        "IPY_MODEL_377586a81d7a4a908caa8e447ef65979",
        "IPY_MODEL_33a4a09af8164e0a953a48be1eb6d163",
        "IPY_MODEL_1e62a5d4d0ce43488bfdb14a3522f04d"
       ],
       "layout": "IPY_MODEL_756b9806652142c7b98e5d7635766b1e"
      }
     },
     "9c1a575fc33d4d568e09c856da949c2b": {
      "model_module": "jupyter-js-widgets",
      "model_module_version": "~2.1.4",
      "model_name": "VBoxModel",
      "state": {
       "_dom_classes": [
        "widget-interact"
       ],
       "_model_module_version": "~2.1.4",
       "_view_module_version": "~2.1.4",
       "children": [
        "IPY_MODEL_0afd8cd284b746d496ef97b4094f4669",
        "IPY_MODEL_3e3a8ce49eeb4c32bacc4ac85f2751b6"
       ],
       "layout": "IPY_MODEL_5dce620733554a37accad8b302772bb3"
      }
     },
     "9d876993c9944e37bf8e16fbd7755e80": {
      "model_module": "jupyter-js-widgets",
      "model_module_version": "~2.1.4",
      "model_name": "DropdownModel",
      "state": {
       "_model_module_version": "~2.1.4",
       "_options_labels": [
        "0",
        "1",
        "2",
        "3",
        "4",
        "5",
        "6"
       ],
       "_view_module_version": "~2.1.4",
       "description": "round_number",
       "layout": "IPY_MODEL_b76f2f734e564be29942d54353be7345",
       "value": "0"
      }
     },
     "9e9110241b84422198d5829864b5193b": {
      "model_module": "jupyter-js-widgets",
      "model_module_version": "~2.1.4",
      "model_name": "LayoutModel",
      "state": {
       "_model_module_version": "~2.1.4",
       "_view_module_version": "~2.1.4"
      }
     },
     "9f1d7597f6084322bc3d70e080480e77": {
      "model_module": "jupyter-js-widgets",
      "model_module_version": "~2.1.4",
      "model_name": "LayoutModel",
      "state": {
       "_model_module_version": "~2.1.4",
       "_view_module_version": "~2.1.4"
      }
     },
     "9f6efe4ac2d8402d909fb3a131565004": {
      "model_module": "jupyter-js-widgets",
      "model_module_version": "~2.1.4",
      "model_name": "OutputModel",
      "state": {
       "_dom_classes": [],
       "_model_module": "jupyter-js-widgets",
       "_model_module_version": "~2.1.4",
       "_view_module": "jupyter-js-widgets",
       "_view_module_version": "~2.1.4",
       "layout": "IPY_MODEL_3700d496a21741bda0a1f03828c0781d",
       "msg_throttle": 1
      }
     },
     "9f731d82d08a48dabf28a8a986ec4b9a": {
      "model_module": "jupyter-js-widgets",
      "model_module_version": "~2.1.4",
      "model_name": "SliderStyleModel",
      "state": {
       "_model_module_version": "~2.1.4",
       "_view_module_version": "~2.1.4"
      }
     },
     "9f73682f55b74eb39d5eaf317202c8db": {
      "model_module": "jupyter-js-widgets",
      "model_module_version": "~2.1.4",
      "model_name": "VBoxModel",
      "state": {
       "_dom_classes": [
        "widget-interact"
       ],
       "_model_module_version": "~2.1.4",
       "_view_module_version": "~2.1.4",
       "children": [
        "IPY_MODEL_0227774ca2ec4a8d93fa395c04dade2e",
        "IPY_MODEL_8e5e3832ab224e58950b77621e0d56fc"
       ],
       "layout": "IPY_MODEL_fdf850d03905400d9d487eac2f6b2d62"
      }
     },
     "a0285c1bdfd748378cd231cfeed09f08": {
      "model_module": "jupyter-js-widgets",
      "model_module_version": "~2.1.4",
      "model_name": "VBoxModel",
      "state": {
       "_dom_classes": [
        "widget-interact"
       ],
       "_model_module_version": "~2.1.4",
       "_view_module_version": "~2.1.4",
       "children": [
        "IPY_MODEL_82076a58c09745c7bddd89f4675155bb",
        "IPY_MODEL_dd32e99928be4fde9f9be006e27f57d4"
       ],
       "layout": "IPY_MODEL_0b4f7841d54849f993d73690aca63c9d"
      }
     },
     "a0bee9de3cfb45d0bba6bcb61de77b88": {
      "model_module": "jupyter-js-widgets",
      "model_module_version": "~2.1.4",
      "model_name": "SliderStyleModel",
      "state": {
       "_model_module_version": "~2.1.4",
       "_view_module_version": "~2.1.4"
      }
     },
     "a2b89738b3944e10a0731865f1003f48": {
      "model_module": "jupyter-js-widgets",
      "model_module_version": "~2.1.4",
      "model_name": "VBoxModel",
      "state": {
       "_dom_classes": [
        "widget-interact"
       ],
       "_model_module_version": "~2.1.4",
       "_view_module_version": "~2.1.4",
       "children": [
        "IPY_MODEL_7d9fdeab9f4e4575a64239e5c9f59151",
        "IPY_MODEL_1ffdfde099744498936bd7ae5b23240e",
        "IPY_MODEL_176561f10eb849c690c7560f35658705",
        "IPY_MODEL_c8dec15d57f84824a62e20b0d417eb39"
       ],
       "layout": "IPY_MODEL_7caf9d462db54aa9a181342710c9e05d"
      }
     },
     "a3151959d5bc4722a1c972a22e44c77f": {
      "model_module": "jupyter-js-widgets",
      "model_module_version": "~2.1.4",
      "model_name": "OutputModel",
      "state": {
       "_dom_classes": [],
       "_model_module": "jupyter-js-widgets",
       "_model_module_version": "~2.1.4",
       "_view_module": "jupyter-js-widgets",
       "_view_module_version": "~2.1.4",
       "layout": "IPY_MODEL_9e9110241b84422198d5829864b5193b",
       "msg_throttle": 1
      }
     },
     "a35147e4bc284bd481aa16a721e81715": {
      "model_module": "jupyter-js-widgets",
      "model_module_version": "~2.1.4",
      "model_name": "LayoutModel",
      "state": {
       "_model_module_version": "~2.1.4",
       "_view_module_version": "~2.1.4"
      }
     },
     "a36f6d79469c4447828daf4f17f414e6": {
      "model_module": "jupyter-js-widgets",
      "model_module_version": "~2.1.4",
      "model_name": "VBoxModel",
      "state": {
       "_dom_classes": [
        "widget-interact"
       ],
       "_model_module_version": "~2.1.4",
       "_view_module_version": "~2.1.4",
       "children": [
        "IPY_MODEL_96e78df8c4ea4435a861507c4a8786d1",
        "IPY_MODEL_7447307ed998410698597cc351612aba"
       ],
       "layout": "IPY_MODEL_d9e0440707e347e3a20559e0492663dc"
      }
     },
     "a3e86c9bc8c4449e995bc73136cc7464": {
      "model_module": "jupyter-js-widgets",
      "model_module_version": "~2.1.4",
      "model_name": "LayoutModel",
      "state": {
       "_model_module_version": "~2.1.4",
       "_view_module_version": "~2.1.4"
      }
     },
     "a45a8049cea842c58f8bd25305d728cc": {
      "model_module": "jupyter-js-widgets",
      "model_module_version": "~2.1.4",
      "model_name": "LayoutModel",
      "state": {
       "_model_module_version": "~2.1.4",
       "_view_module_version": "~2.1.4"
      }
     },
     "a5ec8fd889874a6e90f2bae977491533": {
      "model_module": "jupyter-js-widgets",
      "model_module_version": "~2.1.4",
      "model_name": "IntSliderModel",
      "state": {
       "_model_module_version": "~2.1.4",
       "_view_module_version": "~2.1.4",
       "description": "sample_size",
       "layout": "IPY_MODEL_a893e547344541b2a330d0034b973f3c",
       "max": 300,
       "min": -100,
       "style": "IPY_MODEL_bd1013759b7042a9b3fa537627efed98",
       "value": 100
      }
     },
     "a8151cc6e1be4b748440fe9cc307751f": {
      "model_module": "jupyter-js-widgets",
      "model_module_version": "~2.1.4",
      "model_name": "DropdownModel",
      "state": {
       "_model_module_version": "~2.1.4",
       "_options_labels": [
        "0",
        "1",
        "2",
        "3",
        "4",
        "5",
        "6"
       ],
       "_view_module_version": "~2.1.4",
       "description": "round_number",
       "layout": "IPY_MODEL_207d320d18ce4278bc87589c3bd30f1b",
       "value": "0"
      }
     },
     "a889226f400b402c8af6b7c4ebf7e321": {
      "model_module": "jupyter-js-widgets",
      "model_module_version": "~2.1.4",
      "model_name": "LayoutModel",
      "state": {
       "_model_module_version": "~2.1.4",
       "_view_module_version": "~2.1.4"
      }
     },
     "a893e547344541b2a330d0034b973f3c": {
      "model_module": "jupyter-js-widgets",
      "model_module_version": "~2.1.4",
      "model_name": "LayoutModel",
      "state": {
       "_model_module_version": "~2.1.4",
       "_view_module_version": "~2.1.4"
      }
     },
     "a947e895ab754cad9eb6719952c5c120": {
      "model_module": "jupyter-js-widgets",
      "model_module_version": "~2.1.4",
      "model_name": "VBoxModel",
      "state": {
       "_dom_classes": [
        "widget-interact"
       ],
       "_model_module_version": "~2.1.4",
       "_view_module_version": "~2.1.4",
       "children": [
        "IPY_MODEL_890704bc5ea4489bac4263006d2133b2",
        "IPY_MODEL_e5352c95c2f346c5adb001eef816d369"
       ],
       "layout": "IPY_MODEL_8c1b705c87594741a7edb23519063a03"
      }
     },
     "aaabb293fbf84c8eb753b1a7b5e2b204": {
      "model_module": "jupyter-js-widgets",
      "model_module_version": "~2.1.4",
      "model_name": "OutputModel",
      "state": {
       "_dom_classes": [],
       "_model_module": "jupyter-js-widgets",
       "_model_module_version": "~2.1.4",
       "_view_module": "jupyter-js-widgets",
       "_view_module_version": "~2.1.4",
       "layout": "IPY_MODEL_3e47a97c8922458ea96d6f1731f9483a",
       "msg_throttle": 1
      }
     },
     "aab3381be4a741db938bf933e1b1653b": {
      "model_module": "jupyter-js-widgets",
      "model_module_version": "~2.1.4",
      "model_name": "LayoutModel",
      "state": {
       "_model_module_version": "~2.1.4",
       "_view_module_version": "~2.1.4"
      }
     },
     "aabcf93d4f5545b7b138a1ff788cb5eb": {
      "model_module": "jupyter-js-widgets",
      "model_module_version": "~2.1.4",
      "model_name": "VBoxModel",
      "state": {
       "_dom_classes": [
        "widget-interact"
       ],
       "_model_module_version": "~2.1.4",
       "_view_module_version": "~2.1.4",
       "children": [
        "IPY_MODEL_c578dc2df426446cb006d2f36f367c9e",
        "IPY_MODEL_19d481d82a4f4ec0811300d2b13bfcf2",
        "IPY_MODEL_26ac7ecbe9c3440da54ff2bb64a38971",
        "IPY_MODEL_dd530303eaa24404adb4b679692843a9"
       ],
       "layout": "IPY_MODEL_be9f49b5ff784f78a7cf84bd65972fe2"
      }
     },
     "acd26371c92841f09028d6511385d0f2": {
      "model_module": "jupyter-js-widgets",
      "model_module_version": "~2.1.4",
      "model_name": "LayoutModel",
      "state": {
       "_model_module_version": "~2.1.4",
       "_view_module_version": "~2.1.4"
      }
     },
     "ae327e20ea5541d5a6ebb6c40887c619": {
      "model_module": "jupyter-js-widgets",
      "model_module_version": "~2.1.4",
      "model_name": "LayoutModel",
      "state": {
       "_model_module_version": "~2.1.4",
       "_view_module_version": "~2.1.4"
      }
     },
     "ae71cb14947a4242afe3811c27a5cafc": {
      "model_module": "jupyter-js-widgets",
      "model_module_version": "~2.1.4",
      "model_name": "LayoutModel",
      "state": {
       "_model_module_version": "~2.1.4",
       "_view_module_version": "~2.1.4"
      }
     },
     "aff1462f8f1f4e259117baf3a1935cf2": {
      "model_module": "jupyter-js-widgets",
      "model_module_version": "~2.1.4",
      "model_name": "OutputModel",
      "state": {
       "_dom_classes": [],
       "_model_module": "jupyter-js-widgets",
       "_model_module_version": "~2.1.4",
       "_view_module": "jupyter-js-widgets",
       "_view_module_version": "~2.1.4",
       "layout": "IPY_MODEL_fce6509667eb45ad946e9e652cc60de6",
       "msg_throttle": 1
      }
     },
     "b2cf3eb890734671ac3952c6bfb6b1a8": {
      "model_module": "jupyter-js-widgets",
      "model_module_version": "~2.1.4",
      "model_name": "LayoutModel",
      "state": {
       "_model_module_version": "~2.1.4",
       "_view_module_version": "~2.1.4"
      }
     },
     "b2d4a7ae319e4b3f953dc93380e37be9": {
      "model_module": "jupyter-js-widgets",
      "model_module_version": "~2.1.4",
      "model_name": "DropdownModel",
      "state": {
       "_model_module_version": "~2.1.4",
       "_options_labels": [
        "343",
        "352",
        "433",
        "442",
        "451",
        "532",
        "541"
       ],
       "_view_module_version": "~2.1.4",
       "description": "formation_type",
       "layout": "IPY_MODEL_59e4fcab7195489fa982bab9511bf896",
       "value": "343"
      }
     },
     "b2e7addd70eb412688dea09f76e9f5c4": {
      "model_module": "jupyter-js-widgets",
      "model_module_version": "~2.1.4",
      "model_name": "LayoutModel",
      "state": {
       "_model_module_version": "~2.1.4",
       "_view_module_version": "~2.1.4"
      }
     },
     "b3555c2f75df42afba9ddfa3dafdf823": {
      "model_module": "jupyter-js-widgets",
      "model_module_version": "~2.1.4",
      "model_name": "LayoutModel",
      "state": {
       "_model_module_version": "~2.1.4",
       "_view_module_version": "~2.1.4"
      }
     },
     "b3da8ba8a44943a396d697c4c5d965a8": {
      "model_module": "jupyter-js-widgets",
      "model_module_version": "~2.1.4",
      "model_name": "VBoxModel",
      "state": {
       "_dom_classes": [
        "widget-interact"
       ],
       "_model_module_version": "~2.1.4",
       "_view_module_version": "~2.1.4",
       "children": [
        "IPY_MODEL_fe15ec61d381445c8dae6f9e37e0821f",
        "IPY_MODEL_18dd9e68f24648549da6dfd88b4a5321"
       ],
       "layout": "IPY_MODEL_686b775d58834bbe850042cd5356fe1d"
      }
     },
     "b6c75b961904440eb0026075775f7760": {
      "model_module": "jupyter-js-widgets",
      "model_module_version": "~2.1.4",
      "model_name": "VBoxModel",
      "state": {
       "_dom_classes": [
        "widget-interact"
       ],
       "_model_module_version": "~2.1.4",
       "_view_module_version": "~2.1.4",
       "children": [
        "IPY_MODEL_4236ab238f7d4915ba859996ac2a70a1",
        "IPY_MODEL_94ce227da1334fc480a32d6e71a47a1e"
       ],
       "layout": "IPY_MODEL_c5bf38ef4ad842bdbfbbacce0114e109"
      }
     },
     "b76f2f734e564be29942d54353be7345": {
      "model_module": "jupyter-js-widgets",
      "model_module_version": "~2.1.4",
      "model_name": "LayoutModel",
      "state": {
       "_model_module_version": "~2.1.4",
       "_view_module_version": "~2.1.4"
      }
     },
     "b8220a5754f0464f86333b2f245774a4": {
      "model_module": "jupyter-js-widgets",
      "model_module_version": "~2.1.4",
      "model_name": "VBoxModel",
      "state": {
       "_dom_classes": [
        "widget-interact"
       ],
       "_model_module_version": "~2.1.4",
       "_view_module_version": "~2.1.4",
       "children": [
        "IPY_MODEL_cacd1c31ec7c489db7f1ad05616ae96f",
        "IPY_MODEL_4be642a8bd124694b15fb759148e7944"
       ],
       "layout": "IPY_MODEL_7cb7590e01634245a89fbcf1b58c61dc"
      }
     },
     "b9a0fddd9ba941268c44f71393739186": {
      "model_module": "jupyter-js-widgets",
      "model_module_version": "~2.1.4",
      "model_name": "LayoutModel",
      "state": {
       "_model_module_version": "~2.1.4",
       "_view_module_version": "~2.1.4"
      }
     },
     "bba224c8c46344de8a3172e72be23e85": {
      "model_module": "jupyter-js-widgets",
      "model_module_version": "~2.1.4",
      "model_name": "LayoutModel",
      "state": {
       "_model_module_version": "~2.1.4",
       "_view_module_version": "~2.1.4"
      }
     },
     "bc92f89e13444429a0c544325d34bb93": {
      "model_module": "jupyter-js-widgets",
      "model_module_version": "~2.1.4",
      "model_name": "LayoutModel",
      "state": {
       "_model_module_version": "~2.1.4",
       "_view_module_version": "~2.1.4"
      }
     },
     "bd1013759b7042a9b3fa537627efed98": {
      "model_module": "jupyter-js-widgets",
      "model_module_version": "~2.1.4",
      "model_name": "SliderStyleModel",
      "state": {
       "_model_module_version": "~2.1.4",
       "_view_module_version": "~2.1.4"
      }
     },
     "bdda2f62318e4897936deb34d0eae9b5": {
      "model_module": "jupyter-js-widgets",
      "model_module_version": "~2.1.4",
      "model_name": "DropdownModel",
      "state": {
       "_model_module_version": "~2.1.4",
       "_options_labels": [
        "0",
        "1",
        "2",
        "3",
        "4",
        "5",
        "6"
       ],
       "_view_module_version": "~2.1.4",
       "description": "round_number",
       "layout": "IPY_MODEL_c4fef43483cc4e5180acbfc181aac264",
       "value": "0"
      }
     },
     "be9f49b5ff784f78a7cf84bd65972fe2": {
      "model_module": "jupyter-js-widgets",
      "model_module_version": "~2.1.4",
      "model_name": "LayoutModel",
      "state": {
       "_model_module_version": "~2.1.4",
       "_view_module_version": "~2.1.4"
      }
     },
     "c05cdf58f65f46e0ae766924eb6e0586": {
      "model_module": "jupyter-js-widgets",
      "model_module_version": "~2.1.4",
      "model_name": "IntSliderModel",
      "state": {
       "_model_module_version": "~2.1.4",
       "_view_module_version": "~2.1.4",
       "description": "sample_size",
       "layout": "IPY_MODEL_c24b791de4744f14a7076d73d879dbe7",
       "max": 300,
       "min": -100,
       "style": "IPY_MODEL_d4b6d5afb7974f55869fb814750a348d",
       "value": 100
      }
     },
     "c24b791de4744f14a7076d73d879dbe7": {
      "model_module": "jupyter-js-widgets",
      "model_module_version": "~2.1.4",
      "model_name": "LayoutModel",
      "state": {
       "_model_module_version": "~2.1.4",
       "_view_module_version": "~2.1.4"
      }
     },
     "c263ef206f4f47e88f88570c35135217": {
      "model_module": "jupyter-js-widgets",
      "model_module_version": "~2.1.4",
      "model_name": "OutputModel",
      "state": {
       "_dom_classes": [],
       "_model_module": "jupyter-js-widgets",
       "_model_module_version": "~2.1.4",
       "_view_module": "jupyter-js-widgets",
       "_view_module_version": "~2.1.4",
       "layout": "IPY_MODEL_f0e21a5fc0ee4c848a4d74a9b1812728",
       "msg_throttle": 1
      }
     },
     "c4b4c19cf0e44f6c80bd319ed106c6c7": {
      "model_module": "jupyter-js-widgets",
      "model_module_version": "~2.1.4",
      "model_name": "SliderStyleModel",
      "state": {
       "_model_module_version": "~2.1.4",
       "_view_module_version": "~2.1.4"
      }
     },
     "c4fef43483cc4e5180acbfc181aac264": {
      "model_module": "jupyter-js-widgets",
      "model_module_version": "~2.1.4",
      "model_name": "LayoutModel",
      "state": {
       "_model_module_version": "~2.1.4",
       "_view_module_version": "~2.1.4"
      }
     },
     "c578dc2df426446cb006d2f36f367c9e": {
      "model_module": "jupyter-js-widgets",
      "model_module_version": "~2.1.4",
      "model_name": "DropdownModel",
      "state": {
       "_model_module_version": "~2.1.4",
       "_options_labels": [
        "0",
        "1",
        "2",
        "3",
        "4",
        "5",
        "6"
       ],
       "_view_module_version": "~2.1.4",
       "description": "round_number",
       "layout": "IPY_MODEL_ae327e20ea5541d5a6ebb6c40887c619",
       "value": "6"
      }
     },
     "c5bf38ef4ad842bdbfbbacce0114e109": {
      "model_module": "jupyter-js-widgets",
      "model_module_version": "~2.1.4",
      "model_name": "LayoutModel",
      "state": {
       "_model_module_version": "~2.1.4",
       "_view_module_version": "~2.1.4"
      }
     },
     "c5d3496309734227b3796fcf7e51a9da": {
      "model_module": "jupyter-js-widgets",
      "model_module_version": "~2.1.4",
      "model_name": "LayoutModel",
      "state": {
       "_model_module_version": "~2.1.4",
       "_view_module_version": "~2.1.4"
      }
     },
     "c8275ee353184dc4b408d06e4d12dd98": {
      "model_module": "jupyter-js-widgets",
      "model_module_version": "~2.1.4",
      "model_name": "IntSliderModel",
      "state": {
       "_model_module_version": "~2.1.4",
       "_view_module_version": "~2.1.4",
       "description": "sample_size",
       "layout": "IPY_MODEL_f59de90b409e4e369cab7cf2b2d712c4",
       "max": 300,
       "min": -100,
       "style": "IPY_MODEL_3018896c477a4b81af3ec3e37470efff",
       "value": 100
      }
     },
     "c8dec15d57f84824a62e20b0d417eb39": {
      "model_module": "jupyter-js-widgets",
      "model_module_version": "~2.1.4",
      "model_name": "OutputModel",
      "state": {
       "_dom_classes": [],
       "_model_module": "jupyter-js-widgets",
       "_model_module_version": "~2.1.4",
       "_view_module": "jupyter-js-widgets",
       "_view_module_version": "~2.1.4",
       "layout": "IPY_MODEL_26d8f99a3d504cc2ab3ea347858ad4e8",
       "msg_throttle": 1
      }
     },
     "c97b9b224f5d4470857e3142cb488d64": {
      "model_module": "jupyter-js-widgets",
      "model_module_version": "~2.1.4",
      "model_name": "IntSliderModel",
      "state": {
       "_model_module_version": "~2.1.4",
       "_view_module_version": "~2.1.4",
       "description": "sample_size",
       "layout": "IPY_MODEL_4d7ac3dee9b54429a571a6f36810f57b",
       "max": 300,
       "min": -100,
       "style": "IPY_MODEL_1e02cd8188dd46479ccc81cec131e72a",
       "value": 100
      }
     },
     "c994ad42aac344d48f7d31b86158600f": {
      "model_module": "jupyter-js-widgets",
      "model_module_version": "~2.1.4",
      "model_name": "DropdownModel",
      "state": {
       "_model_module_version": "~2.1.4",
       "_options_labels": [
        "343",
        "352",
        "433",
        "442",
        "451",
        "532",
        "541"
       ],
       "_view_module_version": "~2.1.4",
       "description": "formation_type",
       "layout": "IPY_MODEL_3fb5d3f95e6746e4a044f803cb1ab677",
       "value": "343"
      }
     },
     "cacd1c31ec7c489db7f1ad05616ae96f": {
      "model_module": "jupyter-js-widgets",
      "model_module_version": "~2.1.4",
      "model_name": "DropdownModel",
      "state": {
       "_model_module_version": "~2.1.4",
       "_options_labels": [
        "0",
        "1",
        "2",
        "3",
        "4",
        "5",
        "6",
        "7",
        "8",
        "9",
        "10",
        "11"
       ],
       "_view_module_version": "~2.1.4",
       "description": "number_of_days",
       "layout": "IPY_MODEL_bba224c8c46344de8a3172e72be23e85",
       "value": "0"
      }
     },
     "cdae7d45072d41fca0aa087d2d77eda6": {
      "model_module": "jupyter-js-widgets",
      "model_module_version": "~2.1.4",
      "model_name": "OutputModel",
      "state": {
       "_dom_classes": [],
       "_model_module": "jupyter-js-widgets",
       "_model_module_version": "~2.1.4",
       "_view_module": "jupyter-js-widgets",
       "_view_module_version": "~2.1.4",
       "layout": "IPY_MODEL_e9321e20495a4da797f93dd8a9e60878",
       "msg_throttle": 1
      }
     },
     "cde485dfef514f92a43eb51ddf2b7282": {
      "model_module": "jupyter-js-widgets",
      "model_module_version": "~2.1.4",
      "model_name": "LayoutModel",
      "state": {
       "_model_module_version": "~2.1.4",
       "_view_module_version": "~2.1.4"
      }
     },
     "d3ed8e4bfc444f61bb53a67d48e487e7": {
      "model_module": "jupyter-js-widgets",
      "model_module_version": "~2.1.4",
      "model_name": "VBoxModel",
      "state": {
       "_dom_classes": [
        "widget-interact"
       ],
       "_model_module_version": "~2.1.4",
       "_view_module_version": "~2.1.4",
       "layout": "IPY_MODEL_88b17c782bf34b049c7afb927be5ad44"
      }
     },
     "d4b6d5afb7974f55869fb814750a348d": {
      "model_module": "jupyter-js-widgets",
      "model_module_version": "~2.1.4",
      "model_name": "SliderStyleModel",
      "state": {
       "_model_module_version": "~2.1.4",
       "_view_module_version": "~2.1.4"
      }
     },
     "d5a81b40f7954652bb4b60eab4310e0e": {
      "model_module": "jupyter-js-widgets",
      "model_module_version": "~2.1.4",
      "model_name": "OutputModel",
      "state": {
       "_dom_classes": [],
       "_model_module": "jupyter-js-widgets",
       "_model_module_version": "~2.1.4",
       "_view_module": "jupyter-js-widgets",
       "_view_module_version": "~2.1.4",
       "layout": "IPY_MODEL_bc92f89e13444429a0c544325d34bb93",
       "msg_throttle": 1
      }
     },
     "d742567eb5ce43fba5956c043794d9aa": {
      "model_module": "jupyter-js-widgets",
      "model_module_version": "~2.1.4",
      "model_name": "LayoutModel",
      "state": {
       "_model_module_version": "~2.1.4",
       "_view_module_version": "~2.1.4"
      }
     },
     "d9916df4429747b798b8b1c615e7277e": {
      "model_module": "jupyter-js-widgets",
      "model_module_version": "~2.1.4",
      "model_name": "LayoutModel",
      "state": {
       "_model_module_version": "~2.1.4",
       "_view_module_version": "~2.1.4"
      }
     },
     "d9e0440707e347e3a20559e0492663dc": {
      "model_module": "jupyter-js-widgets",
      "model_module_version": "~2.1.4",
      "model_name": "LayoutModel",
      "state": {
       "_model_module_version": "~2.1.4",
       "_view_module_version": "~2.1.4"
      }
     },
     "dacbca1aa97b46f2b98c71db7cad477f": {
      "model_module": "jupyter-js-widgets",
      "model_module_version": "~2.1.4",
      "model_name": "LayoutModel",
      "state": {
       "_model_module_version": "~2.1.4",
       "_view_module_version": "~2.1.4"
      }
     },
     "dd0aa0af02cd4fb087d32647d4effe7b": {
      "model_module": "jupyter-js-widgets",
      "model_module_version": "~2.1.4",
      "model_name": "DropdownModel",
      "state": {
       "_model_module_version": "~2.1.4",
       "_options_labels": [
        "0",
        "1",
        "2",
        "3",
        "4",
        "5",
        "6"
       ],
       "_view_module_version": "~2.1.4",
       "description": "round_number",
       "layout": "IPY_MODEL_7b49d602dd3b4db2be829179b6b735c1",
       "value": "2"
      }
     },
     "dd32e99928be4fde9f9be006e27f57d4": {
      "model_module": "jupyter-js-widgets",
      "model_module_version": "~2.1.4",
      "model_name": "OutputModel",
      "state": {
       "_dom_classes": [],
       "_model_module": "jupyter-js-widgets",
       "_model_module_version": "~2.1.4",
       "_view_module": "jupyter-js-widgets",
       "_view_module_version": "~2.1.4",
       "layout": "IPY_MODEL_077444ece37e46ce85f8d6a6097fab08",
       "msg_throttle": 1
      }
     },
     "dd530303eaa24404adb4b679692843a9": {
      "model_module": "jupyter-js-widgets",
      "model_module_version": "~2.1.4",
      "model_name": "OutputModel",
      "state": {
       "_dom_classes": [],
       "_model_module": "jupyter-js-widgets",
       "_model_module_version": "~2.1.4",
       "_view_module": "jupyter-js-widgets",
       "_view_module_version": "~2.1.4",
       "layout": "IPY_MODEL_497d95b731724fb4a753b742ba219cd9",
       "msg_throttle": 1
      }
     },
     "e1c2ab75379f4c749eaa4ee14b348bd5": {
      "model_module": "jupyter-js-widgets",
      "model_module_version": "~2.1.4",
      "model_name": "LayoutModel",
      "state": {
       "_model_module_version": "~2.1.4",
       "_view_module_version": "~2.1.4"
      }
     },
     "e1c8c57522234fd4936f2daf07f7c517": {
      "model_module": "jupyter-js-widgets",
      "model_module_version": "~2.1.4",
      "model_name": "VBoxModel",
      "state": {
       "_dom_classes": [
        "widget-interact"
       ],
       "_model_module_version": "~2.1.4",
       "_view_module_version": "~2.1.4",
       "children": [
        "IPY_MODEL_2c9db450b4b74a149abbb41594c9ad29",
        "IPY_MODEL_6aff163d5c1d4b178576f3dc404df768"
       ],
       "layout": "IPY_MODEL_7505ef2f64ac427e9808aa75d1866448"
      }
     },
     "e29b3deba59e45218007f5da33b561c0": {
      "model_module": "jupyter-js-widgets",
      "model_module_version": "~2.1.4",
      "model_name": "DropdownModel",
      "state": {
       "_model_module_version": "~2.1.4",
       "_options_labels": [
        "0",
        "1",
        "2",
        "3",
        "4",
        "5",
        "6"
       ],
       "_view_module_version": "~2.1.4",
       "description": "round_number",
       "layout": "IPY_MODEL_076d2e14d8af435f83bc03894e2c24b6",
       "value": "0"
      }
     },
     "e4570db520cd4f409d5a410c043d1876": {
      "model_module": "jupyter-js-widgets",
      "model_module_version": "~2.1.4",
      "model_name": "LayoutModel",
      "state": {
       "_model_module_version": "~2.1.4",
       "_view_module_version": "~2.1.4"
      }
     },
     "e5352c95c2f346c5adb001eef816d369": {
      "model_module": "jupyter-js-widgets",
      "model_module_version": "~2.1.4",
      "model_name": "OutputModel",
      "state": {
       "_dom_classes": [],
       "_model_module": "jupyter-js-widgets",
       "_model_module_version": "~2.1.4",
       "_view_module": "jupyter-js-widgets",
       "_view_module_version": "~2.1.4",
       "layout": "IPY_MODEL_2ec376fca2f64e62a57aa1e8f5e458ee",
       "msg_throttle": 1
      }
     },
     "e6baa7b13afc4fb68727d57f48064ff4": {
      "model_module": "jupyter-js-widgets",
      "model_module_version": "~2.1.4",
      "model_name": "LayoutModel",
      "state": {
       "_model_module_version": "~2.1.4",
       "_view_module_version": "~2.1.4"
      }
     },
     "e7eca6f213734a99b2ee5d5561919d70": {
      "model_module": "jupyter-js-widgets",
      "model_module_version": "~2.1.4",
      "model_name": "SliderStyleModel",
      "state": {
       "_model_module_version": "~2.1.4",
       "_view_module_version": "~2.1.4"
      }
     },
     "e81754095e954081a11cebd4be42582a": {
      "model_module": "jupyter-js-widgets",
      "model_module_version": "~2.1.4",
      "model_name": "LayoutModel",
      "state": {
       "_model_module_version": "~2.1.4",
       "_view_module_version": "~2.1.4"
      }
     },
     "e8fc7e2c078d46459c746ce1a4f10d02": {
      "model_module": "jupyter-js-widgets",
      "model_module_version": "~2.1.4",
      "model_name": "LayoutModel",
      "state": {
       "_model_module_version": "~2.1.4",
       "_view_module_version": "~2.1.4"
      }
     },
     "e9223a9e337447e9b59115c6bd364dd1": {
      "model_module": "jupyter-js-widgets",
      "model_module_version": "~2.1.4",
      "model_name": "OutputModel",
      "state": {
       "_dom_classes": [],
       "_model_module": "jupyter-js-widgets",
       "_model_module_version": "~2.1.4",
       "_view_module": "jupyter-js-widgets",
       "_view_module_version": "~2.1.4",
       "layout": "IPY_MODEL_b3555c2f75df42afba9ddfa3dafdf823",
       "msg_throttle": 1
      }
     },
     "e9321e20495a4da797f93dd8a9e60878": {
      "model_module": "jupyter-js-widgets",
      "model_module_version": "~2.1.4",
      "model_name": "LayoutModel",
      "state": {
       "_model_module_version": "~2.1.4",
       "_view_module_version": "~2.1.4"
      }
     },
     "e987ec836af440248e8b34ac4fecb9ca": {
      "model_module": "jupyter-js-widgets",
      "model_module_version": "~2.1.4",
      "model_name": "LayoutModel",
      "state": {
       "_model_module_version": "~2.1.4",
       "_view_module_version": "~2.1.4"
      }
     },
     "eca72bdfa5354df0a42c5e554b8c52c1": {
      "model_module": "jupyter-js-widgets",
      "model_module_version": "~2.1.4",
      "model_name": "LayoutModel",
      "state": {
       "_model_module_version": "~2.1.4",
       "_view_module_version": "~2.1.4"
      }
     },
     "ed9847bb3edc4240a132c38d8c7f683b": {
      "model_module": "jupyter-js-widgets",
      "model_module_version": "~2.1.4",
      "model_name": "VBoxModel",
      "state": {
       "_dom_classes": [
        "widget-interact"
       ],
       "_model_module_version": "~2.1.4",
       "_view_module_version": "~2.1.4",
       "children": [
        "IPY_MODEL_940fba629ab948cd9f99a462f8a06fe5",
        "IPY_MODEL_6850dd5365104de0a9272263581f625c"
       ],
       "layout": "IPY_MODEL_28a727f26f1b4398a00f2c4ba704877f"
      }
     },
     "ef2dd11c80c64530afc296f2273617a3": {
      "model_module": "jupyter-js-widgets",
      "model_module_version": "~2.1.4",
      "model_name": "VBoxModel",
      "state": {
       "_dom_classes": [
        "widget-interact"
       ],
       "_model_module_version": "~2.1.4",
       "_view_module_version": "~2.1.4",
       "children": [
        "IPY_MODEL_bdda2f62318e4897936deb34d0eae9b5",
        "IPY_MODEL_14b10daf67ac4fd396be20c5827d4651",
        "IPY_MODEL_c8275ee353184dc4b408d06e4d12dd98",
        "IPY_MODEL_8920707fab9e48158b301933f68073a0"
       ],
       "layout": "IPY_MODEL_f77ad28ba1c04d9d873354eb57e4ff18"
      }
     },
     "f0400137cfad4c2c970a4df18069a4a7": {
      "model_module": "jupyter-js-widgets",
      "model_module_version": "~2.1.4",
      "model_name": "LayoutModel",
      "state": {
       "_model_module_version": "~2.1.4",
       "_view_module_version": "~2.1.4"
      }
     },
     "f0e21a5fc0ee4c848a4d74a9b1812728": {
      "model_module": "jupyter-js-widgets",
      "model_module_version": "~2.1.4",
      "model_name": "LayoutModel",
      "state": {
       "_model_module_version": "~2.1.4",
       "_view_module_version": "~2.1.4"
      }
     },
     "f426f7f6c68d428b818db041d6c32d4e": {
      "model_module": "jupyter-js-widgets",
      "model_module_version": "~2.1.4",
      "model_name": "LayoutModel",
      "state": {
       "_model_module_version": "~2.1.4",
       "_view_module_version": "~2.1.4"
      }
     },
     "f44b6419e55245bd9a041dc276f64430": {
      "model_module": "jupyter-js-widgets",
      "model_module_version": "~2.1.4",
      "model_name": "OutputModel",
      "state": {
       "_dom_classes": [],
       "_model_module": "jupyter-js-widgets",
       "_model_module_version": "~2.1.4",
       "_view_module": "jupyter-js-widgets",
       "_view_module_version": "~2.1.4",
       "layout": "IPY_MODEL_2daa3e92c4f046b9894e4d343d7ec5b4",
       "msg_throttle": 1
      }
     },
     "f59de90b409e4e369cab7cf2b2d712c4": {
      "model_module": "jupyter-js-widgets",
      "model_module_version": "~2.1.4",
      "model_name": "LayoutModel",
      "state": {
       "_model_module_version": "~2.1.4",
       "_view_module_version": "~2.1.4"
      }
     },
     "f77ad28ba1c04d9d873354eb57e4ff18": {
      "model_module": "jupyter-js-widgets",
      "model_module_version": "~2.1.4",
      "model_name": "LayoutModel",
      "state": {
       "_model_module_version": "~2.1.4",
       "_view_module_version": "~2.1.4"
      }
     },
     "f97343df5a764386a0feced63638f4be": {
      "model_module": "jupyter-js-widgets",
      "model_module_version": "~2.1.4",
      "model_name": "LayoutModel",
      "state": {
       "_model_module_version": "~2.1.4",
       "_view_module_version": "~2.1.4"
      }
     },
     "fa72534655ae4b75a7e3ed56b0c93957": {
      "model_module": "jupyter-js-widgets",
      "model_module_version": "~2.1.4",
      "model_name": "VBoxModel",
      "state": {
       "_dom_classes": [
        "widget-interact"
       ],
       "_model_module_version": "~2.1.4",
       "_view_module_version": "~2.1.4",
       "children": [
        "IPY_MODEL_dd0aa0af02cd4fb087d32647d4effe7b",
        "IPY_MODEL_28cc42769e7e49e4b3ba3aa069c76c2d",
        "IPY_MODEL_43365a46bdaa4e68b768f8662e66664d",
        "IPY_MODEL_2c3060bfdb314075961b168360f63409"
       ],
       "layout": "IPY_MODEL_6ea10f37b73445e0b98c1a2a46b26d11"
      }
     },
     "fae5fdbd39d24aa2999f19236a24d285": {
      "model_module": "jupyter-js-widgets",
      "model_module_version": "~2.1.4",
      "model_name": "LayoutModel",
      "state": {
       "_model_module_version": "~2.1.4",
       "_view_module_version": "~2.1.4"
      }
     },
     "fc1503437ea0411b9dd059b6357666af": {
      "model_module": "jupyter-js-widgets",
      "model_module_version": "~2.1.4",
      "model_name": "DropdownModel",
      "state": {
       "_model_module_version": "~2.1.4",
       "_options_labels": [
        "343",
        "352",
        "433",
        "442",
        "451",
        "532",
        "541"
       ],
       "_view_module_version": "~2.1.4",
       "description": "formation_type",
       "layout": "IPY_MODEL_6b753a2d30bd41c8a8103826564ee066",
       "value": "343"
      }
     },
     "fc906d4be86f4cad87f30defab72ed50": {
      "model_module": "jupyter-js-widgets",
      "model_module_version": "~2.1.4",
      "model_name": "LayoutModel",
      "state": {
       "_model_module_version": "~2.1.4",
       "_view_module_version": "~2.1.4"
      }
     },
     "fce6509667eb45ad946e9e652cc60de6": {
      "model_module": "jupyter-js-widgets",
      "model_module_version": "~2.1.4",
      "model_name": "LayoutModel",
      "state": {
       "_model_module_version": "~2.1.4",
       "_view_module_version": "~2.1.4"
      }
     },
     "fd853d8797a24cf1beda2733fe03026e": {
      "model_module": "jupyter-js-widgets",
      "model_module_version": "~2.1.4",
      "model_name": "LayoutModel",
      "state": {
       "_model_module_version": "~2.1.4",
       "_view_module_version": "~2.1.4"
      }
     },
     "fdcbbbdf8e874836bead926d5dab1b81": {
      "model_module": "jupyter-js-widgets",
      "model_module_version": "~2.1.4",
      "model_name": "VBoxModel",
      "state": {
       "_dom_classes": [
        "widget-interact"
       ],
       "_model_module_version": "~2.1.4",
       "_view_module_version": "~2.1.4",
       "children": [
        "IPY_MODEL_a8151cc6e1be4b748440fe9cc307751f",
        "IPY_MODEL_641aae21726943fe89b2136d1b945102",
        "IPY_MODEL_4cf7ef143e3d4d12aa9c556477292dfa",
        "IPY_MODEL_cdae7d45072d41fca0aa087d2d77eda6"
       ],
       "layout": "IPY_MODEL_99d42b7ad7f840199163036e0b86e30d"
      }
     },
     "fdf850d03905400d9d487eac2f6b2d62": {
      "model_module": "jupyter-js-widgets",
      "model_module_version": "~2.1.4",
      "model_name": "LayoutModel",
      "state": {
       "_model_module_version": "~2.1.4",
       "_view_module_version": "~2.1.4"
      }
     },
     "fe15ec61d381445c8dae6f9e37e0821f": {
      "model_module": "jupyter-js-widgets",
      "model_module_version": "~2.1.4",
      "model_name": "DropdownModel",
      "state": {
       "_model_module_version": "~2.1.4",
       "_options_labels": [
        "0",
        "1",
        "2",
        "3",
        "4",
        "5",
        "6"
       ],
       "_view_module_version": "~2.1.4",
       "description": "x",
       "layout": "IPY_MODEL_b2cf3eb890734671ac3952c6bfb6b1a8",
       "value": "0"
      }
     }
    },
    "version_major": 1,
    "version_minor": 0
   }
  }
 },
 "nbformat": 4,
 "nbformat_minor": 2
}
